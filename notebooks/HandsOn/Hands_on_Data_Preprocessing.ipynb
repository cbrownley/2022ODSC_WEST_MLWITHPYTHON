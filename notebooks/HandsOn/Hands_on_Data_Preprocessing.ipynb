{
 "cells": [
  {
   "cell_type": "code",
   "execution_count": 1,
   "metadata": {
    "id": "UCMF-FlUcpK_"
   },
   "outputs": [],
   "source": [
    "# Manage data and statistics\n",
    "import numpy as np\n",
    "from numpy.random import default_rng, SeedSequence\n",
    "import pandas as pd\n",
    "\n",
    "from scipy import stats\n",
    "from scipy.stats import norm, skewnorm, yeojohnson, boxcox, zscore\n",
    "from scipy.stats.mstats import winsorize\n",
    "\n",
    "# Plot data\n",
    "import matplotlib as mpl\n",
    "import matplotlib.pyplot as plt\n",
    "from matplotlib.ticker import FormatStrFormatter\n",
    "import seaborn as sns\n",
    "sns.set(style=\"white\")\n",
    "\n",
    "# Scale variables\n",
    "from sklearn.preprocessing import scale, StandardScaler\n",
    "from sklearn.preprocessing import minmax_scale, MinMaxScaler\n",
    "from sklearn.preprocessing import maxabs_scale, MaxAbsScaler\n",
    "from sklearn.preprocessing import robust_scale, RobustScaler\n",
    "\n",
    "# Transform variables\n",
    "from sklearn.preprocessing import quantile_transform, QuantileTransformer\n",
    "from sklearn.preprocessing import power_transform, PowerTransformer\n",
    "\n",
    "# Encode categorical variables\n",
    "from sklearn.preprocessing import OrdinalEncoder, OneHotEncoder, LabelEncoder\n",
    "\n",
    "# Discretize continuous variables\n",
    "from sklearn.preprocessing import KBinsDiscretizer\n",
    "\n",
    "# Impute missing values\n",
    "from sklearn.impute import SimpleImputer, KNNImputer, MissingIndicator\n",
    "from sklearn.experimental import enable_iterative_imputer\n",
    "from sklearn.impute import IterativeImputer"
   ]
  },
  {
   "cell_type": "code",
   "execution_count": 2,
   "metadata": {
    "colab": {
     "base_uri": "https://localhost:8080/",
     "height": 269
    },
    "id": "oR_Nebn0dBK0",
    "outputId": "66e6d72c-6693-4c99-cabc-2cf6961ff4f5"
   },
   "outputs": [
    {
     "data": {
      "text/html": [
       "<div>\n",
       "<style scoped>\n",
       "    .dataframe tbody tr th:only-of-type {\n",
       "        vertical-align: middle;\n",
       "    }\n",
       "\n",
       "    .dataframe tbody tr th {\n",
       "        vertical-align: top;\n",
       "    }\n",
       "\n",
       "    .dataframe thead th {\n",
       "        text-align: right;\n",
       "    }\n",
       "</style>\n",
       "<table border=\"1\" class=\"dataframe\">\n",
       "  <thead>\n",
       "    <tr style=\"text-align: right;\">\n",
       "      <th></th>\n",
       "      <th>id</th>\n",
       "      <th>date</th>\n",
       "      <th>age</th>\n",
       "      <th>income</th>\n",
       "      <th>gender</th>\n",
       "      <th>education</th>\n",
       "      <th>passed</th>\n",
       "      <th>measurement</th>\n",
       "    </tr>\n",
       "  </thead>\n",
       "  <tbody>\n",
       "    <tr>\n",
       "      <th>0</th>\n",
       "      <td>1000</td>\n",
       "      <td>2020-04-25</td>\n",
       "      <td>21</td>\n",
       "      <td>67000</td>\n",
       "      <td>Male</td>\n",
       "      <td>Bachelors</td>\n",
       "      <td>False</td>\n",
       "      <td>0.54</td>\n",
       "    </tr>\n",
       "    <tr>\n",
       "      <th>1</th>\n",
       "      <td>1001</td>\n",
       "      <td>2020-04-26</td>\n",
       "      <td>56</td>\n",
       "      <td>220000</td>\n",
       "      <td>Female</td>\n",
       "      <td>PhD</td>\n",
       "      <td>True</td>\n",
       "      <td>-0.13</td>\n",
       "    </tr>\n",
       "    <tr>\n",
       "      <th>2</th>\n",
       "      <td>1002</td>\n",
       "      <td>2020-04-27</td>\n",
       "      <td>33</td>\n",
       "      <td>97000</td>\n",
       "      <td>Female</td>\n",
       "      <td>Masters</td>\n",
       "      <td>True</td>\n",
       "      <td>-0.08</td>\n",
       "    </tr>\n",
       "    <tr>\n",
       "      <th>3</th>\n",
       "      <td>1003</td>\n",
       "      <td>2020-04-28</td>\n",
       "      <td>48</td>\n",
       "      <td>166000</td>\n",
       "      <td>Male</td>\n",
       "      <td>Masters</td>\n",
       "      <td>True</td>\n",
       "      <td>-0.04</td>\n",
       "    </tr>\n",
       "    <tr>\n",
       "      <th>4</th>\n",
       "      <td>1004</td>\n",
       "      <td>2020-04-29</td>\n",
       "      <td>27</td>\n",
       "      <td>81000</td>\n",
       "      <td>Male</td>\n",
       "      <td>Bachelors</td>\n",
       "      <td>False</td>\n",
       "      <td>0.88</td>\n",
       "    </tr>\n",
       "    <tr>\n",
       "      <th>5</th>\n",
       "      <td>1005</td>\n",
       "      <td>2020-04-30</td>\n",
       "      <td>42</td>\n",
       "      <td>157000</td>\n",
       "      <td>Female</td>\n",
       "      <td>Bachelors</td>\n",
       "      <td>False</td>\n",
       "      <td>-0.59</td>\n",
       "    </tr>\n",
       "    <tr>\n",
       "      <th>6</th>\n",
       "      <td>1006</td>\n",
       "      <td>2020-05-01</td>\n",
       "      <td>32</td>\n",
       "      <td>96000</td>\n",
       "      <td>Female</td>\n",
       "      <td>Bachelors</td>\n",
       "      <td>True</td>\n",
       "      <td>0.69</td>\n",
       "    </tr>\n",
       "  </tbody>\n",
       "</table>\n",
       "</div>"
      ],
      "text/plain": [
       "     id       date  age  income  gender  education  passed  measurement\n",
       "0  1000 2020-04-25   21   67000    Male  Bachelors   False         0.54\n",
       "1  1001 2020-04-26   56  220000  Female        PhD    True        -0.13\n",
       "2  1002 2020-04-27   33   97000  Female    Masters    True        -0.08\n",
       "3  1003 2020-04-28   48  166000    Male    Masters    True        -0.04\n",
       "4  1004 2020-04-29   27   81000    Male  Bachelors   False         0.88\n",
       "5  1005 2020-04-30   42  157000  Female  Bachelors   False        -0.59\n",
       "6  1006 2020-05-01   32   96000  Female  Bachelors    True         0.69"
      ]
     },
     "execution_count": 2,
     "metadata": {},
     "output_type": "execute_result"
    }
   ],
   "source": [
    "data = {\n",
    "    'id': [1000, 1001, 1002, 1003, 1004, 1005, 1006],\n",
    "    'date': pd.date_range('4/25/2020', periods=7, freq='D'),\n",
    "    'age': [21, 56, 33, 48, 27, 42, 32],\n",
    "    'income': [67000, 220000, 97000, 166000, 81000, 157000, 96000],\n",
    "    'gender': ['Male', 'Female', 'Female', 'Male', 'Male', 'Female', 'Female'],\n",
    "    'education': ['Bachelors', 'PhD', 'Masters', 'Masters', 'Bachelors', 'Bachelors', 'Bachelors'], \n",
    "    'passed': [False, True, True, True, False, False, True],\n",
    "    'measurement': np.random.randn(7).round(2)\n",
    "}\n",
    "\n",
    "df = pd.DataFrame(data)\n",
    "df"
   ]
  },
  {
   "cell_type": "code",
   "execution_count": 3,
   "metadata": {
    "colab": {
     "base_uri": "https://localhost:8080/",
     "height": 269
    },
    "id": "tlVdd-RhdOuG",
    "outputId": "e7c6b946-0600-49b1-9e12-22e9b35109f9"
   },
   "outputs": [
    {
     "data": {
      "text/html": [
       "<div>\n",
       "<style scoped>\n",
       "    .dataframe tbody tr th:only-of-type {\n",
       "        vertical-align: middle;\n",
       "    }\n",
       "\n",
       "    .dataframe tbody tr th {\n",
       "        vertical-align: top;\n",
       "    }\n",
       "\n",
       "    .dataframe thead th {\n",
       "        text-align: right;\n",
       "    }\n",
       "</style>\n",
       "<table border=\"1\" class=\"dataframe\">\n",
       "  <thead>\n",
       "    <tr style=\"text-align: right;\">\n",
       "      <th></th>\n",
       "      <th>id</th>\n",
       "      <th>date</th>\n",
       "      <th>age</th>\n",
       "      <th>income</th>\n",
       "      <th>gender</th>\n",
       "      <th>education</th>\n",
       "      <th>passed</th>\n",
       "      <th>measurement</th>\n",
       "    </tr>\n",
       "  </thead>\n",
       "  <tbody>\n",
       "    <tr>\n",
       "      <th>0</th>\n",
       "      <td>1000</td>\n",
       "      <td>2020-04-25</td>\n",
       "      <td>21.0</td>\n",
       "      <td>67000</td>\n",
       "      <td>Male</td>\n",
       "      <td>Bachelors</td>\n",
       "      <td>False</td>\n",
       "      <td>0.54</td>\n",
       "    </tr>\n",
       "    <tr>\n",
       "      <th>1</th>\n",
       "      <td>1001</td>\n",
       "      <td>2020-04-26</td>\n",
       "      <td>56.0</td>\n",
       "      <td>220000</td>\n",
       "      <td>Female</td>\n",
       "      <td>PhD</td>\n",
       "      <td>True</td>\n",
       "      <td>-0.13</td>\n",
       "    </tr>\n",
       "    <tr>\n",
       "      <th>2</th>\n",
       "      <td>1002</td>\n",
       "      <td>2020-04-27</td>\n",
       "      <td>33.0</td>\n",
       "      <td>97000</td>\n",
       "      <td>Female</td>\n",
       "      <td>Masters</td>\n",
       "      <td>True</td>\n",
       "      <td>-0.08</td>\n",
       "    </tr>\n",
       "    <tr>\n",
       "      <th>3</th>\n",
       "      <td>1003</td>\n",
       "      <td>2020-04-28</td>\n",
       "      <td>NaN</td>\n",
       "      <td>166000</td>\n",
       "      <td>NaN</td>\n",
       "      <td>NaN</td>\n",
       "      <td>NaN</td>\n",
       "      <td>NaN</td>\n",
       "    </tr>\n",
       "    <tr>\n",
       "      <th>4</th>\n",
       "      <td>1004</td>\n",
       "      <td>2020-04-29</td>\n",
       "      <td>27.0</td>\n",
       "      <td>81000</td>\n",
       "      <td>Male</td>\n",
       "      <td>Bachelors</td>\n",
       "      <td>False</td>\n",
       "      <td>0.88</td>\n",
       "    </tr>\n",
       "    <tr>\n",
       "      <th>5</th>\n",
       "      <td>1005</td>\n",
       "      <td>2020-04-30</td>\n",
       "      <td>NaN</td>\n",
       "      <td>157000</td>\n",
       "      <td>NaN</td>\n",
       "      <td>NaN</td>\n",
       "      <td>NaN</td>\n",
       "      <td>NaN</td>\n",
       "    </tr>\n",
       "    <tr>\n",
       "      <th>6</th>\n",
       "      <td>1006</td>\n",
       "      <td>2020-05-01</td>\n",
       "      <td>32.0</td>\n",
       "      <td>96000</td>\n",
       "      <td>Female</td>\n",
       "      <td>Bachelors</td>\n",
       "      <td>True</td>\n",
       "      <td>0.69</td>\n",
       "    </tr>\n",
       "  </tbody>\n",
       "</table>\n",
       "</div>"
      ],
      "text/plain": [
       "     id       date   age  income  gender  education passed  measurement\n",
       "0  1000 2020-04-25  21.0   67000    Male  Bachelors  False         0.54\n",
       "1  1001 2020-04-26  56.0  220000  Female        PhD   True        -0.13\n",
       "2  1002 2020-04-27  33.0   97000  Female    Masters   True        -0.08\n",
       "3  1003 2020-04-28   NaN  166000     NaN        NaN    NaN          NaN\n",
       "4  1004 2020-04-29  27.0   81000    Male  Bachelors  False         0.88\n",
       "5  1005 2020-04-30   NaN  157000     NaN        NaN    NaN          NaN\n",
       "6  1006 2020-05-01  32.0   96000  Female  Bachelors   True         0.69"
      ]
     },
     "execution_count": 3,
     "metadata": {},
     "output_type": "execute_result"
    }
   ],
   "source": [
    "# Insert missing values into the dataset\n",
    "df2 = df.copy()\n",
    "df2.iloc[[3, 5], [2, 4, 5, 6, 7]] = np.nan\n",
    "df2"
   ]
  },
  {
   "cell_type": "markdown",
   "metadata": {
    "id": "cDCvYCosUGZC"
   },
   "source": [
    "## 1a. Create indicator variable for missing values in `age` column\n",
    "## 1b. Fill in missing values in `age` column using `pandas`"
   ]
  },
  {
   "cell_type": "code",
   "execution_count": null,
   "metadata": {
    "id": "tRgMvlCcdTH9"
   },
   "outputs": [],
   "source": []
  },
  {
   "cell_type": "code",
   "execution_count": null,
   "metadata": {
    "id": "kRyOrRix4T0z"
   },
   "outputs": [],
   "source": []
  },
  {
   "cell_type": "code",
   "execution_count": null,
   "metadata": {
    "id": "QrfLjKbG38ad"
   },
   "outputs": [],
   "source": []
  },
  {
   "cell_type": "code",
   "execution_count": null,
   "metadata": {
    "id": "oIoD8CVl568P"
   },
   "outputs": [],
   "source": []
  },
  {
   "cell_type": "markdown",
   "metadata": {
    "id": "_w8_JWwpUMvn"
   },
   "source": [
    "## 2. Fill in missing values in `age` column using `scikit-learn`"
   ]
  },
  {
   "cell_type": "code",
   "execution_count": null,
   "metadata": {
    "id": "tv3Wp4jJUQ9E"
   },
   "outputs": [],
   "source": []
  },
  {
   "cell_type": "markdown",
   "metadata": {
    "id": "UGbxdVezUXsK"
   },
   "source": [
    "## 3a. Create indicator variable for missing values in `education` column\n",
    "## 3b. Fill in missing values in `education` column using `pandas`"
   ]
  },
  {
   "cell_type": "code",
   "execution_count": null,
   "metadata": {
    "id": "e09QFwuHUa7F"
   },
   "outputs": [],
   "source": []
  },
  {
   "cell_type": "code",
   "execution_count": null,
   "metadata": {
    "id": "GTG-9u_17zxy"
   },
   "outputs": [],
   "source": []
  },
  {
   "cell_type": "code",
   "execution_count": null,
   "metadata": {
    "id": "HFD3HWSk7zbi"
   },
   "outputs": [],
   "source": []
  },
  {
   "cell_type": "markdown",
   "metadata": {
    "id": "W7mn71vUUbmP"
   },
   "source": [
    "## 4. Fill in missing values in `education` column using `scikit-learn`"
   ]
  },
  {
   "cell_type": "code",
   "execution_count": null,
   "metadata": {
    "id": "TtvBF7pFUebI"
   },
   "outputs": [],
   "source": []
  },
  {
   "cell_type": "markdown",
   "metadata": {
    "id": "nvYzgEfQVNfF"
   },
   "source": [
    "## 5. Create dummy variables based on the `education` column using `pandas`"
   ]
  },
  {
   "cell_type": "code",
   "execution_count": null,
   "metadata": {
    "id": "QcvXNILQVYwz"
   },
   "outputs": [],
   "source": []
  },
  {
   "cell_type": "markdown",
   "metadata": {
    "id": "U9yAnQlrVbSX"
   },
   "source": [
    "## 6. Create dummy variables based on the `education` column using `scikit-learn`"
   ]
  },
  {
   "cell_type": "code",
   "execution_count": null,
   "metadata": {
    "id": "VbuHCgHeVdl2"
   },
   "outputs": [],
   "source": []
  },
  {
   "cell_type": "markdown",
   "metadata": {
    "id": "E8E8Z94-VsWA"
   },
   "source": [
    "## 7a. Create a centered and scaled version of the `age` column using `pandas`\n",
    "## 7b. Plot the two distributions, original and centered & scaled, side-by-side "
   ]
  },
  {
   "cell_type": "code",
   "execution_count": null,
   "metadata": {
    "id": "mV6Y3oZHWi9j"
   },
   "outputs": [],
   "source": []
  },
  {
   "cell_type": "code",
   "execution_count": null,
   "metadata": {
    "id": "QP0ZISBI_dYA"
   },
   "outputs": [],
   "source": []
  },
  {
   "cell_type": "code",
   "execution_count": null,
   "metadata": {
    "id": "2Ldgke1g_4T9"
   },
   "outputs": [],
   "source": []
  },
  {
   "cell_type": "markdown",
   "metadata": {
    "id": "T5dzTcWEDpAo"
   },
   "source": [
    "### Random normal variable"
   ]
  },
  {
   "cell_type": "code",
   "execution_count": 4,
   "metadata": {
    "colab": {
     "base_uri": "https://localhost:8080/"
    },
    "id": "K14DjgTOA9js",
    "outputId": "eae34451-ecf7-43cc-de51-b33ade4a35ac"
   },
   "outputs": [
    {
     "data": {
      "text/plain": [
       "38607413459892545950960270501917369545"
      ]
     },
     "execution_count": 4,
     "metadata": {},
     "output_type": "execute_result"
    }
   ],
   "source": [
    "sq1 = np.random.SeedSequence()\n",
    "sq1.entropy"
   ]
  },
  {
   "cell_type": "code",
   "execution_count": 5,
   "metadata": {
    "id": "-qSzoBNBBTsn"
   },
   "outputs": [],
   "source": [
    "rng = default_rng(sq1.entropy)"
   ]
  },
  {
   "cell_type": "code",
   "execution_count": 6,
   "metadata": {
    "colab": {
     "base_uri": "https://localhost:8080/"
    },
    "id": "H-TPfIUVA8tG",
    "outputId": "105a612c-b696-4a85-fb6e-234a49a14044"
   },
   "outputs": [
    {
     "data": {
      "text/plain": [
       "(54.85, 3.06)"
      ]
     },
     "execution_count": 6,
     "metadata": {},
     "output_type": "execute_result"
    }
   ],
   "source": [
    "vals = norm.rvs(loc=55, scale=3, size=1000, random_state=rng)\n",
    "\n",
    "np.round(vals.mean(), 2), np.round(vals.std(), 2)"
   ]
  },
  {
   "cell_type": "code",
   "execution_count": 7,
   "metadata": {
    "colab": {
     "base_uri": "https://localhost:8080/",
     "height": 353
    },
    "id": "JZ2VsocnA8mM",
    "outputId": "39c61b4f-e408-4e22-db16-27202683769f"
   },
   "outputs": [
    {
     "data": {
      "image/png": "[encoded data removed]",
      "text/plain": [
       "<Figure size 720x360 with 2 Axes>"
      ]
     },
     "metadata": {},
     "output_type": "display_data"
    }
   ],
   "source": [
    "fig, axs = plt.subplots(figsize=(10, 5), ncols=2)\n",
    "\n",
    "axs[0].hist(vals)\n",
    "axs[0].set_title('Raw Values\\nmean: {:.1f} std: {:.1f}'.format( vals.mean(), vals.std() ))\n",
    "\n",
    "vals_cs = (vals - vals.mean()) / vals.std()\n",
    "\n",
    "axs[1].hist(vals_cs)\n",
    "axs[1].set_title('Values (centered & scaled)\\nmean: {:.1f} std: {:.1f}'.format( abs(vals_cs.mean()), vals_cs.std() ));"
   ]
  },
  {
   "cell_type": "markdown",
   "metadata": {
    "id": "bvd8jbW_pn3w"
   },
   "source": [
    "## 8a. Transform skewed distribution to Gaussian using `ladder of powers`\n",
    "## 8b. Plot the distributions side-by-side"
   ]
  },
  {
   "cell_type": "code",
   "execution_count": 8,
   "metadata": {
    "colab": {
     "base_uri": "https://localhost:8080/"
    },
    "id": "IvbZUji_p6Vc",
    "outputId": "a5ab62a8-065f-4901-d4f8-ec985f4e704b"
   },
   "outputs": [
    {
     "data": {
      "text/plain": [
       "0    17.595735\n",
       "1    17.678107\n",
       "2    11.898134\n",
       "3    10.997031\n",
       "4    14.256844\n",
       "5    11.346502\n",
       "6    16.987890\n",
       "7    13.365531\n",
       "8    12.865670\n",
       "9    14.518134\n",
       "dtype: float64"
      ]
     },
     "execution_count": 8,
     "metadata": {},
     "output_type": "execute_result"
    }
   ],
   "source": [
    "r = pd.Series(skewnorm.rvs(a=4, loc=10, scale=4, size=1000))\n",
    "\n",
    "r[:10]"
   ]
  },
  {
   "cell_type": "code",
   "execution_count": 9,
   "metadata": {
    "colab": {
     "base_uri": "https://localhost:8080/",
     "height": 358
    },
    "id": "rDnxJuHrpoSf",
    "outputId": "9e31475a-31a3-4ce7-b912-50f6c711cebc"
   },
   "outputs": [
    {
     "data": {
      "image/png": "[encoded data removed]",
      "text/plain": [
       "<Figure size 2160x360 with 6 Axes>"
      ]
     },
     "metadata": {},
     "output_type": "display_data"
    }
   ],
   "source": [
    "fig, axs = plt.subplots(figsize=(30, 5), ncols=6)\n",
    "\n",
    "axs[0].hist(np.power(r, 2))\n",
    "axs[0].set_title('$Values^2$\\nmin: {:.1f} max: {:.1f}'.format(np.min(np.power(r, 2)), np.max(np.power(r, 2))))\n",
    "\n",
    "x_min, x_max = np.min(-np.power(r, -0.5)), np.max(r)\n",
    "\n",
    "axs[1].hist(r)\n",
    "axs[1].xaxis.set_major_formatter(FormatStrFormatter('%.1f'))\n",
    "axs[1].set_title('Raw Values:\\nmin: {:.1f} max: {:.1f}'.format(np.min(r), np.max(r)))\n",
    "\n",
    "axs[2].hist(np.power(r, 0.5))\n",
    "axs[2].xaxis.set_major_formatter(FormatStrFormatter('%.1f'))\n",
    "axs[2].set_title('$Values^{0.5}$'+'\\nmin: {0:.1f} max: {1:.1f}'.format(np.min(np.power(r, 0.5)), np.max(np.power(r, 0.5))))\n",
    "\n",
    "axs[3].hist(np.log(r))\n",
    "axs[3].xaxis.set_major_formatter(FormatStrFormatter('%.1f'))\n",
    "axs[3].set_title('$log(Values)$\\nmin: {:.1f} max: {:.1f}'.format(np.min(np.log(r)), np.max(np.log(r))))\n",
    "\n",
    "axs[4].hist(-np.power(r, -0.5))\n",
    "axs[4].xaxis.set_major_formatter(FormatStrFormatter('%.2f'))\n",
    "axs[4].set_title('$-(Values^{-0.5})$'+'\\nmin: {:.2f} max: {:.2f}'.format(np.min(-np.power(r, -0.5)), np.max(-np.power(r, -0.5))))\n",
    "\n",
    "axs[5].hist(-(1/r))\n",
    "axs[5].xaxis.set_major_formatter(FormatStrFormatter('%.2f'))\n",
    "axs[5].set_title('$-(Values^{-1.0})$'+'\\nmin: {:.2f} max: {:.2f}'.format(np.min(-(1/r)), np.max(-(1/r))));"
   ]
  },
  {
   "cell_type": "markdown",
   "metadata": {
    "id": "2NwkdWUyYCCh"
   },
   "source": [
    "## 9a. Transform skewed distribution to Gaussian using `scipy`\n",
    "## 9b. Plot the distributions, original and transformed, side-by-side"
   ]
  },
  {
   "cell_type": "code",
   "execution_count": 10,
   "metadata": {
    "colab": {
     "base_uri": "https://localhost:8080/"
    },
    "id": "y_LOeu1RYCsW",
    "outputId": "ccb14405-cc60-4d1a-eace-5ed74b0192eb"
   },
   "outputs": [
    {
     "data": {
      "text/plain": [
       "0    18.844065\n",
       "1    15.276644\n",
       "2    19.255244\n",
       "3    16.840954\n",
       "4    11.397323\n",
       "5    15.033400\n",
       "6    12.447398\n",
       "7     9.966767\n",
       "8    10.289226\n",
       "9     8.905498\n",
       "dtype: float64"
      ]
     },
     "execution_count": 10,
     "metadata": {},
     "output_type": "execute_result"
    }
   ],
   "source": [
    "s = pd.Series(skewnorm.rvs(a=4, loc=10, scale=4, size=1000))\n",
    "\n",
    "s[:10]"
   ]
  },
  {
   "cell_type": "code",
   "execution_count": null,
   "metadata": {
    "id": "g6tTFFMUclvv"
   },
   "outputs": [],
   "source": []
  },
  {
   "cell_type": "code",
   "execution_count": null,
   "metadata": {
    "id": "uuaEWAIOz44x"
   },
   "outputs": [],
   "source": []
  },
  {
   "cell_type": "markdown",
   "metadata": {
    "id": "QJX39KvZpKF6"
   },
   "source": [
    "## 10a. Transform skewed distribution to Gaussian using `scikit-learn`\n",
    "## 10b. Plot the two distributions, original and transformed, side-by-side"
   ]
  },
  {
   "cell_type": "code",
   "execution_count": 11,
   "metadata": {
    "colab": {
     "base_uri": "https://localhost:8080/"
    },
    "id": "uPlYnNRQZ8yN",
    "outputId": "83f0ff65-db01-46d6-ec73-073026f5b376"
   },
   "outputs": [
    {
     "data": {
      "text/plain": [
       "0    10.685656\n",
       "1    14.481287\n",
       "2    14.528670\n",
       "3    16.334342\n",
       "4     8.868170\n",
       "5    10.672253\n",
       "6    12.391989\n",
       "7    14.058592\n",
       "8    13.244864\n",
       "9    11.052092\n",
       "dtype: float64"
      ]
     },
     "execution_count": 11,
     "metadata": {},
     "output_type": "execute_result"
    }
   ],
   "source": [
    "t = pd.Series(skewnorm.rvs(a=4, loc=10, scale=4, size=1000))\n",
    "\n",
    "t[:10]"
   ]
  },
  {
   "cell_type": "code",
   "execution_count": null,
   "metadata": {
    "id": "POq-6XDjpUuG"
   },
   "outputs": [],
   "source": []
  },
  {
   "cell_type": "code",
   "execution_count": null,
   "metadata": {
    "id": "oKIAZhWzz5WA"
   },
   "outputs": [],
   "source": []
  },
  {
   "cell_type": "code",
   "execution_count": null,
   "metadata": {
    "id": "e181Qfcm2NUl"
   },
   "outputs": [],
   "source": []
  }
 ],
 "metadata": {
  "colab": {
   "collapsed_sections": [],
   "name": "Hands on - Data Preprocessing.ipynb",
   "provenance": []
  },
  "kernelspec": {
   "display_name": "Python 3 (ipykernel)",
   "language": "python",
   "name": "python3"
  },
  "language_info": {
   "codemirror_mode": {
    "name": "ipython",
    "version": 3
   },
   "file_extension": ".py",
   "mimetype": "text/x-python",
   "name": "python",
   "nbconvert_exporter": "python",
   "pygments_lexer": "ipython3",
   "version": "3.8.13"
  }
 },
 "nbformat": 4,
 "nbformat_minor": 1
}
