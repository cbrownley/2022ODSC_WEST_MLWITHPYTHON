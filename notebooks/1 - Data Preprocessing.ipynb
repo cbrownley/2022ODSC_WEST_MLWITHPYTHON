{
 "cells": [
  {
   "cell_type": "markdown",
   "metadata": {},
   "source": [
    "<a id=\"top\"></a>"
   ]
  },
  {
   "cell_type": "markdown",
   "metadata": {},
   "source": [
    "# Data Preprocessing"
   ]
  },
  {
   "cell_type": "markdown",
   "metadata": {},
   "source": [
    "# Outline\n",
    "\n",
    "- [Create DataFrame](#create_dataframe)\n",
    "- [Handle missing values](#handle_missing_values)\n",
    "- [Center features](#center_features)\n",
    "- [Scale featuers](#scale_features)\n",
    "- [Map to Gaussian distribution](#map_to_gaussian)\n",
    "- [Handle categorical data](#handle_categorical_data)\n",
    "- [Create dummy/indicator variables](#create_indicator_variables)"
   ]
  },
  {
   "cell_type": "markdown",
   "metadata": {},
   "source": [
    "## Import packages"
   ]
  },
  {
   "cell_type": "code",
   "execution_count": 1,
   "metadata": {},
   "outputs": [],
   "source": [
    "# Manage data and statistics\n",
    "import numpy as np\n",
    "import pandas as pd\n",
    "\n",
    "from scipy import stats\n",
    "from scipy.stats import skewnorm, yeojohnson, boxcox, zscore\n",
    "\n",
    "# Plot data\n",
    "import matplotlib.pyplot as plt\n",
    "import seaborn as sns\n",
    "sns.set(style=\"white\")\n",
    "\n",
    "from IPython.display import display, HTML, Image\n",
    "%matplotlib inline\n",
    "\n",
    "# Scale variables\n",
    "from sklearn.preprocessing import scale, StandardScaler\n",
    "from sklearn.preprocessing import minmax_scale, MinMaxScaler\n",
    "from sklearn.preprocessing import maxabs_scale, MaxAbsScaler\n",
    "from sklearn.preprocessing import robust_scale, RobustScaler\n",
    "\n",
    "# Transform variables\n",
    "from sklearn.preprocessing import quantile_transform, QuantileTransformer\n",
    "from sklearn.preprocessing import power_transform, PowerTransformer\n",
    "\n",
    "# Encode categorical variables\n",
    "from sklearn.preprocessing import OrdinalEncoder, OneHotEncoder, LabelEncoder\n",
    "\n",
    "# Discretize continuous variables\n",
    "from sklearn.preprocessing import KBinsDiscretizer\n",
    "\n",
    "# Impute missing values\n",
    "from sklearn.impute import SimpleImputer, KNNImputer, MissingIndicator\n",
    "from sklearn.experimental import enable_iterative_imputer\n",
    "from sklearn.impute import IterativeImputer\n",
    "\n",
    "# Warnings\n",
    "import warnings\n",
    "warnings.filterwarnings('ignore')"
   ]
  },
  {
   "cell_type": "markdown",
   "metadata": {},
   "source": [
    "<a id=\"create_dataframe\"></a>"
   ]
  },
  {
   "cell_type": "markdown",
   "metadata": {},
   "source": [
    "# Create DataFrame"
   ]
  },
  {
   "cell_type": "code",
   "execution_count": 2,
   "metadata": {},
   "outputs": [
    {
     "data": {
      "text/html": [
       "<div>\n",
       "<style scoped>\n",
       "    .dataframe tbody tr th:only-of-type {\n",
       "        vertical-align: middle;\n",
       "    }\n",
       "\n",
       "    .dataframe tbody tr th {\n",
       "        vertical-align: top;\n",
       "    }\n",
       "\n",
       "    .dataframe thead th {\n",
       "        text-align: right;\n",
       "    }\n",
       "</style>\n",
       "<table border=\"1\" class=\"dataframe\">\n",
       "  <thead>\n",
       "    <tr style=\"text-align: right;\">\n",
       "      <th></th>\n",
       "      <th>id</th>\n",
       "      <th>date</th>\n",
       "      <th>age</th>\n",
       "      <th>income</th>\n",
       "      <th>gender</th>\n",
       "      <th>education</th>\n",
       "      <th>passed</th>\n",
       "      <th>measurement</th>\n",
       "    </tr>\n",
       "  </thead>\n",
       "  <tbody>\n",
       "    <tr>\n",
       "      <th>0</th>\n",
       "      <td>1000</td>\n",
       "      <td>2020-04-25</td>\n",
       "      <td>21</td>\n",
       "      <td>67000</td>\n",
       "      <td>Male</td>\n",
       "      <td>Bachelors</td>\n",
       "      <td>False</td>\n",
       "      <td>0.52</td>\n",
       "    </tr>\n",
       "    <tr>\n",
       "      <th>1</th>\n",
       "      <td>1001</td>\n",
       "      <td>2020-04-26</td>\n",
       "      <td>56</td>\n",
       "      <td>220000</td>\n",
       "      <td>Female</td>\n",
       "      <td>PhD</td>\n",
       "      <td>True</td>\n",
       "      <td>0.68</td>\n",
       "    </tr>\n",
       "    <tr>\n",
       "      <th>2</th>\n",
       "      <td>1002</td>\n",
       "      <td>2020-04-27</td>\n",
       "      <td>33</td>\n",
       "      <td>97000</td>\n",
       "      <td>Female</td>\n",
       "      <td>Masters</td>\n",
       "      <td>True</td>\n",
       "      <td>-0.39</td>\n",
       "    </tr>\n",
       "    <tr>\n",
       "      <th>3</th>\n",
       "      <td>1003</td>\n",
       "      <td>2020-04-28</td>\n",
       "      <td>48</td>\n",
       "      <td>166000</td>\n",
       "      <td>Male</td>\n",
       "      <td>Masters</td>\n",
       "      <td>True</td>\n",
       "      <td>0.05</td>\n",
       "    </tr>\n",
       "    <tr>\n",
       "      <th>4</th>\n",
       "      <td>1004</td>\n",
       "      <td>2020-04-29</td>\n",
       "      <td>27</td>\n",
       "      <td>81000</td>\n",
       "      <td>Male</td>\n",
       "      <td>Bachelors</td>\n",
       "      <td>False</td>\n",
       "      <td>2.51</td>\n",
       "    </tr>\n",
       "    <tr>\n",
       "      <th>5</th>\n",
       "      <td>1005</td>\n",
       "      <td>2020-04-30</td>\n",
       "      <td>42</td>\n",
       "      <td>157000</td>\n",
       "      <td>Female</td>\n",
       "      <td>Bachelors</td>\n",
       "      <td>False</td>\n",
       "      <td>1.19</td>\n",
       "    </tr>\n",
       "    <tr>\n",
       "      <th>6</th>\n",
       "      <td>1006</td>\n",
       "      <td>2020-05-01</td>\n",
       "      <td>32</td>\n",
       "      <td>96000</td>\n",
       "      <td>Female</td>\n",
       "      <td>Bachelors</td>\n",
       "      <td>True</td>\n",
       "      <td>-2.65</td>\n",
       "    </tr>\n",
       "  </tbody>\n",
       "</table>\n",
       "</div>"
      ],
      "text/plain": [
       "     id       date  age  income  gender  education  passed  measurement\n",
       "0  1000 2020-04-25   21   67000    Male  Bachelors   False         0.52\n",
       "1  1001 2020-04-26   56  220000  Female        PhD    True         0.68\n",
       "2  1002 2020-04-27   33   97000  Female    Masters    True        -0.39\n",
       "3  1003 2020-04-28   48  166000    Male    Masters    True         0.05\n",
       "4  1004 2020-04-29   27   81000    Male  Bachelors   False         2.51\n",
       "5  1005 2020-04-30   42  157000  Female  Bachelors   False         1.19\n",
       "6  1006 2020-05-01   32   96000  Female  Bachelors    True        -2.65"
      ]
     },
     "execution_count": 2,
     "metadata": {},
     "output_type": "execute_result"
    }
   ],
   "source": [
    "data = {\n",
    "    'id': [1000, 1001, 1002, 1003, 1004, 1005, 1006],\n",
    "    'date': pd.date_range('4/25/2020', periods=7, freq='D'),\n",
    "    'age': [21, 56, 33, 48, 27, 42, 32],\n",
    "    'income': [67000, 220000, 97000, 166000, 81000, 157000, 96000],\n",
    "    'gender': ['Male', 'Female', 'Female', 'Male', 'Male', 'Female', 'Female'],\n",
    "    'education': ['Bachelors', 'PhD', 'Masters', 'Masters', 'Bachelors', 'Bachelors', 'Bachelors'], \n",
    "    'passed': [False, True, True, True, False, False, True],\n",
    "    'measurement': np.random.randn(7).round(2)\n",
    "}\n",
    "\n",
    "df = pd.DataFrame(data)\n",
    "df"
   ]
  },
  {
   "cell_type": "code",
   "execution_count": 3,
   "metadata": {},
   "outputs": [
    {
     "data": {
      "text/html": [
       "<div>\n",
       "<style scoped>\n",
       "    .dataframe tbody tr th:only-of-type {\n",
       "        vertical-align: middle;\n",
       "    }\n",
       "\n",
       "    .dataframe tbody tr th {\n",
       "        vertical-align: top;\n",
       "    }\n",
       "\n",
       "    .dataframe thead th {\n",
       "        text-align: right;\n",
       "    }\n",
       "</style>\n",
       "<table border=\"1\" class=\"dataframe\">\n",
       "  <thead>\n",
       "    <tr style=\"text-align: right;\">\n",
       "      <th></th>\n",
       "      <th>id</th>\n",
       "      <th>age</th>\n",
       "      <th>income</th>\n",
       "      <th>passed</th>\n",
       "      <th>measurement</th>\n",
       "    </tr>\n",
       "  </thead>\n",
       "  <tbody>\n",
       "    <tr>\n",
       "      <th>id</th>\n",
       "      <td>1.000000</td>\n",
       "      <td>-0.006285</td>\n",
       "      <td>-0.076124</td>\n",
       "      <td>0.000000</td>\n",
       "      <td>-0.271815</td>\n",
       "    </tr>\n",
       "    <tr>\n",
       "      <th>age</th>\n",
       "      <td>-0.006285</td>\n",
       "      <td>1.000000</td>\n",
       "      <td>0.984332</td>\n",
       "      <td>0.533450</td>\n",
       "      <td>0.006932</td>\n",
       "    </tr>\n",
       "    <tr>\n",
       "      <th>income</th>\n",
       "      <td>-0.076124</td>\n",
       "      <td>0.984332</td>\n",
       "      <td>1.000000</td>\n",
       "      <td>0.413131</td>\n",
       "      <td>0.093174</td>\n",
       "    </tr>\n",
       "    <tr>\n",
       "      <th>passed</th>\n",
       "      <td>0.000000</td>\n",
       "      <td>0.533450</td>\n",
       "      <td>0.413131</td>\n",
       "      <td>1.000000</td>\n",
       "      <td>-0.668437</td>\n",
       "    </tr>\n",
       "    <tr>\n",
       "      <th>measurement</th>\n",
       "      <td>-0.271815</td>\n",
       "      <td>0.006932</td>\n",
       "      <td>0.093174</td>\n",
       "      <td>-0.668437</td>\n",
       "      <td>1.000000</td>\n",
       "    </tr>\n",
       "  </tbody>\n",
       "</table>\n",
       "</div>"
      ],
      "text/plain": [
       "                   id       age    income    passed  measurement\n",
       "id           1.000000 -0.006285 -0.076124  0.000000    -0.271815\n",
       "age         -0.006285  1.000000  0.984332  0.533450     0.006932\n",
       "income      -0.076124  0.984332  1.000000  0.413131     0.093174\n",
       "passed       0.000000  0.533450  0.413131  1.000000    -0.668437\n",
       "measurement -0.271815  0.006932  0.093174 -0.668437     1.000000"
      ]
     },
     "execution_count": 3,
     "metadata": {},
     "output_type": "execute_result"
    }
   ],
   "source": [
    "df.corr()"
   ]
  },
  {
   "cell_type": "code",
   "execution_count": 4,
   "metadata": {},
   "outputs": [
    {
     "name": "stdout",
     "output_type": "stream",
     "text": [
      "<class 'pandas.core.frame.DataFrame'>\n",
      "RangeIndex: 7 entries, 0 to 6\n",
      "Data columns (total 8 columns):\n",
      " #   Column       Non-Null Count  Dtype         \n",
      "---  ------       --------------  -----         \n",
      " 0   id           7 non-null      int64         \n",
      " 1   date         7 non-null      datetime64[ns]\n",
      " 2   age          7 non-null      int64         \n",
      " 3   income       7 non-null      int64         \n",
      " 4   gender       7 non-null      object        \n",
      " 5   education    7 non-null      object        \n",
      " 6   passed       7 non-null      bool          \n",
      " 7   measurement  7 non-null      float64       \n",
      "dtypes: bool(1), datetime64[ns](1), float64(1), int64(3), object(2)\n",
      "memory usage: 527.0+ bytes\n"
     ]
    }
   ],
   "source": [
    "df.info()"
   ]
  },
  {
   "cell_type": "code",
   "execution_count": 5,
   "metadata": {},
   "outputs": [
    {
     "data": {
      "text/plain": [
       "array([[1000, Timestamp('2020-04-25 00:00:00'), 21, 67000, 'Male',\n",
       "        'Bachelors', False, 0.52],\n",
       "       [1001, Timestamp('2020-04-26 00:00:00'), 56, 220000, 'Female',\n",
       "        'PhD', True, 0.68],\n",
       "       [1002, Timestamp('2020-04-27 00:00:00'), 33, 97000, 'Female',\n",
       "        'Masters', True, -0.39],\n",
       "       [1003, Timestamp('2020-04-28 00:00:00'), 48, 166000, 'Male',\n",
       "        'Masters', True, 0.05],\n",
       "       [1004, Timestamp('2020-04-29 00:00:00'), 27, 81000, 'Male',\n",
       "        'Bachelors', False, 2.51],\n",
       "       [1005, Timestamp('2020-04-30 00:00:00'), 42, 157000, 'Female',\n",
       "        'Bachelors', False, 1.19],\n",
       "       [1006, Timestamp('2020-05-01 00:00:00'), 32, 96000, 'Female',\n",
       "        'Bachelors', True, -2.65]], dtype=object)"
      ]
     },
     "execution_count": 5,
     "metadata": {},
     "output_type": "execute_result"
    }
   ],
   "source": [
    "df.values"
   ]
  },
  {
   "cell_type": "markdown",
   "metadata": {},
   "source": [
    "<a id=\"handle_missing_values\"></a>"
   ]
  },
  {
   "cell_type": "markdown",
   "metadata": {},
   "source": [
    "# [Handle missing values](https://scikit-learn.org/stable/modules/impute.html#impute)"
   ]
  },
  {
   "cell_type": "markdown",
   "metadata": {},
   "source": [
    "[Why is missing data a problem?](https://en.wikipedia.org/wiki/Missing_data)\n",
    "  - When values are missing systematically, analysis may be biased\n",
    "  - Difficult/impossible to compare models based on different subsamples\n",
    "  - May not have enough remaining samples\n",
    "  - Some models can't handle missing values\n",
    "  \n",
    "[Three approaches to handle missing data:](https://en.wikipedia.org/wiki/Missing_data)\n",
    "  1. Imputation: where values are filled in the place of missing data\n",
    "  2. Omission: where samples with invalid data are discarded from further analysis\n",
    "  3. Analysis: by directly applying methods unaffected by the missing values"
   ]
  },
  {
   "cell_type": "code",
   "execution_count": 6,
   "metadata": {},
   "outputs": [
    {
     "data": {
      "image/png": "[encoded data removed]",
      "text/plain": [
       "<Figure size 432x288 with 2 Axes>"
      ]
     },
     "metadata": {
      "needs_background": "light"
     },
     "output_type": "display_data"
    }
   ],
   "source": [
    "# Flexible Imputation of Missing Data: https://stefvanbuuren.name/fimd/\n",
    "# Statistical Analysis with Missing Data: https://epdf.pub/statistical-analysis-with-missing-data-wiley-series-in-probability-and-statistic.html\n",
    "import matplotlib.image as mpimg\n",
    "from matplotlib import rcParams\n",
    "# figure size in inches optional\n",
    "rcParams['figure.figsize'] = 6, 4\n",
    "# read images\n",
    "img_A = mpimg.imread('../images/statistical_analysis_with_missing_data.jpg')\n",
    "img_B = mpimg.imread('../images/flexible_imputation_of_missing_data.png')\n",
    "# display images\n",
    "fig, ax = plt.subplots(1,2)\n",
    "ax[0].imshow(img_A); ax[0].set_axis_off();\n",
    "ax[1].imshow(img_B); ax[1].set_axis_off();\n",
    "fig.tight_layout();"
   ]
  },
  {
   "cell_type": "markdown",
   "metadata": {},
   "source": [
    "## [Identify missing values](https://pandas.pydata.org/pandas-docs/stable/user_guide/missing_data.html)"
   ]
  },
  {
   "cell_type": "code",
   "execution_count": 7,
   "metadata": {},
   "outputs": [
    {
     "data": {
      "text/html": [
       "<div>\n",
       "<style scoped>\n",
       "    .dataframe tbody tr th:only-of-type {\n",
       "        vertical-align: middle;\n",
       "    }\n",
       "\n",
       "    .dataframe tbody tr th {\n",
       "        vertical-align: top;\n",
       "    }\n",
       "\n",
       "    .dataframe thead th {\n",
       "        text-align: right;\n",
       "    }\n",
       "</style>\n",
       "<table border=\"1\" class=\"dataframe\">\n",
       "  <thead>\n",
       "    <tr style=\"text-align: right;\">\n",
       "      <th></th>\n",
       "      <th>id</th>\n",
       "      <th>date</th>\n",
       "      <th>age</th>\n",
       "      <th>income</th>\n",
       "      <th>gender</th>\n",
       "      <th>education</th>\n",
       "      <th>passed</th>\n",
       "      <th>measurement</th>\n",
       "    </tr>\n",
       "  </thead>\n",
       "  <tbody>\n",
       "    <tr>\n",
       "      <th>0</th>\n",
       "      <td>1000</td>\n",
       "      <td>2020-04-25</td>\n",
       "      <td>21.0</td>\n",
       "      <td>67000</td>\n",
       "      <td>Male</td>\n",
       "      <td>Bachelors</td>\n",
       "      <td>False</td>\n",
       "      <td>0.52</td>\n",
       "    </tr>\n",
       "    <tr>\n",
       "      <th>1</th>\n",
       "      <td>1001</td>\n",
       "      <td>2020-04-26</td>\n",
       "      <td>56.0</td>\n",
       "      <td>220000</td>\n",
       "      <td>Female</td>\n",
       "      <td>PhD</td>\n",
       "      <td>True</td>\n",
       "      <td>0.68</td>\n",
       "    </tr>\n",
       "    <tr>\n",
       "      <th>2</th>\n",
       "      <td>1002</td>\n",
       "      <td>2020-04-27</td>\n",
       "      <td>33.0</td>\n",
       "      <td>97000</td>\n",
       "      <td>Female</td>\n",
       "      <td>Masters</td>\n",
       "      <td>True</td>\n",
       "      <td>-0.39</td>\n",
       "    </tr>\n",
       "    <tr>\n",
       "      <th>3</th>\n",
       "      <td>1003</td>\n",
       "      <td>NaT</td>\n",
       "      <td>NaN</td>\n",
       "      <td>166000</td>\n",
       "      <td>NaN</td>\n",
       "      <td>NaN</td>\n",
       "      <td>NaN</td>\n",
       "      <td>NaN</td>\n",
       "    </tr>\n",
       "    <tr>\n",
       "      <th>4</th>\n",
       "      <td>1004</td>\n",
       "      <td>2020-04-29</td>\n",
       "      <td>27.0</td>\n",
       "      <td>81000</td>\n",
       "      <td>Male</td>\n",
       "      <td>Bachelors</td>\n",
       "      <td>False</td>\n",
       "      <td>2.51</td>\n",
       "    </tr>\n",
       "    <tr>\n",
       "      <th>5</th>\n",
       "      <td>1005</td>\n",
       "      <td>NaT</td>\n",
       "      <td>NaN</td>\n",
       "      <td>157000</td>\n",
       "      <td>NaN</td>\n",
       "      <td>NaN</td>\n",
       "      <td>NaN</td>\n",
       "      <td>NaN</td>\n",
       "    </tr>\n",
       "    <tr>\n",
       "      <th>6</th>\n",
       "      <td>1006</td>\n",
       "      <td>2020-05-01</td>\n",
       "      <td>32.0</td>\n",
       "      <td>96000</td>\n",
       "      <td>Female</td>\n",
       "      <td>Bachelors</td>\n",
       "      <td>True</td>\n",
       "      <td>-2.65</td>\n",
       "    </tr>\n",
       "  </tbody>\n",
       "</table>\n",
       "</div>"
      ],
      "text/plain": [
       "     id       date   age  income  gender  education passed  measurement\n",
       "0  1000 2020-04-25  21.0   67000    Male  Bachelors  False         0.52\n",
       "1  1001 2020-04-26  56.0  220000  Female        PhD   True         0.68\n",
       "2  1002 2020-04-27  33.0   97000  Female    Masters   True        -0.39\n",
       "3  1003        NaT   NaN  166000     NaN        NaN    NaN          NaN\n",
       "4  1004 2020-04-29  27.0   81000    Male  Bachelors  False         2.51\n",
       "5  1005        NaT   NaN  157000     NaN        NaN    NaN          NaN\n",
       "6  1006 2020-05-01  32.0   96000  Female  Bachelors   True        -2.65"
      ]
     },
     "execution_count": 7,
     "metadata": {},
     "output_type": "execute_result"
    }
   ],
   "source": [
    "# Insert missing values into the dataset\n",
    "df2 = df.copy()\n",
    "df2.iloc[[3, 5], [1, 2, 4, 5, 6, 7]] = np.nan\n",
    "df2"
   ]
  },
  {
   "cell_type": "code",
   "execution_count": 8,
   "metadata": {},
   "outputs": [
    {
     "data": {
      "text/plain": [
       "id             0\n",
       "date           2\n",
       "age            2\n",
       "income         0\n",
       "gender         2\n",
       "education      2\n",
       "passed         2\n",
       "measurement    2\n",
       "dtype: int64"
      ]
     },
     "execution_count": 8,
     "metadata": {},
     "output_type": "execute_result"
    }
   ],
   "source": [
    "# Count the number of missing values in each column\n",
    "df2.isnull().sum()"
   ]
  },
  {
   "cell_type": "code",
   "execution_count": 9,
   "metadata": {},
   "outputs": [
    {
     "data": {
      "text/html": [
       "<div>\n",
       "<style scoped>\n",
       "    .dataframe tbody tr th:only-of-type {\n",
       "        vertical-align: middle;\n",
       "    }\n",
       "\n",
       "    .dataframe tbody tr th {\n",
       "        vertical-align: top;\n",
       "    }\n",
       "\n",
       "    .dataframe thead th {\n",
       "        text-align: right;\n",
       "    }\n",
       "</style>\n",
       "<table border=\"1\" class=\"dataframe\">\n",
       "  <thead>\n",
       "    <tr style=\"text-align: right;\">\n",
       "      <th></th>\n",
       "      <th>id</th>\n",
       "      <th>date</th>\n",
       "      <th>age</th>\n",
       "      <th>income</th>\n",
       "      <th>gender</th>\n",
       "      <th>education</th>\n",
       "      <th>passed</th>\n",
       "      <th>measurement</th>\n",
       "    </tr>\n",
       "  </thead>\n",
       "  <tbody>\n",
       "    <tr>\n",
       "      <th>3</th>\n",
       "      <td>1003</td>\n",
       "      <td>NaT</td>\n",
       "      <td>NaN</td>\n",
       "      <td>166000</td>\n",
       "      <td>NaN</td>\n",
       "      <td>NaN</td>\n",
       "      <td>NaN</td>\n",
       "      <td>NaN</td>\n",
       "    </tr>\n",
       "    <tr>\n",
       "      <th>5</th>\n",
       "      <td>1005</td>\n",
       "      <td>NaT</td>\n",
       "      <td>NaN</td>\n",
       "      <td>157000</td>\n",
       "      <td>NaN</td>\n",
       "      <td>NaN</td>\n",
       "      <td>NaN</td>\n",
       "      <td>NaN</td>\n",
       "    </tr>\n",
       "  </tbody>\n",
       "</table>\n",
       "</div>"
      ],
      "text/plain": [
       "     id date  age  income gender education passed  measurement\n",
       "3  1003  NaT  NaN  166000    NaN       NaN    NaN          NaN\n",
       "5  1005  NaT  NaN  157000    NaN       NaN    NaN          NaN"
      ]
     },
     "execution_count": 9,
     "metadata": {},
     "output_type": "execute_result"
    }
   ],
   "source": [
    "# View the samples that contain missing values\n",
    "df2[df2.isnull().any(axis=1)]"
   ]
  },
  {
   "cell_type": "markdown",
   "metadata": {},
   "source": [
    "## [Eliminate samples or features with missing values](https://pandas.pydata.org/pandas-docs/stable/user_guide/missing_data.html)"
   ]
  },
  {
   "cell_type": "code",
   "execution_count": 10,
   "metadata": {},
   "outputs": [
    {
     "data": {
      "text/html": [
       "<div>\n",
       "<style scoped>\n",
       "    .dataframe tbody tr th:only-of-type {\n",
       "        vertical-align: middle;\n",
       "    }\n",
       "\n",
       "    .dataframe tbody tr th {\n",
       "        vertical-align: top;\n",
       "    }\n",
       "\n",
       "    .dataframe thead th {\n",
       "        text-align: right;\n",
       "    }\n",
       "</style>\n",
       "<table border=\"1\" class=\"dataframe\">\n",
       "  <thead>\n",
       "    <tr style=\"text-align: right;\">\n",
       "      <th></th>\n",
       "      <th>id</th>\n",
       "      <th>date</th>\n",
       "      <th>age</th>\n",
       "      <th>income</th>\n",
       "      <th>gender</th>\n",
       "      <th>education</th>\n",
       "      <th>passed</th>\n",
       "      <th>measurement</th>\n",
       "    </tr>\n",
       "  </thead>\n",
       "  <tbody>\n",
       "    <tr>\n",
       "      <th>0</th>\n",
       "      <td>1000</td>\n",
       "      <td>2020-04-25</td>\n",
       "      <td>21.0</td>\n",
       "      <td>67000</td>\n",
       "      <td>Male</td>\n",
       "      <td>Bachelors</td>\n",
       "      <td>False</td>\n",
       "      <td>0.52</td>\n",
       "    </tr>\n",
       "    <tr>\n",
       "      <th>1</th>\n",
       "      <td>1001</td>\n",
       "      <td>2020-04-26</td>\n",
       "      <td>56.0</td>\n",
       "      <td>220000</td>\n",
       "      <td>Female</td>\n",
       "      <td>PhD</td>\n",
       "      <td>True</td>\n",
       "      <td>0.68</td>\n",
       "    </tr>\n",
       "    <tr>\n",
       "      <th>2</th>\n",
       "      <td>1002</td>\n",
       "      <td>2020-04-27</td>\n",
       "      <td>33.0</td>\n",
       "      <td>97000</td>\n",
       "      <td>Female</td>\n",
       "      <td>Masters</td>\n",
       "      <td>True</td>\n",
       "      <td>-0.39</td>\n",
       "    </tr>\n",
       "    <tr>\n",
       "      <th>4</th>\n",
       "      <td>1004</td>\n",
       "      <td>2020-04-29</td>\n",
       "      <td>27.0</td>\n",
       "      <td>81000</td>\n",
       "      <td>Male</td>\n",
       "      <td>Bachelors</td>\n",
       "      <td>False</td>\n",
       "      <td>2.51</td>\n",
       "    </tr>\n",
       "    <tr>\n",
       "      <th>6</th>\n",
       "      <td>1006</td>\n",
       "      <td>2020-05-01</td>\n",
       "      <td>32.0</td>\n",
       "      <td>96000</td>\n",
       "      <td>Female</td>\n",
       "      <td>Bachelors</td>\n",
       "      <td>True</td>\n",
       "      <td>-2.65</td>\n",
       "    </tr>\n",
       "  </tbody>\n",
       "</table>\n",
       "</div>"
      ],
      "text/plain": [
       "     id       date   age  income  gender  education passed  measurement\n",
       "0  1000 2020-04-25  21.0   67000    Male  Bachelors  False         0.52\n",
       "1  1001 2020-04-26  56.0  220000  Female        PhD   True         0.68\n",
       "2  1002 2020-04-27  33.0   97000  Female    Masters   True        -0.39\n",
       "4  1004 2020-04-29  27.0   81000    Male  Bachelors  False         2.51\n",
       "6  1006 2020-05-01  32.0   96000  Female  Bachelors   True        -2.65"
      ]
     },
     "execution_count": 10,
     "metadata": {},
     "output_type": "execute_result"
    }
   ],
   "source": [
    "# Remove samples that contain missing values\n",
    "df2.dropna(axis=0)"
   ]
  },
  {
   "cell_type": "code",
   "execution_count": 11,
   "metadata": {},
   "outputs": [
    {
     "data": {
      "text/html": [
       "<div>\n",
       "<style scoped>\n",
       "    .dataframe tbody tr th:only-of-type {\n",
       "        vertical-align: middle;\n",
       "    }\n",
       "\n",
       "    .dataframe tbody tr th {\n",
       "        vertical-align: top;\n",
       "    }\n",
       "\n",
       "    .dataframe thead th {\n",
       "        text-align: right;\n",
       "    }\n",
       "</style>\n",
       "<table border=\"1\" class=\"dataframe\">\n",
       "  <thead>\n",
       "    <tr style=\"text-align: right;\">\n",
       "      <th></th>\n",
       "      <th>id</th>\n",
       "      <th>income</th>\n",
       "    </tr>\n",
       "  </thead>\n",
       "  <tbody>\n",
       "    <tr>\n",
       "      <th>0</th>\n",
       "      <td>1000</td>\n",
       "      <td>67000</td>\n",
       "    </tr>\n",
       "    <tr>\n",
       "      <th>1</th>\n",
       "      <td>1001</td>\n",
       "      <td>220000</td>\n",
       "    </tr>\n",
       "    <tr>\n",
       "      <th>2</th>\n",
       "      <td>1002</td>\n",
       "      <td>97000</td>\n",
       "    </tr>\n",
       "    <tr>\n",
       "      <th>3</th>\n",
       "      <td>1003</td>\n",
       "      <td>166000</td>\n",
       "    </tr>\n",
       "    <tr>\n",
       "      <th>4</th>\n",
       "      <td>1004</td>\n",
       "      <td>81000</td>\n",
       "    </tr>\n",
       "    <tr>\n",
       "      <th>5</th>\n",
       "      <td>1005</td>\n",
       "      <td>157000</td>\n",
       "    </tr>\n",
       "    <tr>\n",
       "      <th>6</th>\n",
       "      <td>1006</td>\n",
       "      <td>96000</td>\n",
       "    </tr>\n",
       "  </tbody>\n",
       "</table>\n",
       "</div>"
      ],
      "text/plain": [
       "     id  income\n",
       "0  1000   67000\n",
       "1  1001  220000\n",
       "2  1002   97000\n",
       "3  1003  166000\n",
       "4  1004   81000\n",
       "5  1005  157000\n",
       "6  1006   96000"
      ]
     },
     "execution_count": 11,
     "metadata": {},
     "output_type": "execute_result"
    }
   ],
   "source": [
    "# Remove features that contain missing values\n",
    "df2.dropna(axis=1)"
   ]
  },
  {
   "cell_type": "markdown",
   "metadata": {},
   "source": [
    "## [Fill in missing values](https://pandas.pydata.org/pandas-docs/stable/user_guide/missing_data.html)"
   ]
  },
  {
   "cell_type": "markdown",
   "metadata": {},
   "source": [
    "### Numeric features"
   ]
  },
  {
   "cell_type": "markdown",
   "metadata": {},
   "source": [
    "#### pandas"
   ]
  },
  {
   "cell_type": "code",
   "execution_count": 12,
   "metadata": {},
   "outputs": [
    {
     "data": {
      "text/html": [
       "<div>\n",
       "<style scoped>\n",
       "    .dataframe tbody tr th:only-of-type {\n",
       "        vertical-align: middle;\n",
       "    }\n",
       "\n",
       "    .dataframe tbody tr th {\n",
       "        vertical-align: top;\n",
       "    }\n",
       "\n",
       "    .dataframe thead th {\n",
       "        text-align: right;\n",
       "    }\n",
       "</style>\n",
       "<table border=\"1\" class=\"dataframe\">\n",
       "  <thead>\n",
       "    <tr style=\"text-align: right;\">\n",
       "      <th></th>\n",
       "      <th>age</th>\n",
       "      <th>measurement</th>\n",
       "    </tr>\n",
       "  </thead>\n",
       "  <tbody>\n",
       "    <tr>\n",
       "      <th>0</th>\n",
       "      <td>21.0</td>\n",
       "      <td>0.52</td>\n",
       "    </tr>\n",
       "    <tr>\n",
       "      <th>1</th>\n",
       "      <td>56.0</td>\n",
       "      <td>0.68</td>\n",
       "    </tr>\n",
       "    <tr>\n",
       "      <th>2</th>\n",
       "      <td>33.0</td>\n",
       "      <td>-0.39</td>\n",
       "    </tr>\n",
       "    <tr>\n",
       "      <th>3</th>\n",
       "      <td>-9999.0</td>\n",
       "      <td>-9999.00</td>\n",
       "    </tr>\n",
       "    <tr>\n",
       "      <th>4</th>\n",
       "      <td>27.0</td>\n",
       "      <td>2.51</td>\n",
       "    </tr>\n",
       "    <tr>\n",
       "      <th>5</th>\n",
       "      <td>-9999.0</td>\n",
       "      <td>-9999.00</td>\n",
       "    </tr>\n",
       "    <tr>\n",
       "      <th>6</th>\n",
       "      <td>32.0</td>\n",
       "      <td>-2.65</td>\n",
       "    </tr>\n",
       "  </tbody>\n",
       "</table>\n",
       "</div>"
      ],
      "text/plain": [
       "      age  measurement\n",
       "0    21.0         0.52\n",
       "1    56.0         0.68\n",
       "2    33.0        -0.39\n",
       "3 -9999.0     -9999.00\n",
       "4    27.0         2.51\n",
       "5 -9999.0     -9999.00\n",
       "6    32.0        -2.65"
      ]
     },
     "execution_count": 12,
     "metadata": {},
     "output_type": "execute_result"
    }
   ],
   "source": [
    "# Fill in missing values with a constant\n",
    "df2.loc[:, ['age', 'measurement']].fillna(-9999)"
   ]
  },
  {
   "cell_type": "code",
   "execution_count": 13,
   "metadata": {},
   "outputs": [
    {
     "data": {
      "text/html": [
       "<div>\n",
       "<style scoped>\n",
       "    .dataframe tbody tr th:only-of-type {\n",
       "        vertical-align: middle;\n",
       "    }\n",
       "\n",
       "    .dataframe tbody tr th {\n",
       "        vertical-align: top;\n",
       "    }\n",
       "\n",
       "    .dataframe thead th {\n",
       "        text-align: right;\n",
       "    }\n",
       "</style>\n",
       "<table border=\"1\" class=\"dataframe\">\n",
       "  <thead>\n",
       "    <tr style=\"text-align: right;\">\n",
       "      <th></th>\n",
       "      <th>age</th>\n",
       "      <th>measurement</th>\n",
       "    </tr>\n",
       "  </thead>\n",
       "  <tbody>\n",
       "    <tr>\n",
       "      <th>0</th>\n",
       "      <td>21.0</td>\n",
       "      <td>0.520</td>\n",
       "    </tr>\n",
       "    <tr>\n",
       "      <th>1</th>\n",
       "      <td>56.0</td>\n",
       "      <td>0.680</td>\n",
       "    </tr>\n",
       "    <tr>\n",
       "      <th>2</th>\n",
       "      <td>33.0</td>\n",
       "      <td>-0.390</td>\n",
       "    </tr>\n",
       "    <tr>\n",
       "      <th>3</th>\n",
       "      <td>33.8</td>\n",
       "      <td>0.134</td>\n",
       "    </tr>\n",
       "    <tr>\n",
       "      <th>4</th>\n",
       "      <td>27.0</td>\n",
       "      <td>2.510</td>\n",
       "    </tr>\n",
       "    <tr>\n",
       "      <th>5</th>\n",
       "      <td>33.8</td>\n",
       "      <td>0.134</td>\n",
       "    </tr>\n",
       "    <tr>\n",
       "      <th>6</th>\n",
       "      <td>32.0</td>\n",
       "      <td>-2.650</td>\n",
       "    </tr>\n",
       "  </tbody>\n",
       "</table>\n",
       "</div>"
      ],
      "text/plain": [
       "    age  measurement\n",
       "0  21.0        0.520\n",
       "1  56.0        0.680\n",
       "2  33.0       -0.390\n",
       "3  33.8        0.134\n",
       "4  27.0        2.510\n",
       "5  33.8        0.134\n",
       "6  32.0       -2.650"
      ]
     },
     "execution_count": 13,
     "metadata": {},
     "output_type": "execute_result"
    }
   ],
   "source": [
    "# Fill in missing values with column summary statistics\n",
    "# df2.loc[:, ['age', 'measurement']]\n",
    "# df2.mean()[['age','measurement']].round(2)\n",
    "df2.loc[:, ['age', 'measurement']].fillna(df2.mean()[['age','measurement']])"
   ]
  },
  {
   "cell_type": "markdown",
   "metadata": {},
   "source": [
    "#### [scikit-learn](https://scikit-learn.org/stable/modules/impute.html#impute)"
   ]
  },
  {
   "cell_type": "code",
   "execution_count": 14,
   "metadata": {},
   "outputs": [
    {
     "data": {
      "text/html": [
       "<div>\n",
       "<style scoped>\n",
       "    .dataframe tbody tr th:only-of-type {\n",
       "        vertical-align: middle;\n",
       "    }\n",
       "\n",
       "    .dataframe tbody tr th {\n",
       "        vertical-align: top;\n",
       "    }\n",
       "\n",
       "    .dataframe thead th {\n",
       "        text-align: right;\n",
       "    }\n",
       "</style>\n",
       "<table border=\"1\" class=\"dataframe\">\n",
       "  <thead>\n",
       "    <tr style=\"text-align: right;\">\n",
       "      <th></th>\n",
       "      <th>age</th>\n",
       "      <th>measurement</th>\n",
       "    </tr>\n",
       "  </thead>\n",
       "  <tbody>\n",
       "    <tr>\n",
       "      <th>0</th>\n",
       "      <td>21.0</td>\n",
       "      <td>0.52</td>\n",
       "    </tr>\n",
       "    <tr>\n",
       "      <th>1</th>\n",
       "      <td>56.0</td>\n",
       "      <td>0.68</td>\n",
       "    </tr>\n",
       "    <tr>\n",
       "      <th>2</th>\n",
       "      <td>33.0</td>\n",
       "      <td>-0.39</td>\n",
       "    </tr>\n",
       "    <tr>\n",
       "      <th>3</th>\n",
       "      <td>-9999.0</td>\n",
       "      <td>-9999.00</td>\n",
       "    </tr>\n",
       "    <tr>\n",
       "      <th>4</th>\n",
       "      <td>27.0</td>\n",
       "      <td>2.51</td>\n",
       "    </tr>\n",
       "    <tr>\n",
       "      <th>5</th>\n",
       "      <td>-9999.0</td>\n",
       "      <td>-9999.00</td>\n",
       "    </tr>\n",
       "    <tr>\n",
       "      <th>6</th>\n",
       "      <td>32.0</td>\n",
       "      <td>-2.65</td>\n",
       "    </tr>\n",
       "  </tbody>\n",
       "</table>\n",
       "</div>"
      ],
      "text/plain": [
       "      age  measurement\n",
       "0    21.0         0.52\n",
       "1    56.0         0.68\n",
       "2    33.0        -0.39\n",
       "3 -9999.0     -9999.00\n",
       "4    27.0         2.51\n",
       "5 -9999.0     -9999.00\n",
       "6    32.0        -2.65"
      ]
     },
     "execution_count": 14,
     "metadata": {},
     "output_type": "execute_result"
    }
   ],
   "source": [
    "# Fill in missing values with a constant\n",
    "imp = SimpleImputer(missing_values=np.nan, strategy='constant', fill_value=-9999)\n",
    "\n",
    "imputed = imp.fit_transform(df2.loc[:, ['age', 'measurement']].values)\n",
    "\n",
    "pd.DataFrame(imputed, columns=['age', 'measurement'])"
   ]
  },
  {
   "cell_type": "code",
   "execution_count": 15,
   "metadata": {},
   "outputs": [
    {
     "data": {
      "text/html": [
       "<div>\n",
       "<style scoped>\n",
       "    .dataframe tbody tr th:only-of-type {\n",
       "        vertical-align: middle;\n",
       "    }\n",
       "\n",
       "    .dataframe tbody tr th {\n",
       "        vertical-align: top;\n",
       "    }\n",
       "\n",
       "    .dataframe thead th {\n",
       "        text-align: right;\n",
       "    }\n",
       "</style>\n",
       "<table border=\"1\" class=\"dataframe\">\n",
       "  <thead>\n",
       "    <tr style=\"text-align: right;\">\n",
       "      <th></th>\n",
       "      <th>age</th>\n",
       "      <th>measurement</th>\n",
       "    </tr>\n",
       "  </thead>\n",
       "  <tbody>\n",
       "    <tr>\n",
       "      <th>0</th>\n",
       "      <td>21.0</td>\n",
       "      <td>0.520</td>\n",
       "    </tr>\n",
       "    <tr>\n",
       "      <th>1</th>\n",
       "      <td>56.0</td>\n",
       "      <td>0.680</td>\n",
       "    </tr>\n",
       "    <tr>\n",
       "      <th>2</th>\n",
       "      <td>33.0</td>\n",
       "      <td>-0.390</td>\n",
       "    </tr>\n",
       "    <tr>\n",
       "      <th>3</th>\n",
       "      <td>33.8</td>\n",
       "      <td>0.134</td>\n",
       "    </tr>\n",
       "    <tr>\n",
       "      <th>4</th>\n",
       "      <td>27.0</td>\n",
       "      <td>2.510</td>\n",
       "    </tr>\n",
       "    <tr>\n",
       "      <th>5</th>\n",
       "      <td>33.8</td>\n",
       "      <td>0.134</td>\n",
       "    </tr>\n",
       "    <tr>\n",
       "      <th>6</th>\n",
       "      <td>32.0</td>\n",
       "      <td>-2.650</td>\n",
       "    </tr>\n",
       "  </tbody>\n",
       "</table>\n",
       "</div>"
      ],
      "text/plain": [
       "    age  measurement\n",
       "0  21.0        0.520\n",
       "1  56.0        0.680\n",
       "2  33.0       -0.390\n",
       "3  33.8        0.134\n",
       "4  27.0        2.510\n",
       "5  33.8        0.134\n",
       "6  32.0       -2.650"
      ]
     },
     "execution_count": 15,
     "metadata": {},
     "output_type": "execute_result"
    }
   ],
   "source": [
    "# Fill in missing values with column summary statistics\n",
    "imp = SimpleImputer(missing_values=np.nan, strategy='mean')\n",
    "\n",
    "imputed = imp.fit_transform(df2.loc[:, ['age', 'measurement']].values)\n",
    "\n",
    "pd.DataFrame(imputed, columns=['age', 'measurement'])"
   ]
  },
  {
   "cell_type": "code",
   "execution_count": 16,
   "metadata": {},
   "outputs": [
    {
     "data": {
      "text/html": [
       "<div>\n",
       "<style scoped>\n",
       "    .dataframe tbody tr th:only-of-type {\n",
       "        vertical-align: middle;\n",
       "    }\n",
       "\n",
       "    .dataframe tbody tr th {\n",
       "        vertical-align: top;\n",
       "    }\n",
       "\n",
       "    .dataframe thead th {\n",
       "        text-align: right;\n",
       "    }\n",
       "</style>\n",
       "<table border=\"1\" class=\"dataframe\">\n",
       "  <thead>\n",
       "    <tr style=\"text-align: right;\">\n",
       "      <th></th>\n",
       "      <th>age</th>\n",
       "      <th>measurement</th>\n",
       "    </tr>\n",
       "  </thead>\n",
       "  <tbody>\n",
       "    <tr>\n",
       "      <th>0</th>\n",
       "      <td>21.0</td>\n",
       "      <td>0.520</td>\n",
       "    </tr>\n",
       "    <tr>\n",
       "      <th>1</th>\n",
       "      <td>56.0</td>\n",
       "      <td>0.680</td>\n",
       "    </tr>\n",
       "    <tr>\n",
       "      <th>2</th>\n",
       "      <td>33.0</td>\n",
       "      <td>-0.390</td>\n",
       "    </tr>\n",
       "    <tr>\n",
       "      <th>3</th>\n",
       "      <td>33.8</td>\n",
       "      <td>0.134</td>\n",
       "    </tr>\n",
       "    <tr>\n",
       "      <th>4</th>\n",
       "      <td>27.0</td>\n",
       "      <td>2.510</td>\n",
       "    </tr>\n",
       "    <tr>\n",
       "      <th>5</th>\n",
       "      <td>33.8</td>\n",
       "      <td>0.134</td>\n",
       "    </tr>\n",
       "    <tr>\n",
       "      <th>6</th>\n",
       "      <td>32.0</td>\n",
       "      <td>-2.650</td>\n",
       "    </tr>\n",
       "  </tbody>\n",
       "</table>\n",
       "</div>"
      ],
      "text/plain": [
       "    age  measurement\n",
       "0  21.0        0.520\n",
       "1  56.0        0.680\n",
       "2  33.0       -0.390\n",
       "3  33.8        0.134\n",
       "4  27.0        2.510\n",
       "5  33.8        0.134\n",
       "6  32.0       -2.650"
      ]
     },
     "execution_count": 16,
     "metadata": {},
     "output_type": "execute_result"
    }
   ],
   "source": [
    "# Fill in missing values with average of k-nearest neighbors\n",
    "knn_imp = KNNImputer(n_neighbors=2, weights=\"uniform\")\n",
    "\n",
    "imputed = knn_imp.fit_transform(df2.loc[:, ['age', 'measurement']].values)\n",
    "\n",
    "pd.DataFrame(imputed, columns=['age', 'measurement'])"
   ]
  },
  {
   "cell_type": "markdown",
   "metadata": {},
   "source": [
    "### String features"
   ]
  },
  {
   "cell_type": "markdown",
   "metadata": {},
   "source": [
    "#### pandas"
   ]
  },
  {
   "cell_type": "code",
   "execution_count": 17,
   "metadata": {},
   "outputs": [
    {
     "data": {
      "text/html": [
       "<div>\n",
       "<style scoped>\n",
       "    .dataframe tbody tr th:only-of-type {\n",
       "        vertical-align: middle;\n",
       "    }\n",
       "\n",
       "    .dataframe tbody tr th {\n",
       "        vertical-align: top;\n",
       "    }\n",
       "\n",
       "    .dataframe thead th {\n",
       "        text-align: right;\n",
       "    }\n",
       "</style>\n",
       "<table border=\"1\" class=\"dataframe\">\n",
       "  <thead>\n",
       "    <tr style=\"text-align: right;\">\n",
       "      <th></th>\n",
       "      <th>gender</th>\n",
       "      <th>education</th>\n",
       "    </tr>\n",
       "  </thead>\n",
       "  <tbody>\n",
       "    <tr>\n",
       "      <th>0</th>\n",
       "      <td>Male</td>\n",
       "      <td>Bachelors</td>\n",
       "    </tr>\n",
       "    <tr>\n",
       "      <th>1</th>\n",
       "      <td>Female</td>\n",
       "      <td>PhD</td>\n",
       "    </tr>\n",
       "    <tr>\n",
       "      <th>2</th>\n",
       "      <td>Female</td>\n",
       "      <td>Masters</td>\n",
       "    </tr>\n",
       "    <tr>\n",
       "      <th>3</th>\n",
       "      <td>Unknown</td>\n",
       "      <td>Unknown</td>\n",
       "    </tr>\n",
       "    <tr>\n",
       "      <th>4</th>\n",
       "      <td>Male</td>\n",
       "      <td>Bachelors</td>\n",
       "    </tr>\n",
       "    <tr>\n",
       "      <th>5</th>\n",
       "      <td>Unknown</td>\n",
       "      <td>Unknown</td>\n",
       "    </tr>\n",
       "    <tr>\n",
       "      <th>6</th>\n",
       "      <td>Female</td>\n",
       "      <td>Bachelors</td>\n",
       "    </tr>\n",
       "  </tbody>\n",
       "</table>\n",
       "</div>"
      ],
      "text/plain": [
       "    gender  education\n",
       "0     Male  Bachelors\n",
       "1   Female        PhD\n",
       "2   Female    Masters\n",
       "3  Unknown    Unknown\n",
       "4     Male  Bachelors\n",
       "5  Unknown    Unknown\n",
       "6   Female  Bachelors"
      ]
     },
     "execution_count": 17,
     "metadata": {},
     "output_type": "execute_result"
    }
   ],
   "source": [
    "# Fill in missing values with a constant\n",
    "df2.loc[:, ['gender', 'education']].fillna('Unknown')"
   ]
  },
  {
   "cell_type": "code",
   "execution_count": 18,
   "metadata": {},
   "outputs": [
    {
     "data": {
      "text/html": [
       "<div>\n",
       "<style scoped>\n",
       "    .dataframe tbody tr th:only-of-type {\n",
       "        vertical-align: middle;\n",
       "    }\n",
       "\n",
       "    .dataframe tbody tr th {\n",
       "        vertical-align: top;\n",
       "    }\n",
       "\n",
       "    .dataframe thead th {\n",
       "        text-align: right;\n",
       "    }\n",
       "</style>\n",
       "<table border=\"1\" class=\"dataframe\">\n",
       "  <thead>\n",
       "    <tr style=\"text-align: right;\">\n",
       "      <th></th>\n",
       "      <th>gender</th>\n",
       "      <th>education</th>\n",
       "    </tr>\n",
       "  </thead>\n",
       "  <tbody>\n",
       "    <tr>\n",
       "      <th>0</th>\n",
       "      <td>Male</td>\n",
       "      <td>Bachelors</td>\n",
       "    </tr>\n",
       "    <tr>\n",
       "      <th>1</th>\n",
       "      <td>Female</td>\n",
       "      <td>PhD</td>\n",
       "    </tr>\n",
       "    <tr>\n",
       "      <th>2</th>\n",
       "      <td>Female</td>\n",
       "      <td>Masters</td>\n",
       "    </tr>\n",
       "    <tr>\n",
       "      <th>3</th>\n",
       "      <td>Female</td>\n",
       "      <td>Bachelors</td>\n",
       "    </tr>\n",
       "    <tr>\n",
       "      <th>4</th>\n",
       "      <td>Male</td>\n",
       "      <td>Bachelors</td>\n",
       "    </tr>\n",
       "    <tr>\n",
       "      <th>5</th>\n",
       "      <td>Female</td>\n",
       "      <td>Bachelors</td>\n",
       "    </tr>\n",
       "    <tr>\n",
       "      <th>6</th>\n",
       "      <td>Female</td>\n",
       "      <td>Bachelors</td>\n",
       "    </tr>\n",
       "  </tbody>\n",
       "</table>\n",
       "</div>"
      ],
      "text/plain": [
       "   gender  education\n",
       "0    Male  Bachelors\n",
       "1  Female        PhD\n",
       "2  Female    Masters\n",
       "3  Female  Bachelors\n",
       "4    Male  Bachelors\n",
       "5  Female  Bachelors\n",
       "6  Female  Bachelors"
      ]
     },
     "execution_count": 18,
     "metadata": {},
     "output_type": "execute_result"
    }
   ],
   "source": [
    "# Fill in missing values with the most frequent column value\n",
    "df2.loc[:, ['gender', 'education']].fillna(df2.mode().iloc[0])"
   ]
  },
  {
   "cell_type": "markdown",
   "metadata": {},
   "source": [
    "#### scikit-learn"
   ]
  },
  {
   "cell_type": "code",
   "execution_count": 19,
   "metadata": {},
   "outputs": [
    {
     "data": {
      "text/html": [
       "<div>\n",
       "<style scoped>\n",
       "    .dataframe tbody tr th:only-of-type {\n",
       "        vertical-align: middle;\n",
       "    }\n",
       "\n",
       "    .dataframe tbody tr th {\n",
       "        vertical-align: top;\n",
       "    }\n",
       "\n",
       "    .dataframe thead th {\n",
       "        text-align: right;\n",
       "    }\n",
       "</style>\n",
       "<table border=\"1\" class=\"dataframe\">\n",
       "  <thead>\n",
       "    <tr style=\"text-align: right;\">\n",
       "      <th></th>\n",
       "      <th>gender</th>\n",
       "      <th>education</th>\n",
       "    </tr>\n",
       "  </thead>\n",
       "  <tbody>\n",
       "    <tr>\n",
       "      <th>0</th>\n",
       "      <td>Male</td>\n",
       "      <td>Bachelors</td>\n",
       "    </tr>\n",
       "    <tr>\n",
       "      <th>1</th>\n",
       "      <td>Female</td>\n",
       "      <td>PhD</td>\n",
       "    </tr>\n",
       "    <tr>\n",
       "      <th>2</th>\n",
       "      <td>Female</td>\n",
       "      <td>Masters</td>\n",
       "    </tr>\n",
       "    <tr>\n",
       "      <th>3</th>\n",
       "      <td>Unknown</td>\n",
       "      <td>Unknown</td>\n",
       "    </tr>\n",
       "    <tr>\n",
       "      <th>4</th>\n",
       "      <td>Male</td>\n",
       "      <td>Bachelors</td>\n",
       "    </tr>\n",
       "    <tr>\n",
       "      <th>5</th>\n",
       "      <td>Unknown</td>\n",
       "      <td>Unknown</td>\n",
       "    </tr>\n",
       "    <tr>\n",
       "      <th>6</th>\n",
       "      <td>Female</td>\n",
       "      <td>Bachelors</td>\n",
       "    </tr>\n",
       "  </tbody>\n",
       "</table>\n",
       "</div>"
      ],
      "text/plain": [
       "    gender  education\n",
       "0     Male  Bachelors\n",
       "1   Female        PhD\n",
       "2   Female    Masters\n",
       "3  Unknown    Unknown\n",
       "4     Male  Bachelors\n",
       "5  Unknown    Unknown\n",
       "6   Female  Bachelors"
      ]
     },
     "execution_count": 19,
     "metadata": {},
     "output_type": "execute_result"
    }
   ],
   "source": [
    "# Fill in missing values with a constant\n",
    "imp = SimpleImputer(missing_values=np.nan, strategy='constant', fill_value='Unknown')\n",
    "\n",
    "imputed = imp.fit_transform(df2.loc[:, ['gender', 'education']].values)\n",
    "\n",
    "pd.DataFrame(imputed, columns=['gender', 'education'])"
   ]
  },
  {
   "cell_type": "code",
   "execution_count": 20,
   "metadata": {},
   "outputs": [
    {
     "data": {
      "text/html": [
       "<div>\n",
       "<style scoped>\n",
       "    .dataframe tbody tr th:only-of-type {\n",
       "        vertical-align: middle;\n",
       "    }\n",
       "\n",
       "    .dataframe tbody tr th {\n",
       "        vertical-align: top;\n",
       "    }\n",
       "\n",
       "    .dataframe thead th {\n",
       "        text-align: right;\n",
       "    }\n",
       "</style>\n",
       "<table border=\"1\" class=\"dataframe\">\n",
       "  <thead>\n",
       "    <tr style=\"text-align: right;\">\n",
       "      <th></th>\n",
       "      <th>gender</th>\n",
       "      <th>education</th>\n",
       "    </tr>\n",
       "  </thead>\n",
       "  <tbody>\n",
       "    <tr>\n",
       "      <th>0</th>\n",
       "      <td>Male</td>\n",
       "      <td>Bachelors</td>\n",
       "    </tr>\n",
       "    <tr>\n",
       "      <th>1</th>\n",
       "      <td>Female</td>\n",
       "      <td>PhD</td>\n",
       "    </tr>\n",
       "    <tr>\n",
       "      <th>2</th>\n",
       "      <td>Female</td>\n",
       "      <td>Masters</td>\n",
       "    </tr>\n",
       "    <tr>\n",
       "      <th>3</th>\n",
       "      <td>Female</td>\n",
       "      <td>Bachelors</td>\n",
       "    </tr>\n",
       "    <tr>\n",
       "      <th>4</th>\n",
       "      <td>Male</td>\n",
       "      <td>Bachelors</td>\n",
       "    </tr>\n",
       "    <tr>\n",
       "      <th>5</th>\n",
       "      <td>Female</td>\n",
       "      <td>Bachelors</td>\n",
       "    </tr>\n",
       "    <tr>\n",
       "      <th>6</th>\n",
       "      <td>Female</td>\n",
       "      <td>Bachelors</td>\n",
       "    </tr>\n",
       "  </tbody>\n",
       "</table>\n",
       "</div>"
      ],
      "text/plain": [
       "   gender  education\n",
       "0    Male  Bachelors\n",
       "1  Female        PhD\n",
       "2  Female    Masters\n",
       "3  Female  Bachelors\n",
       "4    Male  Bachelors\n",
       "5  Female  Bachelors\n",
       "6  Female  Bachelors"
      ]
     },
     "execution_count": 20,
     "metadata": {},
     "output_type": "execute_result"
    }
   ],
   "source": [
    "# Fill in missing values with the most frequent column value\n",
    "imp = SimpleImputer(missing_values=np.nan, strategy='most_frequent')\n",
    "\n",
    "imputed = imp.fit_transform(df2.loc[:, ['gender', 'education']].values)\n",
    "\n",
    "pd.DataFrame(imputed, columns=['gender', 'education'])"
   ]
  },
  {
   "cell_type": "markdown",
   "metadata": {},
   "source": [
    "### [Date features](https://pandas.pydata.org/pandas-docs/stable/getting_started/basics.html#filling-while-reindexing)"
   ]
  },
  {
   "cell_type": "code",
   "execution_count": 21,
   "metadata": {},
   "outputs": [
    {
     "data": {
      "text/plain": [
       "0   2020-04-25\n",
       "1   2020-04-26\n",
       "2   2020-04-27\n",
       "3          NaT\n",
       "4   2020-04-29\n",
       "5          NaT\n",
       "6   2020-05-01\n",
       "Name: date, dtype: datetime64[ns]"
      ]
     },
     "execution_count": 21,
     "metadata": {},
     "output_type": "execute_result"
    }
   ],
   "source": [
    "df2.date"
   ]
  },
  {
   "cell_type": "code",
   "execution_count": 22,
   "metadata": {},
   "outputs": [
    {
     "data": {
      "text/plain": [
       "[Timestamp('2020-04-25 00:00:00', freq='D'),\n",
       " Timestamp('2020-04-26 00:00:00', freq='D'),\n",
       " Timestamp('2020-04-27 00:00:00', freq='D'),\n",
       " Timestamp('2020-04-28 00:00:00', freq='D'),\n",
       " Timestamp('2020-04-29 00:00:00', freq='D'),\n",
       " Timestamp('2020-04-30 00:00:00', freq='D'),\n",
       " Timestamp('2020-05-01 00:00:00', freq='D')]"
      ]
     },
     "execution_count": 22,
     "metadata": {},
     "output_type": "execute_result"
    }
   ],
   "source": [
    "# All datetime types\n",
    "r = pd.date_range(start=df2.date.min(), end=df2.date.max(), freq='D')\n",
    "\n",
    "df2.select_dtypes('datetime').reindex(r).index.to_list()"
   ]
  },
  {
   "cell_type": "code",
   "execution_count": 23,
   "metadata": {},
   "outputs": [
    {
     "data": {
      "text/plain": [
       "[Timestamp('2020-04-25 00:00:00', freq='D'),\n",
       " Timestamp('2020-04-26 00:00:00', freq='D'),\n",
       " Timestamp('2020-04-27 00:00:00', freq='D'),\n",
       " Timestamp('2020-04-28 00:00:00', freq='D'),\n",
       " Timestamp('2020-04-29 00:00:00', freq='D'),\n",
       " Timestamp('2020-04-30 00:00:00', freq='D'),\n",
       " Timestamp('2020-05-01 00:00:00', freq='D')]"
      ]
     },
     "execution_count": 23,
     "metadata": {},
     "output_type": "execute_result"
    }
   ],
   "source": [
    "def impute_dates(a_df, a_column, col_freq='D'):\n",
    "    r = pd.date_range(start=a_df[a_column].min(), end=a_df[a_column].max(), freq=col_freq)\n",
    "    imputed_dates = a_df[a_column].reindex(r).index\n",
    "    return imputed_dates\n",
    "\n",
    "\n",
    "list(impute_dates(df2, 'date'))"
   ]
  },
  {
   "cell_type": "markdown",
   "metadata": {},
   "source": [
    "### [Fill in missing values with weighted random choices](https://docs.python.org/dev/library/random.html#random.choices)"
   ]
  },
  {
   "cell_type": "code",
   "execution_count": 24,
   "metadata": {},
   "outputs": [
    {
     "data": {
      "text/html": [
       "<div>\n",
       "<style scoped>\n",
       "    .dataframe tbody tr th:only-of-type {\n",
       "        vertical-align: middle;\n",
       "    }\n",
       "\n",
       "    .dataframe tbody tr th {\n",
       "        vertical-align: top;\n",
       "    }\n",
       "\n",
       "    .dataframe thead th {\n",
       "        text-align: right;\n",
       "    }\n",
       "</style>\n",
       "<table border=\"1\" class=\"dataframe\">\n",
       "  <thead>\n",
       "    <tr style=\"text-align: right;\">\n",
       "      <th></th>\n",
       "      <th>count</th>\n",
       "      <th>percent</th>\n",
       "    </tr>\n",
       "  </thead>\n",
       "  <tbody>\n",
       "    <tr>\n",
       "      <th>Bachelors</th>\n",
       "      <td>4</td>\n",
       "      <td>0.57</td>\n",
       "    </tr>\n",
       "    <tr>\n",
       "      <th>Masters</th>\n",
       "      <td>2</td>\n",
       "      <td>0.29</td>\n",
       "    </tr>\n",
       "    <tr>\n",
       "      <th>PhD</th>\n",
       "      <td>1</td>\n",
       "      <td>0.14</td>\n",
       "    </tr>\n",
       "  </tbody>\n",
       "</table>\n",
       "</div>"
      ],
      "text/plain": [
       "           count  percent\n",
       "Bachelors      4     0.57\n",
       "Masters        2     0.29\n",
       "PhD            1     0.14"
      ]
     },
     "execution_count": 24,
     "metadata": {},
     "output_type": "execute_result"
    }
   ],
   "source": [
    "educ_counts = df.education.value_counts()\n",
    "educ_total  = df.education.value_counts().sum()\n",
    "educ_pcts   = educ_counts / educ_total\n",
    "\n",
    "tmp = pd.concat([educ_counts, educ_pcts], axis=1)\n",
    "tmp.columns = ['count', 'percent']\n",
    "tmp.round(2)"
   ]
  },
  {
   "cell_type": "code",
   "execution_count": 25,
   "metadata": {},
   "outputs": [],
   "source": [
    "from random import choices\n",
    "\n",
    "# The number of missing values in the column: education\n",
    "num_missing = df2.loc[df2.education.isnull(), 'education'].shape[0]\n",
    "\n",
    "# Fill in the missing values with selections from the set of non-missing values in the column,\n",
    "# randomly selected in proportion to their prevalence in the non-missing data\n",
    "df3 = df2.copy()\n",
    "df3.loc[df3.education.isnull(), 'education'] = choices(tmp.index, \n",
    "                                                       weights=tmp.percent, \n",
    "                                                       k=num_missing)"
   ]
  },
  {
   "cell_type": "code",
   "execution_count": 26,
   "metadata": {},
   "outputs": [
    {
     "data": {
      "text/html": [
       "<div>\n",
       "<style scoped>\n",
       "    .dataframe tbody tr th:only-of-type {\n",
       "        vertical-align: middle;\n",
       "    }\n",
       "\n",
       "    .dataframe tbody tr th {\n",
       "        vertical-align: top;\n",
       "    }\n",
       "\n",
       "    .dataframe thead th {\n",
       "        text-align: right;\n",
       "    }\n",
       "</style>\n",
       "<table border=\"1\" class=\"dataframe\">\n",
       "  <thead>\n",
       "    <tr style=\"text-align: right;\">\n",
       "      <th></th>\n",
       "      <th>count</th>\n",
       "      <th>percent</th>\n",
       "    </tr>\n",
       "  </thead>\n",
       "  <tbody>\n",
       "    <tr>\n",
       "      <th>Bachelors</th>\n",
       "      <td>5</td>\n",
       "      <td>0.71</td>\n",
       "    </tr>\n",
       "    <tr>\n",
       "      <th>PhD</th>\n",
       "      <td>1</td>\n",
       "      <td>0.14</td>\n",
       "    </tr>\n",
       "    <tr>\n",
       "      <th>Masters</th>\n",
       "      <td>1</td>\n",
       "      <td>0.14</td>\n",
       "    </tr>\n",
       "  </tbody>\n",
       "</table>\n",
       "</div>"
      ],
      "text/plain": [
       "           count  percent\n",
       "Bachelors      5     0.71\n",
       "PhD            1     0.14\n",
       "Masters        1     0.14"
      ]
     },
     "execution_count": 26,
     "metadata": {},
     "output_type": "execute_result"
    }
   ],
   "source": [
    "educ_counts3 = df3.education.value_counts()\n",
    "educ_total3  = df3.education.value_counts().sum()\n",
    "educ_pcts3   = educ_counts3 / educ_total3\n",
    "\n",
    "tmp3 = pd.concat([educ_counts3, educ_pcts3], axis=1)\n",
    "tmp3.columns = ['count', 'percent']\n",
    "tmp3.round(2)"
   ]
  },
  {
   "cell_type": "markdown",
   "metadata": {},
   "source": [
    "<a id=\"center_features\"></a>"
   ]
  },
  {
   "cell_type": "markdown",
   "metadata": {},
   "source": [
    "# [Center features](https://scikit-learn.org/stable/modules/preprocessing.html)"
   ]
  },
  {
   "cell_type": "markdown",
   "metadata": {},
   "source": [
    "[Why](https://stats.stackexchange.com/questions/29781/when-conducting-multiple-regression-when-should-you-center-your-predictor-varia)/[When](https://statmodeling.stat.columbia.edu/2009/07/11/when_to_standar/) to center and scale features?\n",
    "  - To improve interpretation\n",
    "  - To put features on more equal footing\n",
    "  - To improve numerical stability of some calculations"
   ]
  },
  {
   "cell_type": "code",
   "execution_count": 27,
   "metadata": {},
   "outputs": [
    {
     "name": "stdout",
     "output_type": "stream",
     "text": [
      "mean: 13.0  standard deviation: 2.4\n"
     ]
    }
   ],
   "source": [
    "r = pd.Series(skewnorm.rvs(a=4, loc=10, scale=4, size=1000))\n",
    "print('mean: {}  standard deviation: {}'.format(round(r.mean(), 1), round(r.std(), 1)))"
   ]
  },
  {
   "cell_type": "markdown",
   "metadata": {},
   "source": [
    "#### pandas"
   ]
  },
  {
   "cell_type": "code",
   "execution_count": 28,
   "metadata": {},
   "outputs": [
    {
     "name": "stdout",
     "output_type": "stream",
     "text": [
      "mean (original): 13    mean (centered): 0\n"
     ]
    }
   ],
   "source": [
    "r_centered = r.apply(lambda val: val - r.mean())\n",
    "print('mean (original): {}    mean (centered): {}'.format(round(r.mean()), round(r_centered.mean())))"
   ]
  },
  {
   "cell_type": "code",
   "execution_count": 29,
   "metadata": {},
   "outputs": [
    {
     "data": {
      "image/png": "[encoded data removed]",
      "text/plain": [
       "<Figure size 864x360 with 2 Axes>"
      ]
     },
     "metadata": {
      "needs_background": "light"
     },
     "output_type": "display_data"
    }
   ],
   "source": [
    "fig, axes = plt.subplots(figsize=(12, 5), ncols=2)\n",
    "sns.distplot(r,          ax=axes[0], kde=False, rug=False).set_title('Original')\n",
    "sns.distplot(r_centered, ax=axes[1], kde=False, rug=False).set_title('Centered');"
   ]
  },
  {
   "cell_type": "markdown",
   "metadata": {},
   "source": [
    "#### scikit-learn"
   ]
  },
  {
   "cell_type": "code",
   "execution_count": 30,
   "metadata": {},
   "outputs": [
    {
     "name": "stdout",
     "output_type": "stream",
     "text": [
      "mean (original): 13    mean (centered): 0\n"
     ]
    }
   ],
   "source": [
    "scaler = StandardScaler(with_std=False)\n",
    "\n",
    "r_centered = scaler.fit_transform(r.values.reshape(-1, 1))\n",
    "print('mean (original): {}    mean (centered): {}'.format(round(r.mean()), abs(round(r_centered.mean()))))"
   ]
  },
  {
   "cell_type": "code",
   "execution_count": 31,
   "metadata": {},
   "outputs": [
    {
     "data": {
      "image/png": "[encoded data removed]",
      "text/plain": [
       "<Figure size 864x360 with 2 Axes>"
      ]
     },
     "metadata": {
      "needs_background": "light"
     },
     "output_type": "display_data"
    }
   ],
   "source": [
    "fig, axes = plt.subplots(figsize=(12, 5), ncols=2)\n",
    "sns.distplot(r,          ax=axes[0], kde=False, rug=False).set_title('Original')\n",
    "sns.distplot(r_centered, ax=axes[1], kde=False, rug=False).set_title('Centered');"
   ]
  },
  {
   "cell_type": "markdown",
   "metadata": {},
   "source": [
    "<a id=\"scale_features\"></a>"
   ]
  },
  {
   "cell_type": "markdown",
   "metadata": {},
   "source": [
    "# [Scale features](https://scikit-learn.org/stable/modules/preprocessing.html)"
   ]
  },
  {
   "cell_type": "code",
   "execution_count": 32,
   "metadata": {},
   "outputs": [
    {
     "name": "stdout",
     "output_type": "stream",
     "text": [
      "mean: 13.2  standard deviation: 2.4\n"
     ]
    }
   ],
   "source": [
    "r = pd.Series(skewnorm.rvs(a=4, loc=10, scale=4, size=1000))\n",
    "print('mean: {}  standard deviation: {}'.format(round(r.mean(), 1), round(r.std(), 1)))"
   ]
  },
  {
   "cell_type": "markdown",
   "metadata": {},
   "source": [
    "#### pandas"
   ]
  },
  {
   "cell_type": "code",
   "execution_count": 33,
   "metadata": {},
   "outputs": [
    {
     "name": "stdout",
     "output_type": "stream",
     "text": [
      "mean (original): 13.2  mean (scaled): 0  std (original): 2.4  std (scaled): 1\n"
     ]
    }
   ],
   "source": [
    "r_scaled = r.apply(lambda val: (val - r.mean()) / r.std())\n",
    "print('mean (original): {}  mean (scaled): {}  \\\n",
    "std (original): {}  std (scaled): {}'.format(round(r.mean(), 1), \n",
    "                                             abs(round(r_scaled.mean())),\n",
    "                                             round(r.std(), 1),\n",
    "                                             round(r_scaled.std())\n",
    "                                            ))"
   ]
  },
  {
   "cell_type": "code",
   "execution_count": 34,
   "metadata": {},
   "outputs": [
    {
     "data": {
      "image/png": "[encoded data removed]",
      "text/plain": [
       "<Figure size 864x360 with 2 Axes>"
      ]
     },
     "metadata": {
      "needs_background": "light"
     },
     "output_type": "display_data"
    }
   ],
   "source": [
    "fig, axes = plt.subplots(figsize=(12, 5), ncols=2)\n",
    "sns.distplot(r,        ax=axes[0], kde=False, rug=False).set_title('Original')\n",
    "sns.distplot(r_scaled, ax=axes[1], kde=False, rug=False).set_title('Centered and Scaled');"
   ]
  },
  {
   "cell_type": "markdown",
   "metadata": {},
   "source": [
    "#### scikit-learn"
   ]
  },
  {
   "cell_type": "code",
   "execution_count": 35,
   "metadata": {},
   "outputs": [
    {
     "name": "stdout",
     "output_type": "stream",
     "text": [
      "mean (original): 13  mean (scaled): 0  std (original): 2  std (scaled): 1\n"
     ]
    }
   ],
   "source": [
    "scaler = StandardScaler()\n",
    "\n",
    "r_scaled = scaler.fit_transform(r.values.reshape(-1, 1))\n",
    "print('mean (original): {}  mean (scaled): {}  \\\n",
    "std (original): {}  std (scaled): {}'.format(round(r.mean()), \n",
    "                                             abs(round(r_scaled.mean())),\n",
    "                                             round(r.std()),\n",
    "                                             round(r_scaled.std())\n",
    "                                            ))"
   ]
  },
  {
   "cell_type": "code",
   "execution_count": 36,
   "metadata": {},
   "outputs": [
    {
     "data": {
      "image/png": "[encoded data removed]",
      "text/plain": [
       "<Figure size 864x360 with 2 Axes>"
      ]
     },
     "metadata": {
      "needs_background": "light"
     },
     "output_type": "display_data"
    }
   ],
   "source": [
    "fig, axes = plt.subplots(figsize=(12, 5), ncols=2)\n",
    "sns.distplot(r,        ax=axes[0], kde=False, rug=False).set_title('Original')\n",
    "sns.distplot(r_scaled, ax=axes[1], kde=False, rug=False).set_title('Centered and Scaled');"
   ]
  },
  {
   "cell_type": "markdown",
   "metadata": {},
   "source": [
    "<a id=\"map_to_gaussian\"></a>"
   ]
  },
  {
   "cell_type": "markdown",
   "metadata": {},
   "source": [
    "# [Map features to a Gaussian distribution](https://docs.scipy.org/doc/scipy/reference/stats.html#transformations)"
   ]
  },
  {
   "cell_type": "markdown",
   "metadata": {},
   "source": [
    "It's often desirable to have [Normally-distributed features](https://scikit-learn.org/stable/modules/preprocessing.html#mapping-to-a-gaussian-distribution):\n",
    "  - Stabilizes variance\n",
    "  - Minimizes skewness"
   ]
  },
  {
   "cell_type": "code",
   "execution_count": 37,
   "metadata": {},
   "outputs": [
    {
     "name": "stdout",
     "output_type": "stream",
     "text": [
      "mean: 13.08  standard deviation: 2.48\n"
     ]
    }
   ],
   "source": [
    "r = pd.Series(skewnorm.rvs(a=4, loc=10, scale=4, size=1000))\n",
    "print('mean: {}  standard deviation: {}'.format(round(r.mean(), 2), round(r.std(), 2)))"
   ]
  },
  {
   "cell_type": "markdown",
   "metadata": {},
   "source": [
    "## Common Transformations to Resolve Skewness"
   ]
  },
  {
   "cell_type": "code",
   "execution_count": 38,
   "metadata": {},
   "outputs": [
    {
     "data": {
      "image/png": "[encoded data removed]",
      "text/plain": [
       "<Figure size 1440x360 with 4 Axes>"
      ]
     },
     "metadata": {
      "needs_background": "light"
     },
     "output_type": "display_data"
    }
   ],
   "source": [
    "fig, axes = plt.subplots(figsize=(20, 5), ncols=4)\n",
    "sns.distplot(r,          ax=axes[0], kde=False, rug=False, fit=stats.norm).set_title('Original')\n",
    "sns.distplot(np.log(r),  ax=axes[1], kde=False, rug=False, fit=stats.norm).set_title('Natural Log') # natural log\n",
    "sns.distplot(np.sqrt(r), ax=axes[2], kde=False, rug=False, fit=stats.norm).set_title('Square Root') # square root \n",
    "sns.distplot(1/r,        ax=axes[3], kde=False, rug=False, fit=stats.norm).set_title('Inverse');    # inverse"
   ]
  },
  {
   "cell_type": "code",
   "execution_count": 39,
   "metadata": {},
   "outputs": [
    {
     "data": {
      "image/png": "[encoded data removed]",
      "text/plain": [
       "<IPython.core.display.Image object>"
      ]
     },
     "execution_count": 39,
     "metadata": {
      "image/png": {
       "width": 600
      }
     },
     "output_type": "execute_result"
    }
   ],
   "source": [
    "Image(filename='../images/scikit_learn_powertransformer_yeo_johnson_and_box_cox.png', width=600)"
   ]
  },
  {
   "cell_type": "markdown",
   "metadata": {},
   "source": [
    "#### scipy"
   ]
  },
  {
   "cell_type": "code",
   "execution_count": 40,
   "metadata": {},
   "outputs": [
    {
     "name": "stdout",
     "output_type": "stream",
     "text": [
      "mean (original): 13.08  mean (yeo-johnson): 1.72  std (original): 2.48  std (yeo-johnson): 0.07  lambda: -0.35\n"
     ]
    }
   ],
   "source": [
    "r_yj, lambda_ = yeojohnson(r)\n",
    "print('mean (original): {}  mean (yeo-johnson): {}  \\\n",
    "std (original): {}  std (yeo-johnson): {}  lambda: {}'.format(round(r.mean(), 2), \n",
    "                                                              round(r_yj.mean(), 2), \n",
    "                                                              round(r.std(), 2), \n",
    "                                                              round(r_yj.std(), 2), \n",
    "                                                              round(lambda_, 2)\n",
    "                                                             ))"
   ]
  },
  {
   "cell_type": "code",
   "execution_count": 41,
   "metadata": {},
   "outputs": [
    {
     "data": {
      "image/png": "[encoded data removed]",
      "text/plain": [
       "<Figure size 1440x360 with 3 Axes>"
      ]
     },
     "metadata": {
      "needs_background": "light"
     },
     "output_type": "display_data"
    }
   ],
   "source": [
    "fig, axes = plt.subplots(figsize=(20, 5), ncols=3)\n",
    "sns.distplot(r,            ax=axes[0], kde=False, rug=False, fit=stats.norm).set_title('Original')\n",
    "sns.distplot(r_yj,         ax=axes[1], kde=False, rug=False, fit=stats.norm).set_title('Yeo-Johnson')\n",
    "sns.distplot(zscore(r_yj), ax=axes[2], kde=False, rug=False, fit=stats.norm).set_title('Yeo-Johnson (Centered and Scaled)');"
   ]
  },
  {
   "cell_type": "markdown",
   "metadata": {},
   "source": [
    "#### [scikit-learn](https://scikit-learn.org/stable/modules/preprocessing.html#mapping-to-a-gaussian-distribution)"
   ]
  },
  {
   "cell_type": "code",
   "execution_count": 42,
   "metadata": {},
   "outputs": [
    {
     "name": "stdout",
     "output_type": "stream",
     "text": [
      "mean (original): 13.08  mean (yeo-johnson): 1.72  std (original): 2.48  std (yeo-johnson): 0.07  lambda: -0.35\n"
     ]
    }
   ],
   "source": [
    "pt = PowerTransformer(method='yeo-johnson', standardize=False)\n",
    "\n",
    "pt.fit(r.values.reshape(-1, 1))\n",
    "\n",
    "r_yj = pt.transform(r.values.reshape(-1, 1))\n",
    "\n",
    "print('mean (original): {}  mean (yeo-johnson): {}  \\\n",
    "std (original): {}  std (yeo-johnson): {}  lambda: {}'.format(round(r.mean(), 2), \n",
    "                                                              round(r_yj.mean(), 2), \n",
    "                                                              round(r.std(), 2), \n",
    "                                                              round(r_yj.std(), 2), \n",
    "                                                              round(pt.lambdas_[0], 2)\n",
    "                                                             ))"
   ]
  },
  {
   "cell_type": "code",
   "execution_count": 43,
   "metadata": {},
   "outputs": [],
   "source": [
    "pt = PowerTransformer(method='yeo-johnson')\n",
    "r_yjs = pt.fit_transform(r.values.reshape(-1, 1))"
   ]
  },
  {
   "cell_type": "code",
   "execution_count": 44,
   "metadata": {},
   "outputs": [
    {
     "data": {
      "image/png": "[encoded data removed]",
      "text/plain": [
       "<Figure size 1440x360 with 3 Axes>"
      ]
     },
     "metadata": {
      "needs_background": "light"
     },
     "output_type": "display_data"
    }
   ],
   "source": [
    "fig, axes = plt.subplots(figsize=(20, 5), ncols=3)\n",
    "sns.distplot(r,     ax=axes[0], kde=False, rug=False, fit=stats.norm).set_title('Original')\n",
    "sns.distplot(r_yj,  ax=axes[1], kde=False, rug=False, fit=stats.norm).set_title('Yeo-Johnson')\n",
    "sns.distplot(r_yjs, ax=axes[2], kde=False, rug=False, fit=stats.norm).set_title('Yeo-Johnson (Centered and Scaled)');"
   ]
  },
  {
   "cell_type": "markdown",
   "metadata": {},
   "source": [
    "<a id=\"handle_categorical_data\"></a>"
   ]
  },
  {
   "cell_type": "markdown",
   "metadata": {},
   "source": [
    "# [Handle Categorical Data](https://scikit-learn.org/stable/modules/preprocessing.html#encoding-categorical-features)"
   ]
  },
  {
   "cell_type": "markdown",
   "metadata": {},
   "source": [
    "## Encode categorical features as integers"
   ]
  },
  {
   "cell_type": "markdown",
   "metadata": {},
   "source": [
    "#### [pandas](https://pandas.pydata.org/pandas-docs/stable/user_guide/categorical.html)"
   ]
  },
  {
   "cell_type": "code",
   "execution_count": 45,
   "metadata": {},
   "outputs": [
    {
     "data": {
      "text/plain": [
       "0    1\n",
       "1    3\n",
       "2    2\n",
       "3    2\n",
       "4    1\n",
       "5    1\n",
       "6    1\n",
       "Name: education, dtype: int64"
      ]
     },
     "execution_count": 45,
     "metadata": {},
     "output_type": "execute_result"
    }
   ],
   "source": [
    "education_mapping = {'PhD': 3, 'Masters': 2, 'Bachelors': 1}\n",
    "\n",
    "df['education'].map(education_mapping)"
   ]
  },
  {
   "cell_type": "code",
   "execution_count": 46,
   "metadata": {},
   "outputs": [
    {
     "data": {
      "text/plain": [
       "0    Bachelors\n",
       "1          PhD\n",
       "2      Masters\n",
       "3      Masters\n",
       "4    Bachelors\n",
       "5    Bachelors\n",
       "6    Bachelors\n",
       "Name: education, dtype: object"
      ]
     },
     "execution_count": 46,
     "metadata": {},
     "output_type": "execute_result"
    }
   ],
   "source": [
    "inverse_education_mapping = {v: k for k, v in education_mapping.items()}\n",
    "df['education'].map(education_mapping).map(inverse_education_mapping)"
   ]
  },
  {
   "cell_type": "code",
   "execution_count": 47,
   "metadata": {},
   "outputs": [
    {
     "data": {
      "text/plain": [
       "{'Male': 0, 'Female': 1}"
      ]
     },
     "execution_count": 47,
     "metadata": {},
     "output_type": "execute_result"
    }
   ],
   "source": [
    "gender_mapping = {gender: idx for idx, gender in enumerate(df['gender'].unique())}\n",
    "gender_mapping"
   ]
  },
  {
   "cell_type": "code",
   "execution_count": 48,
   "metadata": {},
   "outputs": [
    {
     "data": {
      "text/html": [
       "<div>\n",
       "<style scoped>\n",
       "    .dataframe tbody tr th:only-of-type {\n",
       "        vertical-align: middle;\n",
       "    }\n",
       "\n",
       "    .dataframe tbody tr th {\n",
       "        vertical-align: top;\n",
       "    }\n",
       "\n",
       "    .dataframe thead th {\n",
       "        text-align: right;\n",
       "    }\n",
       "</style>\n",
       "<table border=\"1\" class=\"dataframe\">\n",
       "  <thead>\n",
       "    <tr style=\"text-align: right;\">\n",
       "      <th></th>\n",
       "      <th>id</th>\n",
       "      <th>date</th>\n",
       "      <th>age</th>\n",
       "      <th>income</th>\n",
       "      <th>gender</th>\n",
       "      <th>education</th>\n",
       "      <th>passed</th>\n",
       "      <th>measurement</th>\n",
       "      <th>female</th>\n",
       "    </tr>\n",
       "  </thead>\n",
       "  <tbody>\n",
       "    <tr>\n",
       "      <th>0</th>\n",
       "      <td>1000</td>\n",
       "      <td>2020-04-25</td>\n",
       "      <td>21</td>\n",
       "      <td>67000</td>\n",
       "      <td>Male</td>\n",
       "      <td>Bachelors</td>\n",
       "      <td>False</td>\n",
       "      <td>0.52</td>\n",
       "      <td>0</td>\n",
       "    </tr>\n",
       "    <tr>\n",
       "      <th>1</th>\n",
       "      <td>1001</td>\n",
       "      <td>2020-04-26</td>\n",
       "      <td>56</td>\n",
       "      <td>220000</td>\n",
       "      <td>Female</td>\n",
       "      <td>PhD</td>\n",
       "      <td>True</td>\n",
       "      <td>0.68</td>\n",
       "      <td>1</td>\n",
       "    </tr>\n",
       "    <tr>\n",
       "      <th>2</th>\n",
       "      <td>1002</td>\n",
       "      <td>2020-04-27</td>\n",
       "      <td>33</td>\n",
       "      <td>97000</td>\n",
       "      <td>Female</td>\n",
       "      <td>Masters</td>\n",
       "      <td>True</td>\n",
       "      <td>-0.39</td>\n",
       "      <td>1</td>\n",
       "    </tr>\n",
       "    <tr>\n",
       "      <th>3</th>\n",
       "      <td>1003</td>\n",
       "      <td>2020-04-28</td>\n",
       "      <td>48</td>\n",
       "      <td>166000</td>\n",
       "      <td>Male</td>\n",
       "      <td>Masters</td>\n",
       "      <td>True</td>\n",
       "      <td>0.05</td>\n",
       "      <td>0</td>\n",
       "    </tr>\n",
       "    <tr>\n",
       "      <th>4</th>\n",
       "      <td>1004</td>\n",
       "      <td>2020-04-29</td>\n",
       "      <td>27</td>\n",
       "      <td>81000</td>\n",
       "      <td>Male</td>\n",
       "      <td>Bachelors</td>\n",
       "      <td>False</td>\n",
       "      <td>2.51</td>\n",
       "      <td>0</td>\n",
       "    </tr>\n",
       "    <tr>\n",
       "      <th>5</th>\n",
       "      <td>1005</td>\n",
       "      <td>2020-04-30</td>\n",
       "      <td>42</td>\n",
       "      <td>157000</td>\n",
       "      <td>Female</td>\n",
       "      <td>Bachelors</td>\n",
       "      <td>False</td>\n",
       "      <td>1.19</td>\n",
       "      <td>1</td>\n",
       "    </tr>\n",
       "    <tr>\n",
       "      <th>6</th>\n",
       "      <td>1006</td>\n",
       "      <td>2020-05-01</td>\n",
       "      <td>32</td>\n",
       "      <td>96000</td>\n",
       "      <td>Female</td>\n",
       "      <td>Bachelors</td>\n",
       "      <td>True</td>\n",
       "      <td>-2.65</td>\n",
       "      <td>1</td>\n",
       "    </tr>\n",
       "  </tbody>\n",
       "</table>\n",
       "</div>"
      ],
      "text/plain": [
       "     id       date  age  income  gender  education  passed  measurement  \\\n",
       "0  1000 2020-04-25   21   67000    Male  Bachelors   False         0.52   \n",
       "1  1001 2020-04-26   56  220000  Female        PhD    True         0.68   \n",
       "2  1002 2020-04-27   33   97000  Female    Masters    True        -0.39   \n",
       "3  1003 2020-04-28   48  166000    Male    Masters    True         0.05   \n",
       "4  1004 2020-04-29   27   81000    Male  Bachelors   False         2.51   \n",
       "5  1005 2020-04-30   42  157000  Female  Bachelors   False         1.19   \n",
       "6  1006 2020-05-01   32   96000  Female  Bachelors    True        -2.65   \n",
       "\n",
       "   female  \n",
       "0       0  \n",
       "1       1  \n",
       "2       1  \n",
       "3       0  \n",
       "4       0  \n",
       "5       1  \n",
       "6       1  "
      ]
     },
     "execution_count": 48,
     "metadata": {},
     "output_type": "execute_result"
    }
   ],
   "source": [
    "df['female'] = df['gender'].map(gender_mapping)\n",
    "df"
   ]
  },
  {
   "cell_type": "markdown",
   "metadata": {},
   "source": [
    "#### [scikit-learn](https://scikit-learn.org/stable/modules/preprocessing.html#encoding-categorical-features)"
   ]
  },
  {
   "cell_type": "code",
   "execution_count": 49,
   "metadata": {},
   "outputs": [
    {
     "data": {
      "text/html": [
       "<div>\n",
       "<style scoped>\n",
       "    .dataframe tbody tr th:only-of-type {\n",
       "        vertical-align: middle;\n",
       "    }\n",
       "\n",
       "    .dataframe tbody tr th {\n",
       "        vertical-align: top;\n",
       "    }\n",
       "\n",
       "    .dataframe thead th {\n",
       "        text-align: right;\n",
       "    }\n",
       "</style>\n",
       "<table border=\"1\" class=\"dataframe\">\n",
       "  <thead>\n",
       "    <tr style=\"text-align: right;\">\n",
       "      <th></th>\n",
       "      <th>id</th>\n",
       "      <th>date</th>\n",
       "      <th>age</th>\n",
       "      <th>income</th>\n",
       "      <th>gender</th>\n",
       "      <th>education</th>\n",
       "      <th>passed</th>\n",
       "      <th>measurement</th>\n",
       "      <th>female</th>\n",
       "      <th>education_numeric</th>\n",
       "    </tr>\n",
       "  </thead>\n",
       "  <tbody>\n",
       "    <tr>\n",
       "      <th>0</th>\n",
       "      <td>1000</td>\n",
       "      <td>2020-04-25</td>\n",
       "      <td>21</td>\n",
       "      <td>67000</td>\n",
       "      <td>Male</td>\n",
       "      <td>Bachelors</td>\n",
       "      <td>False</td>\n",
       "      <td>0.52</td>\n",
       "      <td>0</td>\n",
       "      <td>0.0</td>\n",
       "    </tr>\n",
       "    <tr>\n",
       "      <th>1</th>\n",
       "      <td>1001</td>\n",
       "      <td>2020-04-26</td>\n",
       "      <td>56</td>\n",
       "      <td>220000</td>\n",
       "      <td>Female</td>\n",
       "      <td>PhD</td>\n",
       "      <td>True</td>\n",
       "      <td>0.68</td>\n",
       "      <td>1</td>\n",
       "      <td>2.0</td>\n",
       "    </tr>\n",
       "    <tr>\n",
       "      <th>2</th>\n",
       "      <td>1002</td>\n",
       "      <td>2020-04-27</td>\n",
       "      <td>33</td>\n",
       "      <td>97000</td>\n",
       "      <td>Female</td>\n",
       "      <td>Masters</td>\n",
       "      <td>True</td>\n",
       "      <td>-0.39</td>\n",
       "      <td>1</td>\n",
       "      <td>1.0</td>\n",
       "    </tr>\n",
       "    <tr>\n",
       "      <th>3</th>\n",
       "      <td>1003</td>\n",
       "      <td>2020-04-28</td>\n",
       "      <td>48</td>\n",
       "      <td>166000</td>\n",
       "      <td>Male</td>\n",
       "      <td>Masters</td>\n",
       "      <td>True</td>\n",
       "      <td>0.05</td>\n",
       "      <td>0</td>\n",
       "      <td>1.0</td>\n",
       "    </tr>\n",
       "    <tr>\n",
       "      <th>4</th>\n",
       "      <td>1004</td>\n",
       "      <td>2020-04-29</td>\n",
       "      <td>27</td>\n",
       "      <td>81000</td>\n",
       "      <td>Male</td>\n",
       "      <td>Bachelors</td>\n",
       "      <td>False</td>\n",
       "      <td>2.51</td>\n",
       "      <td>0</td>\n",
       "      <td>0.0</td>\n",
       "    </tr>\n",
       "    <tr>\n",
       "      <th>5</th>\n",
       "      <td>1005</td>\n",
       "      <td>2020-04-30</td>\n",
       "      <td>42</td>\n",
       "      <td>157000</td>\n",
       "      <td>Female</td>\n",
       "      <td>Bachelors</td>\n",
       "      <td>False</td>\n",
       "      <td>1.19</td>\n",
       "      <td>1</td>\n",
       "      <td>0.0</td>\n",
       "    </tr>\n",
       "    <tr>\n",
       "      <th>6</th>\n",
       "      <td>1006</td>\n",
       "      <td>2020-05-01</td>\n",
       "      <td>32</td>\n",
       "      <td>96000</td>\n",
       "      <td>Female</td>\n",
       "      <td>Bachelors</td>\n",
       "      <td>True</td>\n",
       "      <td>-2.65</td>\n",
       "      <td>1</td>\n",
       "      <td>0.0</td>\n",
       "    </tr>\n",
       "  </tbody>\n",
       "</table>\n",
       "</div>"
      ],
      "text/plain": [
       "     id       date  age  income  gender  education  passed  measurement  \\\n",
       "0  1000 2020-04-25   21   67000    Male  Bachelors   False         0.52   \n",
       "1  1001 2020-04-26   56  220000  Female        PhD    True         0.68   \n",
       "2  1002 2020-04-27   33   97000  Female    Masters    True        -0.39   \n",
       "3  1003 2020-04-28   48  166000    Male    Masters    True         0.05   \n",
       "4  1004 2020-04-29   27   81000    Male  Bachelors   False         2.51   \n",
       "5  1005 2020-04-30   42  157000  Female  Bachelors   False         1.19   \n",
       "6  1006 2020-05-01   32   96000  Female  Bachelors    True        -2.65   \n",
       "\n",
       "   female  education_numeric  \n",
       "0       0                0.0  \n",
       "1       1                2.0  \n",
       "2       1                1.0  \n",
       "3       0                1.0  \n",
       "4       0                0.0  \n",
       "5       1                0.0  \n",
       "6       1                0.0  "
      ]
     },
     "execution_count": 49,
     "metadata": {},
     "output_type": "execute_result"
    }
   ],
   "source": [
    "enc = OrdinalEncoder()\n",
    "\n",
    "df['education_numeric'] = enc.fit_transform(df['education'].values.reshape(-1, 1))\n",
    "df"
   ]
  },
  {
   "cell_type": "markdown",
   "metadata": {},
   "source": [
    "<a id=\"create_indicator_variables\"></a>"
   ]
  },
  {
   "cell_type": "markdown",
   "metadata": {},
   "source": [
    "## [Create dummy/indicator variables](https://en.wikipedia.org/wiki/Dummy_variable_(statistics))"
   ]
  },
  {
   "cell_type": "code",
   "execution_count": 50,
   "metadata": {},
   "outputs": [
    {
     "data": {
      "image/jpeg": "[encoded data removed]",
      "text/plain": [
       "<IPython.core.display.Image object>"
      ]
     },
     "execution_count": 50,
     "metadata": {
      "image/jpeg": {
       "width": 350
      }
     },
     "output_type": "execute_result"
    }
   ],
   "source": [
    "Image(filename='../images/dummy_variables_intercept_shifts.jpg', width=350)"
   ]
  },
  {
   "cell_type": "markdown",
   "metadata": {},
   "source": [
    "#### [pandas](https://pandas.pydata.org/pandas-docs/stable/reference/api/pandas.get_dummies.html)"
   ]
  },
  {
   "cell_type": "code",
   "execution_count": 51,
   "metadata": {},
   "outputs": [
    {
     "data": {
      "text/html": [
       "<div>\n",
       "<style scoped>\n",
       "    .dataframe tbody tr th:only-of-type {\n",
       "        vertical-align: middle;\n",
       "    }\n",
       "\n",
       "    .dataframe tbody tr th {\n",
       "        vertical-align: top;\n",
       "    }\n",
       "\n",
       "    .dataframe thead th {\n",
       "        text-align: right;\n",
       "    }\n",
       "</style>\n",
       "<table border=\"1\" class=\"dataframe\">\n",
       "  <thead>\n",
       "    <tr style=\"text-align: right;\">\n",
       "      <th></th>\n",
       "      <th>Bachelors</th>\n",
       "      <th>Masters</th>\n",
       "      <th>PhD</th>\n",
       "    </tr>\n",
       "  </thead>\n",
       "  <tbody>\n",
       "    <tr>\n",
       "      <th>0</th>\n",
       "      <td>1</td>\n",
       "      <td>0</td>\n",
       "      <td>0</td>\n",
       "    </tr>\n",
       "    <tr>\n",
       "      <th>1</th>\n",
       "      <td>0</td>\n",
       "      <td>0</td>\n",
       "      <td>1</td>\n",
       "    </tr>\n",
       "    <tr>\n",
       "      <th>2</th>\n",
       "      <td>0</td>\n",
       "      <td>1</td>\n",
       "      <td>0</td>\n",
       "    </tr>\n",
       "    <tr>\n",
       "      <th>3</th>\n",
       "      <td>0</td>\n",
       "      <td>1</td>\n",
       "      <td>0</td>\n",
       "    </tr>\n",
       "    <tr>\n",
       "      <th>4</th>\n",
       "      <td>1</td>\n",
       "      <td>0</td>\n",
       "      <td>0</td>\n",
       "    </tr>\n",
       "    <tr>\n",
       "      <th>5</th>\n",
       "      <td>1</td>\n",
       "      <td>0</td>\n",
       "      <td>0</td>\n",
       "    </tr>\n",
       "    <tr>\n",
       "      <th>6</th>\n",
       "      <td>1</td>\n",
       "      <td>0</td>\n",
       "      <td>0</td>\n",
       "    </tr>\n",
       "  </tbody>\n",
       "</table>\n",
       "</div>"
      ],
      "text/plain": [
       "   Bachelors  Masters  PhD\n",
       "0          1        0    0\n",
       "1          0        0    1\n",
       "2          0        1    0\n",
       "3          0        1    0\n",
       "4          1        0    0\n",
       "5          1        0    0\n",
       "6          1        0    0"
      ]
     },
     "execution_count": 51,
     "metadata": {},
     "output_type": "execute_result"
    }
   ],
   "source": [
    "pd.get_dummies(df['education'])"
   ]
  },
  {
   "cell_type": "code",
   "execution_count": 52,
   "metadata": {},
   "outputs": [
    {
     "data": {
      "text/html": [
       "<div>\n",
       "<style scoped>\n",
       "    .dataframe tbody tr th:only-of-type {\n",
       "        vertical-align: middle;\n",
       "    }\n",
       "\n",
       "    .dataframe tbody tr th {\n",
       "        vertical-align: top;\n",
       "    }\n",
       "\n",
       "    .dataframe thead th {\n",
       "        text-align: right;\n",
       "    }\n",
       "</style>\n",
       "<table border=\"1\" class=\"dataframe\">\n",
       "  <thead>\n",
       "    <tr style=\"text-align: right;\">\n",
       "      <th></th>\n",
       "      <th>Masters</th>\n",
       "      <th>PhD</th>\n",
       "    </tr>\n",
       "  </thead>\n",
       "  <tbody>\n",
       "    <tr>\n",
       "      <th>0</th>\n",
       "      <td>0</td>\n",
       "      <td>0</td>\n",
       "    </tr>\n",
       "    <tr>\n",
       "      <th>1</th>\n",
       "      <td>0</td>\n",
       "      <td>1</td>\n",
       "    </tr>\n",
       "    <tr>\n",
       "      <th>2</th>\n",
       "      <td>1</td>\n",
       "      <td>0</td>\n",
       "    </tr>\n",
       "    <tr>\n",
       "      <th>3</th>\n",
       "      <td>1</td>\n",
       "      <td>0</td>\n",
       "    </tr>\n",
       "    <tr>\n",
       "      <th>4</th>\n",
       "      <td>0</td>\n",
       "      <td>0</td>\n",
       "    </tr>\n",
       "    <tr>\n",
       "      <th>5</th>\n",
       "      <td>0</td>\n",
       "      <td>0</td>\n",
       "    </tr>\n",
       "    <tr>\n",
       "      <th>6</th>\n",
       "      <td>0</td>\n",
       "      <td>0</td>\n",
       "    </tr>\n",
       "  </tbody>\n",
       "</table>\n",
       "</div>"
      ],
      "text/plain": [
       "   Masters  PhD\n",
       "0        0    0\n",
       "1        0    1\n",
       "2        1    0\n",
       "3        1    0\n",
       "4        0    0\n",
       "5        0    0\n",
       "6        0    0"
      ]
     },
     "execution_count": 52,
     "metadata": {},
     "output_type": "execute_result"
    }
   ],
   "source": [
    "pd.get_dummies(df['education'], drop_first=True)"
   ]
  },
  {
   "cell_type": "code",
   "execution_count": 53,
   "metadata": {},
   "outputs": [
    {
     "data": {
      "text/html": [
       "<div>\n",
       "<style scoped>\n",
       "    .dataframe tbody tr th:only-of-type {\n",
       "        vertical-align: middle;\n",
       "    }\n",
       "\n",
       "    .dataframe tbody tr th {\n",
       "        vertical-align: top;\n",
       "    }\n",
       "\n",
       "    .dataframe thead th {\n",
       "        text-align: right;\n",
       "    }\n",
       "</style>\n",
       "<table border=\"1\" class=\"dataframe\">\n",
       "  <thead>\n",
       "    <tr style=\"text-align: right;\">\n",
       "      <th></th>\n",
       "      <th>id</th>\n",
       "      <th>date</th>\n",
       "      <th>age</th>\n",
       "      <th>income</th>\n",
       "      <th>gender</th>\n",
       "      <th>education</th>\n",
       "      <th>passed</th>\n",
       "      <th>measurement</th>\n",
       "      <th>female</th>\n",
       "      <th>education_numeric</th>\n",
       "      <th>Masters</th>\n",
       "      <th>PhD</th>\n",
       "    </tr>\n",
       "  </thead>\n",
       "  <tbody>\n",
       "    <tr>\n",
       "      <th>0</th>\n",
       "      <td>1000</td>\n",
       "      <td>2020-04-25</td>\n",
       "      <td>21</td>\n",
       "      <td>67000</td>\n",
       "      <td>Male</td>\n",
       "      <td>Bachelors</td>\n",
       "      <td>False</td>\n",
       "      <td>0.52</td>\n",
       "      <td>0</td>\n",
       "      <td>0.0</td>\n",
       "      <td>0</td>\n",
       "      <td>0</td>\n",
       "    </tr>\n",
       "    <tr>\n",
       "      <th>1</th>\n",
       "      <td>1001</td>\n",
       "      <td>2020-04-26</td>\n",
       "      <td>56</td>\n",
       "      <td>220000</td>\n",
       "      <td>Female</td>\n",
       "      <td>PhD</td>\n",
       "      <td>True</td>\n",
       "      <td>0.68</td>\n",
       "      <td>1</td>\n",
       "      <td>2.0</td>\n",
       "      <td>0</td>\n",
       "      <td>1</td>\n",
       "    </tr>\n",
       "    <tr>\n",
       "      <th>2</th>\n",
       "      <td>1002</td>\n",
       "      <td>2020-04-27</td>\n",
       "      <td>33</td>\n",
       "      <td>97000</td>\n",
       "      <td>Female</td>\n",
       "      <td>Masters</td>\n",
       "      <td>True</td>\n",
       "      <td>-0.39</td>\n",
       "      <td>1</td>\n",
       "      <td>1.0</td>\n",
       "      <td>1</td>\n",
       "      <td>0</td>\n",
       "    </tr>\n",
       "    <tr>\n",
       "      <th>3</th>\n",
       "      <td>1003</td>\n",
       "      <td>2020-04-28</td>\n",
       "      <td>48</td>\n",
       "      <td>166000</td>\n",
       "      <td>Male</td>\n",
       "      <td>Masters</td>\n",
       "      <td>True</td>\n",
       "      <td>0.05</td>\n",
       "      <td>0</td>\n",
       "      <td>1.0</td>\n",
       "      <td>1</td>\n",
       "      <td>0</td>\n",
       "    </tr>\n",
       "    <tr>\n",
       "      <th>4</th>\n",
       "      <td>1004</td>\n",
       "      <td>2020-04-29</td>\n",
       "      <td>27</td>\n",
       "      <td>81000</td>\n",
       "      <td>Male</td>\n",
       "      <td>Bachelors</td>\n",
       "      <td>False</td>\n",
       "      <td>2.51</td>\n",
       "      <td>0</td>\n",
       "      <td>0.0</td>\n",
       "      <td>0</td>\n",
       "      <td>0</td>\n",
       "    </tr>\n",
       "    <tr>\n",
       "      <th>5</th>\n",
       "      <td>1005</td>\n",
       "      <td>2020-04-30</td>\n",
       "      <td>42</td>\n",
       "      <td>157000</td>\n",
       "      <td>Female</td>\n",
       "      <td>Bachelors</td>\n",
       "      <td>False</td>\n",
       "      <td>1.19</td>\n",
       "      <td>1</td>\n",
       "      <td>0.0</td>\n",
       "      <td>0</td>\n",
       "      <td>0</td>\n",
       "    </tr>\n",
       "    <tr>\n",
       "      <th>6</th>\n",
       "      <td>1006</td>\n",
       "      <td>2020-05-01</td>\n",
       "      <td>32</td>\n",
       "      <td>96000</td>\n",
       "      <td>Female</td>\n",
       "      <td>Bachelors</td>\n",
       "      <td>True</td>\n",
       "      <td>-2.65</td>\n",
       "      <td>1</td>\n",
       "      <td>0.0</td>\n",
       "      <td>0</td>\n",
       "      <td>0</td>\n",
       "    </tr>\n",
       "  </tbody>\n",
       "</table>\n",
       "</div>"
      ],
      "text/plain": [
       "     id       date  age  income  gender  education  passed  measurement  \\\n",
       "0  1000 2020-04-25   21   67000    Male  Bachelors   False         0.52   \n",
       "1  1001 2020-04-26   56  220000  Female        PhD    True         0.68   \n",
       "2  1002 2020-04-27   33   97000  Female    Masters    True        -0.39   \n",
       "3  1003 2020-04-28   48  166000    Male    Masters    True         0.05   \n",
       "4  1004 2020-04-29   27   81000    Male  Bachelors   False         2.51   \n",
       "5  1005 2020-04-30   42  157000  Female  Bachelors   False         1.19   \n",
       "6  1006 2020-05-01   32   96000  Female  Bachelors    True        -2.65   \n",
       "\n",
       "   female  education_numeric  Masters  PhD  \n",
       "0       0                0.0        0    0  \n",
       "1       1                2.0        0    1  \n",
       "2       1                1.0        1    0  \n",
       "3       0                1.0        1    0  \n",
       "4       0                0.0        0    0  \n",
       "5       1                0.0        0    0  \n",
       "6       1                0.0        0    0  "
      ]
     },
     "execution_count": 53,
     "metadata": {},
     "output_type": "execute_result"
    }
   ],
   "source": [
    "educ_dummies = pd.get_dummies(df['education'], drop_first=True)\n",
    "\n",
    "tmp = pd.concat([df, educ_dummies], axis=1)\n",
    "tmp"
   ]
  },
  {
   "cell_type": "markdown",
   "metadata": {},
   "source": [
    "#### [scikit-learn](https://scikit-learn.org/stable/modules/preprocessing.html#encoding-categorical-features)"
   ]
  },
  {
   "cell_type": "code",
   "execution_count": 54,
   "metadata": {},
   "outputs": [
    {
     "data": {
      "text/plain": [
       "array([[1., 0., 0.],\n",
       "       [0., 0., 1.],\n",
       "       [0., 1., 0.],\n",
       "       [0., 1., 0.],\n",
       "       [1., 0., 0.],\n",
       "       [1., 0., 0.],\n",
       "       [1., 0., 0.]])"
      ]
     },
     "execution_count": 54,
     "metadata": {},
     "output_type": "execute_result"
    }
   ],
   "source": [
    "ohe = OneHotEncoder()\n",
    "ohe.fit_transform( df['education'].values.reshape(-1, 1) ).toarray()"
   ]
  },
  {
   "cell_type": "code",
   "execution_count": 55,
   "metadata": {},
   "outputs": [
    {
     "data": {
      "text/plain": [
       "array([[0., 0.],\n",
       "       [0., 1.],\n",
       "       [1., 0.],\n",
       "       [1., 0.],\n",
       "       [0., 0.],\n",
       "       [0., 0.],\n",
       "       [0., 0.]])"
      ]
     },
     "execution_count": 55,
     "metadata": {},
     "output_type": "execute_result"
    }
   ],
   "source": [
    "ohe = OneHotEncoder(drop='first')\n",
    "ohe.fit_transform( df['education'].values.reshape(-1, 1) ).toarray()"
   ]
  },
  {
   "cell_type": "code",
   "execution_count": 56,
   "metadata": {},
   "outputs": [
    {
     "data": {
      "text/html": [
       "<div>\n",
       "<style scoped>\n",
       "    .dataframe tbody tr th:only-of-type {\n",
       "        vertical-align: middle;\n",
       "    }\n",
       "\n",
       "    .dataframe tbody tr th {\n",
       "        vertical-align: top;\n",
       "    }\n",
       "\n",
       "    .dataframe thead th {\n",
       "        text-align: right;\n",
       "    }\n",
       "</style>\n",
       "<table border=\"1\" class=\"dataframe\">\n",
       "  <thead>\n",
       "    <tr style=\"text-align: right;\">\n",
       "      <th></th>\n",
       "      <th>id</th>\n",
       "      <th>date</th>\n",
       "      <th>age</th>\n",
       "      <th>income</th>\n",
       "      <th>gender</th>\n",
       "      <th>education</th>\n",
       "      <th>passed</th>\n",
       "      <th>measurement</th>\n",
       "      <th>female</th>\n",
       "      <th>education_numeric</th>\n",
       "      <th>Masters</th>\n",
       "      <th>PhD</th>\n",
       "    </tr>\n",
       "  </thead>\n",
       "  <tbody>\n",
       "    <tr>\n",
       "      <th>0</th>\n",
       "      <td>1000</td>\n",
       "      <td>2020-04-25</td>\n",
       "      <td>21</td>\n",
       "      <td>67000</td>\n",
       "      <td>Male</td>\n",
       "      <td>Bachelors</td>\n",
       "      <td>False</td>\n",
       "      <td>0.52</td>\n",
       "      <td>0</td>\n",
       "      <td>0.0</td>\n",
       "      <td>0.0</td>\n",
       "      <td>0.0</td>\n",
       "    </tr>\n",
       "    <tr>\n",
       "      <th>1</th>\n",
       "      <td>1001</td>\n",
       "      <td>2020-04-26</td>\n",
       "      <td>56</td>\n",
       "      <td>220000</td>\n",
       "      <td>Female</td>\n",
       "      <td>PhD</td>\n",
       "      <td>True</td>\n",
       "      <td>0.68</td>\n",
       "      <td>1</td>\n",
       "      <td>2.0</td>\n",
       "      <td>0.0</td>\n",
       "      <td>1.0</td>\n",
       "    </tr>\n",
       "    <tr>\n",
       "      <th>2</th>\n",
       "      <td>1002</td>\n",
       "      <td>2020-04-27</td>\n",
       "      <td>33</td>\n",
       "      <td>97000</td>\n",
       "      <td>Female</td>\n",
       "      <td>Masters</td>\n",
       "      <td>True</td>\n",
       "      <td>-0.39</td>\n",
       "      <td>1</td>\n",
       "      <td>1.0</td>\n",
       "      <td>1.0</td>\n",
       "      <td>0.0</td>\n",
       "    </tr>\n",
       "    <tr>\n",
       "      <th>3</th>\n",
       "      <td>1003</td>\n",
       "      <td>2020-04-28</td>\n",
       "      <td>48</td>\n",
       "      <td>166000</td>\n",
       "      <td>Male</td>\n",
       "      <td>Masters</td>\n",
       "      <td>True</td>\n",
       "      <td>0.05</td>\n",
       "      <td>0</td>\n",
       "      <td>1.0</td>\n",
       "      <td>1.0</td>\n",
       "      <td>0.0</td>\n",
       "    </tr>\n",
       "    <tr>\n",
       "      <th>4</th>\n",
       "      <td>1004</td>\n",
       "      <td>2020-04-29</td>\n",
       "      <td>27</td>\n",
       "      <td>81000</td>\n",
       "      <td>Male</td>\n",
       "      <td>Bachelors</td>\n",
       "      <td>False</td>\n",
       "      <td>2.51</td>\n",
       "      <td>0</td>\n",
       "      <td>0.0</td>\n",
       "      <td>0.0</td>\n",
       "      <td>0.0</td>\n",
       "    </tr>\n",
       "    <tr>\n",
       "      <th>5</th>\n",
       "      <td>1005</td>\n",
       "      <td>2020-04-30</td>\n",
       "      <td>42</td>\n",
       "      <td>157000</td>\n",
       "      <td>Female</td>\n",
       "      <td>Bachelors</td>\n",
       "      <td>False</td>\n",
       "      <td>1.19</td>\n",
       "      <td>1</td>\n",
       "      <td>0.0</td>\n",
       "      <td>0.0</td>\n",
       "      <td>0.0</td>\n",
       "    </tr>\n",
       "    <tr>\n",
       "      <th>6</th>\n",
       "      <td>1006</td>\n",
       "      <td>2020-05-01</td>\n",
       "      <td>32</td>\n",
       "      <td>96000</td>\n",
       "      <td>Female</td>\n",
       "      <td>Bachelors</td>\n",
       "      <td>True</td>\n",
       "      <td>-2.65</td>\n",
       "      <td>1</td>\n",
       "      <td>0.0</td>\n",
       "      <td>0.0</td>\n",
       "      <td>0.0</td>\n",
       "    </tr>\n",
       "  </tbody>\n",
       "</table>\n",
       "</div>"
      ],
      "text/plain": [
       "     id       date  age  income  gender  education  passed  measurement  \\\n",
       "0  1000 2020-04-25   21   67000    Male  Bachelors   False         0.52   \n",
       "1  1001 2020-04-26   56  220000  Female        PhD    True         0.68   \n",
       "2  1002 2020-04-27   33   97000  Female    Masters    True        -0.39   \n",
       "3  1003 2020-04-28   48  166000    Male    Masters    True         0.05   \n",
       "4  1004 2020-04-29   27   81000    Male  Bachelors   False         2.51   \n",
       "5  1005 2020-04-30   42  157000  Female  Bachelors   False         1.19   \n",
       "6  1006 2020-05-01   32   96000  Female  Bachelors    True        -2.65   \n",
       "\n",
       "   female  education_numeric  Masters  PhD  \n",
       "0       0                0.0      0.0  0.0  \n",
       "1       1                2.0      0.0  1.0  \n",
       "2       1                1.0      1.0  0.0  \n",
       "3       0                1.0      1.0  0.0  \n",
       "4       0                0.0      0.0  0.0  \n",
       "5       1                0.0      0.0  0.0  \n",
       "6       1                0.0      0.0  0.0  "
      ]
     },
     "execution_count": 56,
     "metadata": {},
     "output_type": "execute_result"
    }
   ],
   "source": [
    "educ_indicators = pd.DataFrame(ohe.fit_transform( df['education'].values.reshape(-1, 1) ).toarray(), \n",
    "                               columns=['Masters', 'PhD'])\n",
    "\n",
    "tmp2 = pd.concat([df, educ_indicators], axis=1)\n",
    "tmp2"
   ]
  },
  {
   "cell_type": "markdown",
   "metadata": {},
   "source": [
    "## Encode class labels as integers"
   ]
  },
  {
   "cell_type": "markdown",
   "metadata": {},
   "source": [
    "#### [pandas](https://pandas.pydata.org/pandas-docs/stable/reference/api/pandas.Series.map.html)"
   ]
  },
  {
   "cell_type": "code",
   "execution_count": 57,
   "metadata": {},
   "outputs": [
    {
     "data": {
      "text/plain": [
       "0    0\n",
       "1    1\n",
       "2    1\n",
       "3    1\n",
       "4    0\n",
       "5    0\n",
       "6    1\n",
       "Name: passed, dtype: int64"
      ]
     },
     "execution_count": 57,
     "metadata": {},
     "output_type": "execute_result"
    }
   ],
   "source": [
    "passed_mapping = {True: 1, False: 0}\n",
    "df['passed'].map(passed_mapping)"
   ]
  },
  {
   "cell_type": "code",
   "execution_count": 58,
   "metadata": {},
   "outputs": [
    {
     "data": {
      "text/plain": [
       "0    0\n",
       "1    2\n",
       "2    1\n",
       "3    1\n",
       "4    0\n",
       "5    0\n",
       "6    0\n",
       "Name: education, dtype: int64"
      ]
     },
     "execution_count": 58,
     "metadata": {},
     "output_type": "execute_result"
    }
   ],
   "source": [
    "education_mapping = {'PhD': 2, 'Masters': 1, 'Bachelors': 0}\n",
    "df['education'].map(education_mapping)"
   ]
  },
  {
   "cell_type": "markdown",
   "metadata": {},
   "source": [
    "#### [scikit-learn](https://scikit-learn.org/stable/modules/preprocessing_targets.html#preprocessing-targets)"
   ]
  },
  {
   "cell_type": "code",
   "execution_count": 59,
   "metadata": {},
   "outputs": [
    {
     "data": {
      "text/plain": [
       "array([0, 1, 1, 1, 0, 0, 1])"
      ]
     },
     "execution_count": 59,
     "metadata": {},
     "output_type": "execute_result"
    }
   ],
   "source": [
    "le = LabelEncoder()\n",
    "\n",
    "y  = le.fit_transform(df['passed'])\n",
    "y"
   ]
  },
  {
   "cell_type": "code",
   "execution_count": 60,
   "metadata": {},
   "outputs": [
    {
     "data": {
      "text/plain": [
       "array([0, 2, 1, 1, 0, 0, 0])"
      ]
     },
     "execution_count": 60,
     "metadata": {},
     "output_type": "execute_result"
    }
   ],
   "source": [
    "education = le.fit_transform(df['education'])\n",
    "education"
   ]
  },
  {
   "cell_type": "markdown",
   "metadata": {},
   "source": [
    "[Back to top](#top)"
   ]
  },
  {
   "cell_type": "code",
   "execution_count": null,
   "metadata": {},
   "outputs": [],
   "source": []
  }
 ],
 "metadata": {
  "kernelspec": {
   "display_name": "Python 3 (ipykernel)",
   "language": "python",
   "name": "python3"
  },
  "language_info": {
   "codemirror_mode": {
    "name": "ipython",
    "version": 3
   },
   "file_extension": ".py",
   "mimetype": "text/x-python",
   "name": "python",
   "nbconvert_exporter": "python",
   "pygments_lexer": "ipython3",
   "version": "3.8.13"
  }
 },
 "nbformat": 4,
 "nbformat_minor": 2
}
