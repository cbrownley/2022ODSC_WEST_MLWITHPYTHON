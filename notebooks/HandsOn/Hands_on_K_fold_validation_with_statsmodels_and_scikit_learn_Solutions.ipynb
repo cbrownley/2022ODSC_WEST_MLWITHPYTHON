{
 "cells": [
  {
   "cell_type": "code",
   "execution_count": 1,
   "metadata": {
    "id": "iIy4Yq2pgyAK"
   },
   "outputs": [],
   "source": [
    "import numpy as np\n",
    "import pandas as pd\n",
    "\n",
    "import matplotlib as mpl\n",
    "import matplotlib.pyplot as plt\n",
    "\n",
    "import patsy\n",
    "from patsy import dmatrices\n",
    "import statsmodels\n",
    "import statsmodels.api as sm\n",
    "import statsmodels.formula.api as smf\n",
    "from statsmodels.iolib.summary2 import summary_col\n",
    "\n",
    "from sklearn.preprocessing import StandardScaler\n",
    "\n",
    "from sklearn.model_selection import train_test_split, cross_val_score, KFold\n",
    "from sklearn.metrics import r2_score, explained_variance_score\n",
    "from sklearn.metrics import mean_squared_error, mean_absolute_error\n",
    "\n",
    "from sklearn.dummy import DummyRegressor\n",
    "from sklearn.linear_model import LinearRegression, RidgeCV, LassoCV, ElasticNetCV\n",
    "\n",
    "import warnings\n",
    "warnings.filterwarnings('ignore')"
   ]
  },
  {
   "cell_type": "code",
   "execution_count": 2,
   "metadata": {
    "colab": {
     "base_uri": "https://localhost:8080/",
     "height": 424
    },
    "id": "V6_hQXIqhVhM",
    "outputId": "4c559444-094f-4272-a9f0-2f4e1b13e124"
   },
   "outputs": [
    {
     "data": {
      "text/html": [
       "<div>\n",
       "<style scoped>\n",
       "    .dataframe tbody tr th:only-of-type {\n",
       "        vertical-align: middle;\n",
       "    }\n",
       "\n",
       "    .dataframe tbody tr th {\n",
       "        vertical-align: top;\n",
       "    }\n",
       "\n",
       "    .dataframe thead th {\n",
       "        text-align: right;\n",
       "    }\n",
       "</style>\n",
       "<table border=\"1\" class=\"dataframe\">\n",
       "  <thead>\n",
       "    <tr style=\"text-align: right;\">\n",
       "      <th></th>\n",
       "      <th>kid_score</th>\n",
       "      <th>mom_hs</th>\n",
       "      <th>mom_iq</th>\n",
       "      <th>mom_work</th>\n",
       "      <th>mom_age</th>\n",
       "    </tr>\n",
       "  </thead>\n",
       "  <tbody>\n",
       "    <tr>\n",
       "      <th>0</th>\n",
       "      <td>65</td>\n",
       "      <td>1</td>\n",
       "      <td>121.117529</td>\n",
       "      <td>4</td>\n",
       "      <td>27</td>\n",
       "    </tr>\n",
       "    <tr>\n",
       "      <th>1</th>\n",
       "      <td>98</td>\n",
       "      <td>1</td>\n",
       "      <td>89.361882</td>\n",
       "      <td>4</td>\n",
       "      <td>25</td>\n",
       "    </tr>\n",
       "    <tr>\n",
       "      <th>2</th>\n",
       "      <td>85</td>\n",
       "      <td>1</td>\n",
       "      <td>115.443165</td>\n",
       "      <td>4</td>\n",
       "      <td>27</td>\n",
       "    </tr>\n",
       "    <tr>\n",
       "      <th>3</th>\n",
       "      <td>83</td>\n",
       "      <td>1</td>\n",
       "      <td>99.449639</td>\n",
       "      <td>3</td>\n",
       "      <td>25</td>\n",
       "    </tr>\n",
       "    <tr>\n",
       "      <th>4</th>\n",
       "      <td>115</td>\n",
       "      <td>1</td>\n",
       "      <td>92.745710</td>\n",
       "      <td>4</td>\n",
       "      <td>27</td>\n",
       "    </tr>\n",
       "    <tr>\n",
       "      <th>...</th>\n",
       "      <td>...</td>\n",
       "      <td>...</td>\n",
       "      <td>...</td>\n",
       "      <td>...</td>\n",
       "      <td>...</td>\n",
       "    </tr>\n",
       "    <tr>\n",
       "      <th>429</th>\n",
       "      <td>94</td>\n",
       "      <td>0</td>\n",
       "      <td>84.877412</td>\n",
       "      <td>4</td>\n",
       "      <td>21</td>\n",
       "    </tr>\n",
       "    <tr>\n",
       "      <th>430</th>\n",
       "      <td>76</td>\n",
       "      <td>1</td>\n",
       "      <td>92.990392</td>\n",
       "      <td>4</td>\n",
       "      <td>23</td>\n",
       "    </tr>\n",
       "    <tr>\n",
       "      <th>431</th>\n",
       "      <td>50</td>\n",
       "      <td>0</td>\n",
       "      <td>94.859708</td>\n",
       "      <td>2</td>\n",
       "      <td>24</td>\n",
       "    </tr>\n",
       "    <tr>\n",
       "      <th>432</th>\n",
       "      <td>88</td>\n",
       "      <td>1</td>\n",
       "      <td>96.856624</td>\n",
       "      <td>2</td>\n",
       "      <td>21</td>\n",
       "    </tr>\n",
       "    <tr>\n",
       "      <th>433</th>\n",
       "      <td>70</td>\n",
       "      <td>1</td>\n",
       "      <td>91.253336</td>\n",
       "      <td>2</td>\n",
       "      <td>25</td>\n",
       "    </tr>\n",
       "  </tbody>\n",
       "</table>\n",
       "<p>434 rows × 5 columns</p>\n",
       "</div>"
      ],
      "text/plain": [
       "     kid_score  mom_hs      mom_iq  mom_work  mom_age\n",
       "0           65       1  121.117529         4       27\n",
       "1           98       1   89.361882         4       25\n",
       "2           85       1  115.443165         4       27\n",
       "3           83       1   99.449639         3       25\n",
       "4          115       1   92.745710         4       27\n",
       "..         ...     ...         ...       ...      ...\n",
       "429         94       0   84.877412         4       21\n",
       "430         76       1   92.990392         4       23\n",
       "431         50       0   94.859708         2       24\n",
       "432         88       1   96.856624         2       21\n",
       "433         70       1   91.253336         2       25\n",
       "\n",
       "[434 rows x 5 columns]"
      ]
     },
     "execution_count": 2,
     "metadata": {},
     "output_type": "execute_result"
    }
   ],
   "source": [
    "kidiq_url = 'https://raw.githubusercontent.com/cbrownley/NYU-Python-Workshop/main/data/kidiq.csv'\n",
    "kidiq = pd.read_csv(kidiq_url)\n",
    "kidiq"
   ]
  },
  {
   "cell_type": "code",
   "execution_count": 4,
   "metadata": {
    "colab": {
     "base_uri": "https://localhost:8080/",
     "height": 424
    },
    "id": "iy0qrBkQh1Fb",
    "outputId": "76249322-9044-4a4f-fd80-4f7bdc5f124b"
   },
   "outputs": [
    {
     "data": {
      "text/html": [
       "\n",
       "  <div id=\"df-35f3ab1b-d75c-4275-9f0c-9c01142ed1e4\">\n",
       "    <div class=\"colab-df-container\">\n",
       "      <div>\n",
       "<style scoped>\n",
       "    .dataframe tbody tr th:only-of-type {\n",
       "        vertical-align: middle;\n",
       "    }\n",
       "\n",
       "    .dataframe tbody tr th {\n",
       "        vertical-align: top;\n",
       "    }\n",
       "\n",
       "    .dataframe thead th {\n",
       "        text-align: right;\n",
       "    }\n",
       "</style>\n",
       "<table border=\"1\" class=\"dataframe\">\n",
       "  <thead>\n",
       "    <tr style=\"text-align: right;\">\n",
       "      <th></th>\n",
       "      <th>kid_score</th>\n",
       "      <th>mom_hs</th>\n",
       "      <th>mom_iq</th>\n",
       "      <th>mom_work</th>\n",
       "      <th>mom_age</th>\n",
       "      <th>mom_iq_c</th>\n",
       "    </tr>\n",
       "  </thead>\n",
       "  <tbody>\n",
       "    <tr>\n",
       "      <th>0</th>\n",
       "      <td>65</td>\n",
       "      <td>1</td>\n",
       "      <td>121.117529</td>\n",
       "      <td>4</td>\n",
       "      <td>27</td>\n",
       "      <td>21.117529</td>\n",
       "    </tr>\n",
       "    <tr>\n",
       "      <th>1</th>\n",
       "      <td>98</td>\n",
       "      <td>1</td>\n",
       "      <td>89.361882</td>\n",
       "      <td>4</td>\n",
       "      <td>25</td>\n",
       "      <td>-10.638118</td>\n",
       "    </tr>\n",
       "    <tr>\n",
       "      <th>2</th>\n",
       "      <td>85</td>\n",
       "      <td>1</td>\n",
       "      <td>115.443165</td>\n",
       "      <td>4</td>\n",
       "      <td>27</td>\n",
       "      <td>15.443165</td>\n",
       "    </tr>\n",
       "    <tr>\n",
       "      <th>3</th>\n",
       "      <td>83</td>\n",
       "      <td>1</td>\n",
       "      <td>99.449639</td>\n",
       "      <td>3</td>\n",
       "      <td>25</td>\n",
       "      <td>-0.550361</td>\n",
       "    </tr>\n",
       "    <tr>\n",
       "      <th>4</th>\n",
       "      <td>115</td>\n",
       "      <td>1</td>\n",
       "      <td>92.745710</td>\n",
       "      <td>4</td>\n",
       "      <td>27</td>\n",
       "      <td>-7.254290</td>\n",
       "    </tr>\n",
       "    <tr>\n",
       "      <th>...</th>\n",
       "      <td>...</td>\n",
       "      <td>...</td>\n",
       "      <td>...</td>\n",
       "      <td>...</td>\n",
       "      <td>...</td>\n",
       "      <td>...</td>\n",
       "    </tr>\n",
       "    <tr>\n",
       "      <th>429</th>\n",
       "      <td>94</td>\n",
       "      <td>0</td>\n",
       "      <td>84.877412</td>\n",
       "      <td>4</td>\n",
       "      <td>21</td>\n",
       "      <td>-15.122588</td>\n",
       "    </tr>\n",
       "    <tr>\n",
       "      <th>430</th>\n",
       "      <td>76</td>\n",
       "      <td>1</td>\n",
       "      <td>92.990392</td>\n",
       "      <td>4</td>\n",
       "      <td>23</td>\n",
       "      <td>-7.009608</td>\n",
       "    </tr>\n",
       "    <tr>\n",
       "      <th>431</th>\n",
       "      <td>50</td>\n",
       "      <td>0</td>\n",
       "      <td>94.859708</td>\n",
       "      <td>2</td>\n",
       "      <td>24</td>\n",
       "      <td>-5.140292</td>\n",
       "    </tr>\n",
       "    <tr>\n",
       "      <th>432</th>\n",
       "      <td>88</td>\n",
       "      <td>1</td>\n",
       "      <td>96.856624</td>\n",
       "      <td>2</td>\n",
       "      <td>21</td>\n",
       "      <td>-3.143376</td>\n",
       "    </tr>\n",
       "    <tr>\n",
       "      <th>433</th>\n",
       "      <td>70</td>\n",
       "      <td>1</td>\n",
       "      <td>91.253336</td>\n",
       "      <td>2</td>\n",
       "      <td>25</td>\n",
       "      <td>-8.746664</td>\n",
       "    </tr>\n",
       "  </tbody>\n",
       "</table>\n",
       "<p>434 rows × 6 columns</p>\n",
       "</div>\n",
       "      <button class=\"colab-df-convert\" onclick=\"convertToInteractive('df-35f3ab1b-d75c-4275-9f0c-9c01142ed1e4')\"\n",
       "              title=\"Convert this dataframe to an interactive table.\"\n",
       "              style=\"display:none;\">\n",
       "        \n",
       "  <svg xmlns=\"http://www.w3.org/2000/svg\" height=\"24px\"viewBox=\"0 0 24 24\"\n",
       "       width=\"24px\">\n",
       "    <path d=\"M0 0h24v24H0V0z\" fill=\"none\"/>\n",
       "    <path d=\"M18.56 5.44l.94 2.06.94-2.06 2.06-.94-2.06-.94-.94-2.06-.94 2.06-2.06.94zm-11 1L8.5 8.5l.94-2.06 2.06-.94-2.06-.94L8.5 2.5l-.94 2.06-2.06.94zm10 10l.94 2.06.94-2.06 2.06-.94-2.06-.94-.94-2.06-.94 2.06-2.06.94z\"/><path d=\"M17.41 7.96l-1.37-1.37c-.4-.4-.92-.59-1.43-.59-.52 0-1.04.2-1.43.59L10.3 9.45l-7.72 7.72c-.78.78-.78 2.05 0 2.83L4 21.41c.39.39.9.59 1.41.59.51 0 1.02-.2 1.41-.59l7.78-7.78 2.81-2.81c.8-.78.8-2.07 0-2.86zM5.41 20L4 18.59l7.72-7.72 1.47 1.35L5.41 20z\"/>\n",
       "  </svg>\n",
       "      </button>\n",
       "      \n",
       "  <style>\n",
       "    .colab-df-container {\n",
       "      display:flex;\n",
       "      flex-wrap:wrap;\n",
       "      gap: 12px;\n",
       "    }\n",
       "\n",
       "    .colab-df-convert {\n",
       "      background-color: #E8F0FE;\n",
       "      border: none;\n",
       "      border-radius: 50%;\n",
       "      cursor: pointer;\n",
       "      display: none;\n",
       "      fill: #1967D2;\n",
       "      height: 32px;\n",
       "      padding: 0 0 0 0;\n",
       "      width: 32px;\n",
       "    }\n",
       "\n",
       "    .colab-df-convert:hover {\n",
       "      background-color: #E2EBFA;\n",
       "      box-shadow: 0px 1px 2px rgba(60, 64, 67, 0.3), 0px 1px 3px 1px rgba(60, 64, 67, 0.15);\n",
       "      fill: #174EA6;\n",
       "    }\n",
       "\n",
       "    [theme=dark] .colab-df-convert {\n",
       "      background-color: #3B4455;\n",
       "      fill: #D2E3FC;\n",
       "    }\n",
       "\n",
       "    [theme=dark] .colab-df-convert:hover {\n",
       "      background-color: #434B5C;\n",
       "      box-shadow: 0px 1px 3px 1px rgba(0, 0, 0, 0.15);\n",
       "      filter: drop-shadow(0px 1px 2px rgba(0, 0, 0, 0.3));\n",
       "      fill: #FFFFFF;\n",
       "    }\n",
       "  </style>\n",
       "\n",
       "      <script>\n",
       "        const buttonEl =\n",
       "          document.querySelector('#df-35f3ab1b-d75c-4275-9f0c-9c01142ed1e4 button.colab-df-convert');\n",
       "        buttonEl.style.display =\n",
       "          google.colab.kernel.accessAllowed ? 'block' : 'none';\n",
       "\n",
       "        async function convertToInteractive(key) {\n",
       "          const element = document.querySelector('#df-35f3ab1b-d75c-4275-9f0c-9c01142ed1e4');\n",
       "          const dataTable =\n",
       "            await google.colab.kernel.invokeFunction('convertToInteractive',\n",
       "                                                     [key], {});\n",
       "          if (!dataTable) return;\n",
       "\n",
       "          const docLinkHtml = 'Like what you see? Visit the ' +\n",
       "            '<a target=\"_blank\" href=https://colab.research.google.com/notebooks/data_table.ipynb>data table notebook</a>'\n",
       "            + ' to learn more about interactive tables.';\n",
       "          element.innerHTML = '';\n",
       "          dataTable['output_type'] = 'display_data';\n",
       "          await google.colab.output.renderOutput(dataTable, element);\n",
       "          const docLink = document.createElement('div');\n",
       "          docLink.innerHTML = docLinkHtml;\n",
       "          element.appendChild(docLink);\n",
       "        }\n",
       "      </script>\n",
       "    </div>\n",
       "  </div>\n",
       "  "
      ],
      "text/plain": [
       "     kid_score  mom_hs      mom_iq  mom_work  mom_age   mom_iq_c\n",
       "0           65       1  121.117529         4       27  21.117529\n",
       "1           98       1   89.361882         4       25 -10.638118\n",
       "2           85       1  115.443165         4       27  15.443165\n",
       "3           83       1   99.449639         3       25  -0.550361\n",
       "4          115       1   92.745710         4       27  -7.254290\n",
       "..         ...     ...         ...       ...      ...        ...\n",
       "429         94       0   84.877412         4       21 -15.122588\n",
       "430         76       1   92.990392         4       23  -7.009608\n",
       "431         50       0   94.859708         2       24  -5.140292\n",
       "432         88       1   96.856624         2       21  -3.143376\n",
       "433         70       1   91.253336         2       25  -8.746664\n",
       "\n",
       "[434 rows x 6 columns]"
      ]
     },
     "execution_count": 4,
     "metadata": {},
     "output_type": "execute_result"
    }
   ],
   "source": [
    "# Create a centered version of the mom_iq variable\n",
    "kidiq['mom_iq_c'] = kidiq['mom_iq'] - kidiq['mom_iq'].mean()\n",
    "kidiq"
   ]
  },
  {
   "cell_type": "markdown",
   "metadata": {
    "id": "m4SeLKFQyPYm"
   },
   "source": [
    "## Using statsmodels"
   ]
  },
  {
   "cell_type": "code",
   "execution_count": 5,
   "metadata": {
    "colab": {
     "base_uri": "https://localhost:8080/"
    },
    "id": "UaWOQtZ_iUIM",
    "outputId": "914d5426-2611-4cac-ce02-701dbf4898a3"
   },
   "outputs": [
    {
     "name": "stdout",
     "output_type": "stream",
     "text": [
      "                            OLS Regression Results                            \n",
      "==============================================================================\n",
      "Dep. Variable:              kid_score   R-squared:                       0.214\n",
      "Model:                            OLS   Adj. R-squared:                  0.210\n",
      "Method:                 Least Squares   F-statistic:                     58.72\n",
      "Date:                Tue, 07 Jun 2022   Prob (F-statistic):           2.79e-23\n",
      "Time:                        23:48:23   Log-Likelihood:                -1872.0\n",
      "No. Observations:                 434   AIC:                             3750.\n",
      "Df Residuals:                     431   BIC:                             3762.\n",
      "Df Model:                           2                                         \n",
      "Covariance Type:            nonrobust                                         \n",
      "==============================================================================\n",
      "                 coef    std err          t      P>|t|      [0.025      0.975]\n",
      "------------------------------------------------------------------------------\n",
      "Intercept     82.1221      1.944     42.250      0.000      78.302      85.942\n",
      "mom_hs         5.9501      2.212      2.690      0.007       1.603      10.297\n",
      "mom_iq_c       0.5639      0.061      9.309      0.000       0.445       0.683\n",
      "==============================================================================\n",
      "Omnibus:                        7.327   Durbin-Watson:                   1.625\n",
      "Prob(Omnibus):                  0.026   Jarque-Bera (JB):                7.530\n",
      "Skew:                          -0.313   Prob(JB):                       0.0232\n",
      "Kurtosis:                       2.845   Cond. No.                         49.3\n",
      "==============================================================================\n",
      "\n",
      "Warnings:\n",
      "[1] Standard Errors assume that the covariance matrix of the errors is correctly specified.\n"
     ]
    }
   ],
   "source": [
    "# Fit regression model using centered version of mom_iq\n",
    "fit1 = smf.ols('kid_score ~ 1 + mom_hs + mom_iq_c', data=kidiq).fit()\n",
    "\n",
    "# Inspect results\n",
    "print(fit1.summary())"
   ]
  },
  {
   "cell_type": "code",
   "execution_count": 6,
   "metadata": {
    "colab": {
     "base_uri": "https://localhost:8080/"
    },
    "id": "lgdGn1XUiy4U",
    "outputId": "0058f3f7-68c3-4e92-cc7b-1f4c151fec10"
   },
   "outputs": [
    {
     "name": "stdout",
     "output_type": "stream",
     "text": [
      "                            OLS Regression Results                            \n",
      "==============================================================================\n",
      "Dep. Variable:              kid_score   R-squared:                       0.214\n",
      "Model:                            OLS   Adj. R-squared:                  0.210\n",
      "Method:                 Least Squares   F-statistic:                     58.72\n",
      "Date:                Tue, 07 Jun 2022   Prob (F-statistic):           2.79e-23\n",
      "Time:                        23:48:27   Log-Likelihood:                -1872.0\n",
      "No. Observations:                 434   AIC:                             3750.\n",
      "Df Residuals:                     431   BIC:                             3762.\n",
      "Df Model:                           2                                         \n",
      "Covariance Type:            nonrobust                                         \n",
      "==============================================================================\n",
      "                 coef    std err          t      P>|t|      [0.025      0.975]\n",
      "------------------------------------------------------------------------------\n",
      "const         82.1221      1.944     42.250      0.000      78.302      85.942\n",
      "mom_hs         5.9501      2.212      2.690      0.007       1.603      10.297\n",
      "mom_iq_c       0.5639      0.061      9.309      0.000       0.445       0.683\n",
      "==============================================================================\n",
      "Omnibus:                        7.327   Durbin-Watson:                   1.625\n",
      "Prob(Omnibus):                  0.026   Jarque-Bera (JB):                7.530\n",
      "Skew:                          -0.313   Prob(JB):                       0.0232\n",
      "Kurtosis:                       2.845   Cond. No.                         49.3\n",
      "==============================================================================\n",
      "\n",
      "Warnings:\n",
      "[1] Standard Errors assume that the covariance matrix of the errors is correctly specified.\n"
     ]
    }
   ],
   "source": [
    "# SOURCE: https://www.statsmodels.org/stable/gettingstarted.html\n",
    "# Tools: add_constant https://www.statsmodels.org/stable/api.html\n",
    "\n",
    "y = kidiq['kid_score']\n",
    "X = kidiq[['mom_hs', 'mom_iq_c']]\n",
    "X = sm.add_constant(X)\n",
    "\n",
    "# Describe regression model\n",
    "model1 = sm.OLS(y,X)\n",
    "\n",
    "# Fit regression model\n",
    "res1 = model1.fit()\n",
    "\n",
    "# Inspect results\n",
    "print(res1.summary())"
   ]
  },
  {
   "cell_type": "code",
   "execution_count": 7,
   "metadata": {
    "colab": {
     "base_uri": "https://localhost:8080/"
    },
    "id": "lj4dBItJyrp1",
    "outputId": "a6fc4f8b-2d52-4b3d-b990-c952146ad814"
   },
   "outputs": [
    {
     "data": {
      "text/plain": [
       "{'const': 82.122, 'mom_hs': 5.95, 'mom_iq_c': 0.564}"
      ]
     },
     "execution_count": 7,
     "metadata": {},
     "output_type": "execute_result"
    }
   ],
   "source": [
    "features = res1.params.index\n",
    "coefs = [round(val, 3) for val in res1.params.values]\n",
    "\n",
    "dict(zip(features, coefs))"
   ]
  },
  {
   "cell_type": "code",
   "execution_count": 8,
   "metadata": {
    "colab": {
     "base_uri": "https://localhost:8080/"
    },
    "id": "w3R6m-IlySOJ",
    "outputId": "c433597e-1deb-4a9b-9da0-22d1c22f3a80"
   },
   "outputs": [
    {
     "name": "stdout",
     "output_type": "stream",
     "text": [
      "In-sample R-squared: 0.214\n"
     ]
    }
   ],
   "source": [
    "print(\"In-sample R-squared: %.3f\" % round(res1.rsquared, 3))"
   ]
  },
  {
   "cell_type": "code",
   "execution_count": 9,
   "metadata": {
    "colab": {
     "base_uri": "https://localhost:8080/"
    },
    "id": "2GCrXNh_yY-8",
    "outputId": "ed7c50e0-d01f-4d17-86ee-ca498dd7fa8d"
   },
   "outputs": [
    {
     "name": "stdout",
     "output_type": "stream",
     "text": [
      "In-sample R-squared (Adj): 0.210\n"
     ]
    }
   ],
   "source": [
    "print(\"In-sample R-squared (Adj): %.3f\" % round(res1.rsquared_adj, 3))"
   ]
  },
  {
   "cell_type": "code",
   "execution_count": 10,
   "metadata": {
    "colab": {
     "base_uri": "https://localhost:8080/"
    },
    "id": "fCMpMbE6wyGL",
    "outputId": "213af361-7b3b-402f-abe5-5d18242c8987"
   },
   "outputs": [
    {
     "name": "stdout",
     "output_type": "stream",
     "text": [
      "In-sample RMSE: 18.073\n"
     ]
    }
   ],
   "source": [
    "print(\"In-sample RMSE: %.3f\" % round(np.mean((y - res1.fittedvalues)**2)**0.5, 3))"
   ]
  },
  {
   "cell_type": "code",
   "execution_count": 11,
   "metadata": {
    "id": "Vp1DVlGHlV7u"
   },
   "outputs": [],
   "source": [
    "# SOURCE: https://www.statology.org/matplotlib-abline/\n",
    "def abline(intercept, slope, **params):\n",
    "    axes = plt.gca()\n",
    "    x_vals = np.array(axes.get_xlim())\n",
    "    y_vals = intercept + slope * x_vals\n",
    "    plt.plot(x_vals, y_vals, '-', **params)"
   ]
  },
  {
   "cell_type": "code",
   "execution_count": 18,
   "metadata": {
    "colab": {
     "base_uri": "https://localhost:8080/",
     "height": 441
    },
    "id": "hwK1eENwlXtO",
    "outputId": "c64d5bd9-986f-4516-9ea5-9aac47bec074"
   },
   "outputs": [
    {
     "data": {
      "image/png": "[encoded data removed]",
      "text/plain": [
       "<Figure size 720x432 with 1 Axes>"
      ]
     },
     "metadata": {
      "needs_background": "light"
     },
     "output_type": "display_data"
    }
   ],
   "source": [
    "# SOURCE: https://www.statsmodels.org/stable/generated/statsmodels.graphics.regressionplots.abline_plot.html\n",
    "fig, ax = plt.subplots(figsize=(10, 6))\n",
    "\n",
    "colors = {1:'black', 0:'darkgray'}\n",
    "b_hat = fit1.params\n",
    "\n",
    "ax.scatter(kidiq.mom_iq_c, kidiq.kid_score, color=kidiq.mom_hs.map(colors))\n",
    "# abline(b_hat['Intercept'],                 b_hat['mom_iq_c'], color='gray',  label='No HS')\n",
    "# abline(b_hat['Intercept']+b_hat['mom_hs'], b_hat['mom_iq_c'], color='black', label='HS')\n",
    "sm.graphics.abline_plot(intercept=b_hat['Intercept'],                 slope=b_hat['mom_iq_c'], color='gray',  label='No HS', ax=ax)\n",
    "sm.graphics.abline_plot(intercept=b_hat['Intercept']+b_hat['mom_hs'], slope=b_hat['mom_iq_c'], color='black', label='HS',    ax=ax)\n",
    "ax.set_ylabel('Kid Score', fontsize=14)\n",
    "ax.set_xlabel('Mom IQ (centered)', fontsize=14)\n",
    "ax.legend(fontsize=11)\n",
    "ax.set_title('Linear Regression\\n$R^2= %.2f$' % fit1.rsquared_adj, fontsize=18)\n",
    "\n",
    "fig.tight_layout();"
   ]
  },
  {
   "cell_type": "markdown",
   "metadata": {
    "id": "mfPv9Xy9FVBU"
   },
   "source": [
    "## K-fold cross validation using statsmodels and scikit-learn"
   ]
  },
  {
   "cell_type": "markdown",
   "metadata": {
    "id": "uFVJxZ-mbVn4"
   },
   "source": [
    "#### R-squared"
   ]
  },
  {
   "cell_type": "code",
   "execution_count": null,
   "metadata": {
    "colab": {
     "base_uri": "https://localhost:8080/"
    },
    "id": "il-ahVaRH1vU",
    "outputId": "5d636f33-fd45-462e-d13a-7c994a0323bd"
   },
   "outputs": [
    {
     "data": {
      "text/plain": [
       "(434, 347)"
      ]
     },
     "execution_count": 267,
     "metadata": {},
     "output_type": "execute_result"
    }
   ],
   "source": [
    "len(y), round(len(y)*(4/5))"
   ]
  },
  {
   "cell_type": "code",
   "execution_count": 21,
   "metadata": {
    "colab": {
     "base_uri": "https://localhost:8080/",
     "height": 206
    },
    "id": "3Dt1L9b2poL-",
    "outputId": "c24682e2-5105-429e-e521-3efeae9cd583"
   },
   "outputs": [
    {
     "data": {
      "text/html": [
       "\n",
       "  <div id=\"df-7cbc7e12-36d1-46e7-9fa0-384883b2c53f\">\n",
       "    <div class=\"colab-df-container\">\n",
       "      <div>\n",
       "<style scoped>\n",
       "    .dataframe tbody tr th:only-of-type {\n",
       "        vertical-align: middle;\n",
       "    }\n",
       "\n",
       "    .dataframe tbody tr th {\n",
       "        vertical-align: top;\n",
       "    }\n",
       "\n",
       "    .dataframe thead th {\n",
       "        text-align: right;\n",
       "    }\n",
       "</style>\n",
       "<table border=\"1\" class=\"dataframe\">\n",
       "  <thead>\n",
       "    <tr style=\"text-align: right;\">\n",
       "      <th></th>\n",
       "      <th>const</th>\n",
       "      <th>mom_hs</th>\n",
       "      <th>mom_iq_c</th>\n",
       "    </tr>\n",
       "  </thead>\n",
       "  <tbody>\n",
       "    <tr>\n",
       "      <th>0</th>\n",
       "      <td>1.0</td>\n",
       "      <td>1</td>\n",
       "      <td>21.117529</td>\n",
       "    </tr>\n",
       "    <tr>\n",
       "      <th>1</th>\n",
       "      <td>1.0</td>\n",
       "      <td>1</td>\n",
       "      <td>-10.638118</td>\n",
       "    </tr>\n",
       "    <tr>\n",
       "      <th>2</th>\n",
       "      <td>1.0</td>\n",
       "      <td>1</td>\n",
       "      <td>15.443165</td>\n",
       "    </tr>\n",
       "    <tr>\n",
       "      <th>3</th>\n",
       "      <td>1.0</td>\n",
       "      <td>1</td>\n",
       "      <td>-0.550361</td>\n",
       "    </tr>\n",
       "    <tr>\n",
       "      <th>4</th>\n",
       "      <td>1.0</td>\n",
       "      <td>1</td>\n",
       "      <td>-7.254290</td>\n",
       "    </tr>\n",
       "  </tbody>\n",
       "</table>\n",
       "</div>\n",
       "      <button class=\"colab-df-convert\" onclick=\"convertToInteractive('df-7cbc7e12-36d1-46e7-9fa0-384883b2c53f')\"\n",
       "              title=\"Convert this dataframe to an interactive table.\"\n",
       "              style=\"display:none;\">\n",
       "        \n",
       "  <svg xmlns=\"http://www.w3.org/2000/svg\" height=\"24px\"viewBox=\"0 0 24 24\"\n",
       "       width=\"24px\">\n",
       "    <path d=\"M0 0h24v24H0V0z\" fill=\"none\"/>\n",
       "    <path d=\"M18.56 5.44l.94 2.06.94-2.06 2.06-.94-2.06-.94-.94-2.06-.94 2.06-2.06.94zm-11 1L8.5 8.5l.94-2.06 2.06-.94-2.06-.94L8.5 2.5l-.94 2.06-2.06.94zm10 10l.94 2.06.94-2.06 2.06-.94-2.06-.94-.94-2.06-.94 2.06-2.06.94z\"/><path d=\"M17.41 7.96l-1.37-1.37c-.4-.4-.92-.59-1.43-.59-.52 0-1.04.2-1.43.59L10.3 9.45l-7.72 7.72c-.78.78-.78 2.05 0 2.83L4 21.41c.39.39.9.59 1.41.59.51 0 1.02-.2 1.41-.59l7.78-7.78 2.81-2.81c.8-.78.8-2.07 0-2.86zM5.41 20L4 18.59l7.72-7.72 1.47 1.35L5.41 20z\"/>\n",
       "  </svg>\n",
       "      </button>\n",
       "      \n",
       "  <style>\n",
       "    .colab-df-container {\n",
       "      display:flex;\n",
       "      flex-wrap:wrap;\n",
       "      gap: 12px;\n",
       "    }\n",
       "\n",
       "    .colab-df-convert {\n",
       "      background-color: #E8F0FE;\n",
       "      border: none;\n",
       "      border-radius: 50%;\n",
       "      cursor: pointer;\n",
       "      display: none;\n",
       "      fill: #1967D2;\n",
       "      height: 32px;\n",
       "      padding: 0 0 0 0;\n",
       "      width: 32px;\n",
       "    }\n",
       "\n",
       "    .colab-df-convert:hover {\n",
       "      background-color: #E2EBFA;\n",
       "      box-shadow: 0px 1px 2px rgba(60, 64, 67, 0.3), 0px 1px 3px 1px rgba(60, 64, 67, 0.15);\n",
       "      fill: #174EA6;\n",
       "    }\n",
       "\n",
       "    [theme=dark] .colab-df-convert {\n",
       "      background-color: #3B4455;\n",
       "      fill: #D2E3FC;\n",
       "    }\n",
       "\n",
       "    [theme=dark] .colab-df-convert:hover {\n",
       "      background-color: #434B5C;\n",
       "      box-shadow: 0px 1px 3px 1px rgba(0, 0, 0, 0.15);\n",
       "      filter: drop-shadow(0px 1px 2px rgba(0, 0, 0, 0.3));\n",
       "      fill: #FFFFFF;\n",
       "    }\n",
       "  </style>\n",
       "\n",
       "      <script>\n",
       "        const buttonEl =\n",
       "          document.querySelector('#df-7cbc7e12-36d1-46e7-9fa0-384883b2c53f button.colab-df-convert');\n",
       "        buttonEl.style.display =\n",
       "          google.colab.kernel.accessAllowed ? 'block' : 'none';\n",
       "\n",
       "        async function convertToInteractive(key) {\n",
       "          const element = document.querySelector('#df-7cbc7e12-36d1-46e7-9fa0-384883b2c53f');\n",
       "          const dataTable =\n",
       "            await google.colab.kernel.invokeFunction('convertToInteractive',\n",
       "                                                     [key], {});\n",
       "          if (!dataTable) return;\n",
       "\n",
       "          const docLinkHtml = 'Like what you see? Visit the ' +\n",
       "            '<a target=\"_blank\" href=https://colab.research.google.com/notebooks/data_table.ipynb>data table notebook</a>'\n",
       "            + ' to learn more about interactive tables.';\n",
       "          element.innerHTML = '';\n",
       "          dataTable['output_type'] = 'display_data';\n",
       "          await google.colab.output.renderOutput(dataTable, element);\n",
       "          const docLink = document.createElement('div');\n",
       "          docLink.innerHTML = docLinkHtml;\n",
       "          element.appendChild(docLink);\n",
       "        }\n",
       "      </script>\n",
       "    </div>\n",
       "  </div>\n",
       "  "
      ],
      "text/plain": [
       "   const  mom_hs   mom_iq_c\n",
       "0    1.0       1  21.117529\n",
       "1    1.0       1 -10.638118\n",
       "2    1.0       1  15.443165\n",
       "3    1.0       1  -0.550361\n",
       "4    1.0       1  -7.254290"
      ]
     },
     "execution_count": 21,
     "metadata": {},
     "output_type": "execute_result"
    }
   ],
   "source": [
    "y = kidiq['kid_score']\n",
    "\n",
    "X = kidiq[['mom_hs', 'mom_iq_c']]\n",
    "X = sm.add_constant(X)\n",
    "\n",
    "X[:5]"
   ]
  },
  {
   "cell_type": "code",
   "execution_count": 22,
   "metadata": {
    "colab": {
     "base_uri": "https://localhost:8080/"
    },
    "id": "7HXmeItQFSzP",
    "outputId": "06d0e12a-e1ef-4e16-87fe-4604ee49fa0b"
   },
   "outputs": [
    {
     "name": "stdout",
     "output_type": "stream",
     "text": [
      "Fold:  1, Training size: 347, Out-of-sample R-squared: 0.205\n",
      "Fold:  2, Training size: 347, Out-of-sample R-squared: 0.070\n",
      "Fold:  3, Training size: 347, Out-of-sample R-squared: 0.302\n",
      "Fold:  4, Training size: 347, Out-of-sample R-squared: 0.137\n",
      "Fold:  5, Training size: 348, Out-of-sample R-squared: 0.264\n",
      "\n",
      "CV R-squared: 0.196 (+/- 0.084)\n"
     ]
    }
   ],
   "source": [
    "kfold = KFold(n_splits=5, shuffle=True, random_state=123) # scikit-learn\n",
    "\n",
    "scores = []\n",
    "for k, (train, test) in enumerate(kfold.split(X, y)):     # scikit-learn\n",
    "    res1 = sm.OLS(y[train], X.loc[train,:]).fit()         # statsmodels\n",
    "    preds = res1.predict(X.loc[test,:])                   # statsmodels\n",
    "    score = r2_score(y[test], preds)                      # scikit-learn\n",
    "    scores.append(score)\n",
    "    print('Fold: {:2d}, Training size: {}, Out-of-sample R-squared: {:.3f}'.format(k+1, len(y[train]), score))\n",
    "    \n",
    "print('\\nCV R-squared: {:.3f} (+/- {:.3f})'.format(np.mean(scores), np.std(scores)))"
   ]
  },
  {
   "cell_type": "markdown",
   "metadata": {
    "id": "uqyNC0txbYYd"
   },
   "source": [
    "#### RMSE"
   ]
  },
  {
   "cell_type": "code",
   "execution_count": 25,
   "metadata": {
    "colab": {
     "base_uri": "https://localhost:8080/",
     "height": 206
    },
    "id": "iv4HHNAvp1bX",
    "outputId": "b025b613-9975-47d6-8ffa-5d2827434b84"
   },
   "outputs": [
    {
     "data": {
      "text/html": [
       "\n",
       "  <div id=\"df-cc7d5ca6-f6d8-47bf-a56b-9c90057f4059\">\n",
       "    <div class=\"colab-df-container\">\n",
       "      <div>\n",
       "<style scoped>\n",
       "    .dataframe tbody tr th:only-of-type {\n",
       "        vertical-align: middle;\n",
       "    }\n",
       "\n",
       "    .dataframe tbody tr th {\n",
       "        vertical-align: top;\n",
       "    }\n",
       "\n",
       "    .dataframe thead th {\n",
       "        text-align: right;\n",
       "    }\n",
       "</style>\n",
       "<table border=\"1\" class=\"dataframe\">\n",
       "  <thead>\n",
       "    <tr style=\"text-align: right;\">\n",
       "      <th></th>\n",
       "      <th>const</th>\n",
       "      <th>mom_hs</th>\n",
       "      <th>mom_iq_c</th>\n",
       "    </tr>\n",
       "  </thead>\n",
       "  <tbody>\n",
       "    <tr>\n",
       "      <th>0</th>\n",
       "      <td>1.0</td>\n",
       "      <td>1</td>\n",
       "      <td>21.117529</td>\n",
       "    </tr>\n",
       "    <tr>\n",
       "      <th>1</th>\n",
       "      <td>1.0</td>\n",
       "      <td>1</td>\n",
       "      <td>-10.638118</td>\n",
       "    </tr>\n",
       "    <tr>\n",
       "      <th>2</th>\n",
       "      <td>1.0</td>\n",
       "      <td>1</td>\n",
       "      <td>15.443165</td>\n",
       "    </tr>\n",
       "    <tr>\n",
       "      <th>3</th>\n",
       "      <td>1.0</td>\n",
       "      <td>1</td>\n",
       "      <td>-0.550361</td>\n",
       "    </tr>\n",
       "    <tr>\n",
       "      <th>4</th>\n",
       "      <td>1.0</td>\n",
       "      <td>1</td>\n",
       "      <td>-7.254290</td>\n",
       "    </tr>\n",
       "  </tbody>\n",
       "</table>\n",
       "</div>\n",
       "      <button class=\"colab-df-convert\" onclick=\"convertToInteractive('df-cc7d5ca6-f6d8-47bf-a56b-9c90057f4059')\"\n",
       "              title=\"Convert this dataframe to an interactive table.\"\n",
       "              style=\"display:none;\">\n",
       "        \n",
       "  <svg xmlns=\"http://www.w3.org/2000/svg\" height=\"24px\"viewBox=\"0 0 24 24\"\n",
       "       width=\"24px\">\n",
       "    <path d=\"M0 0h24v24H0V0z\" fill=\"none\"/>\n",
       "    <path d=\"M18.56 5.44l.94 2.06.94-2.06 2.06-.94-2.06-.94-.94-2.06-.94 2.06-2.06.94zm-11 1L8.5 8.5l.94-2.06 2.06-.94-2.06-.94L8.5 2.5l-.94 2.06-2.06.94zm10 10l.94 2.06.94-2.06 2.06-.94-2.06-.94-.94-2.06-.94 2.06-2.06.94z\"/><path d=\"M17.41 7.96l-1.37-1.37c-.4-.4-.92-.59-1.43-.59-.52 0-1.04.2-1.43.59L10.3 9.45l-7.72 7.72c-.78.78-.78 2.05 0 2.83L4 21.41c.39.39.9.59 1.41.59.51 0 1.02-.2 1.41-.59l7.78-7.78 2.81-2.81c.8-.78.8-2.07 0-2.86zM5.41 20L4 18.59l7.72-7.72 1.47 1.35L5.41 20z\"/>\n",
       "  </svg>\n",
       "      </button>\n",
       "      \n",
       "  <style>\n",
       "    .colab-df-container {\n",
       "      display:flex;\n",
       "      flex-wrap:wrap;\n",
       "      gap: 12px;\n",
       "    }\n",
       "\n",
       "    .colab-df-convert {\n",
       "      background-color: #E8F0FE;\n",
       "      border: none;\n",
       "      border-radius: 50%;\n",
       "      cursor: pointer;\n",
       "      display: none;\n",
       "      fill: #1967D2;\n",
       "      height: 32px;\n",
       "      padding: 0 0 0 0;\n",
       "      width: 32px;\n",
       "    }\n",
       "\n",
       "    .colab-df-convert:hover {\n",
       "      background-color: #E2EBFA;\n",
       "      box-shadow: 0px 1px 2px rgba(60, 64, 67, 0.3), 0px 1px 3px 1px rgba(60, 64, 67, 0.15);\n",
       "      fill: #174EA6;\n",
       "    }\n",
       "\n",
       "    [theme=dark] .colab-df-convert {\n",
       "      background-color: #3B4455;\n",
       "      fill: #D2E3FC;\n",
       "    }\n",
       "\n",
       "    [theme=dark] .colab-df-convert:hover {\n",
       "      background-color: #434B5C;\n",
       "      box-shadow: 0px 1px 3px 1px rgba(0, 0, 0, 0.15);\n",
       "      filter: drop-shadow(0px 1px 2px rgba(0, 0, 0, 0.3));\n",
       "      fill: #FFFFFF;\n",
       "    }\n",
       "  </style>\n",
       "\n",
       "      <script>\n",
       "        const buttonEl =\n",
       "          document.querySelector('#df-cc7d5ca6-f6d8-47bf-a56b-9c90057f4059 button.colab-df-convert');\n",
       "        buttonEl.style.display =\n",
       "          google.colab.kernel.accessAllowed ? 'block' : 'none';\n",
       "\n",
       "        async function convertToInteractive(key) {\n",
       "          const element = document.querySelector('#df-cc7d5ca6-f6d8-47bf-a56b-9c90057f4059');\n",
       "          const dataTable =\n",
       "            await google.colab.kernel.invokeFunction('convertToInteractive',\n",
       "                                                     [key], {});\n",
       "          if (!dataTable) return;\n",
       "\n",
       "          const docLinkHtml = 'Like what you see? Visit the ' +\n",
       "            '<a target=\"_blank\" href=https://colab.research.google.com/notebooks/data_table.ipynb>data table notebook</a>'\n",
       "            + ' to learn more about interactive tables.';\n",
       "          element.innerHTML = '';\n",
       "          dataTable['output_type'] = 'display_data';\n",
       "          await google.colab.output.renderOutput(dataTable, element);\n",
       "          const docLink = document.createElement('div');\n",
       "          docLink.innerHTML = docLinkHtml;\n",
       "          element.appendChild(docLink);\n",
       "        }\n",
       "      </script>\n",
       "    </div>\n",
       "  </div>\n",
       "  "
      ],
      "text/plain": [
       "   const  mom_hs   mom_iq_c\n",
       "0    1.0       1  21.117529\n",
       "1    1.0       1 -10.638118\n",
       "2    1.0       1  15.443165\n",
       "3    1.0       1  -0.550361\n",
       "4    1.0       1  -7.254290"
      ]
     },
     "execution_count": 25,
     "metadata": {},
     "output_type": "execute_result"
    }
   ],
   "source": [
    "y = kidiq['kid_score']\n",
    "\n",
    "X = kidiq[['mom_hs', 'mom_iq_c']]\n",
    "X = sm.add_constant(X)\n",
    "\n",
    "X[:5]"
   ]
  },
  {
   "cell_type": "code",
   "execution_count": 26,
   "metadata": {
    "colab": {
     "base_uri": "https://localhost:8080/"
    },
    "id": "gfymQgfGba_r",
    "outputId": "9006098b-51e9-4f30-ce23-b65059b1252a"
   },
   "outputs": [
    {
     "name": "stdout",
     "output_type": "stream",
     "text": [
      "Fold:  1, Training size: 347, Out-of-sample RMSE: 18.394\n",
      "Fold:  2, Training size: 347, Out-of-sample RMSE: 18.640\n",
      "Fold:  3, Training size: 347, Out-of-sample RMSE: 17.431\n",
      "Fold:  4, Training size: 347, Out-of-sample RMSE: 18.849\n",
      "Fold:  5, Training size: 348, Out-of-sample RMSE: 17.594\n",
      "\n",
      "CV RMSE: 18.182 (+/- 0.567)\n"
     ]
    }
   ],
   "source": [
    "kfold = KFold(n_splits=5, shuffle=True, random_state=123)      # scikit-learn\n",
    "\n",
    "scores = []\n",
    "for k, (train, test) in enumerate(kfold.split(X, y)):          # scikit-learn\n",
    "    res1 = sm.OLS(y[train], X.loc[train,:]).fit()              # statsmodels\n",
    "    preds = res1.predict(X.loc[test,:])                        # statsmodels\n",
    "    score = mean_squared_error(y[test], preds, squared=False)  # scikit-learn\n",
    "    scores.append(score)\n",
    "    print('Fold: {:2d}, Training size: {}, Out-of-sample RMSE: {:.3f}'.format(k+1, len(y[train]), score))\n",
    "    \n",
    "print('\\nCV RMSE: {:.3f} (+/- {:.3f})'.format(np.mean(scores), np.std(scores)))"
   ]
  },
  {
   "cell_type": "markdown",
   "metadata": {
    "id": "5j3KMJowrtK6"
   },
   "source": [
    "# Exercise"
   ]
  },
  {
   "cell_type": "markdown",
   "metadata": {
    "id": "z6I2Aze3kse-"
   },
   "source": [
    "## 1a. Create an interaction term between `mom_hs` and `mom_iq_c`\n",
    "## 1b. Run **5**-fold cross-validation on the expanded model that includes `mom_hs`, `mom_iq_c`, and `mom_hs`*`mom_iq_c`\n",
    "## 1c. Run 10-fold cross-validation on the expanded model, using `RMSE` as the evaluation metric"
   ]
  },
  {
   "cell_type": "code",
   "execution_count": 30,
   "metadata": {
    "colab": {
     "base_uri": "https://localhost:8080/",
     "height": 206
    },
    "id": "8EGL7Mw7ksPj",
    "outputId": "e2beeebf-ce1f-41fa-8e80-10bfe497025c"
   },
   "outputs": [
    {
     "data": {
      "text/html": [
       "\n",
       "  <div id=\"df-d777fb47-1e21-48ea-9a42-994943a7d31f\">\n",
       "    <div class=\"colab-df-container\">\n",
       "      <div>\n",
       "<style scoped>\n",
       "    .dataframe tbody tr th:only-of-type {\n",
       "        vertical-align: middle;\n",
       "    }\n",
       "\n",
       "    .dataframe tbody tr th {\n",
       "        vertical-align: top;\n",
       "    }\n",
       "\n",
       "    .dataframe thead th {\n",
       "        text-align: right;\n",
       "    }\n",
       "</style>\n",
       "<table border=\"1\" class=\"dataframe\">\n",
       "  <thead>\n",
       "    <tr style=\"text-align: right;\">\n",
       "      <th></th>\n",
       "      <th>const</th>\n",
       "      <th>mom_hs</th>\n",
       "      <th>mom_iq_c</th>\n",
       "      <th>mom_hs_iq_c</th>\n",
       "    </tr>\n",
       "  </thead>\n",
       "  <tbody>\n",
       "    <tr>\n",
       "      <th>429</th>\n",
       "      <td>1.0</td>\n",
       "      <td>0</td>\n",
       "      <td>-15.122588</td>\n",
       "      <td>-0.000000</td>\n",
       "    </tr>\n",
       "    <tr>\n",
       "      <th>430</th>\n",
       "      <td>1.0</td>\n",
       "      <td>1</td>\n",
       "      <td>-7.009608</td>\n",
       "      <td>-7.009608</td>\n",
       "    </tr>\n",
       "    <tr>\n",
       "      <th>431</th>\n",
       "      <td>1.0</td>\n",
       "      <td>0</td>\n",
       "      <td>-5.140292</td>\n",
       "      <td>-0.000000</td>\n",
       "    </tr>\n",
       "    <tr>\n",
       "      <th>432</th>\n",
       "      <td>1.0</td>\n",
       "      <td>1</td>\n",
       "      <td>-3.143376</td>\n",
       "      <td>-3.143376</td>\n",
       "    </tr>\n",
       "    <tr>\n",
       "      <th>433</th>\n",
       "      <td>1.0</td>\n",
       "      <td>1</td>\n",
       "      <td>-8.746664</td>\n",
       "      <td>-8.746664</td>\n",
       "    </tr>\n",
       "  </tbody>\n",
       "</table>\n",
       "</div>\n",
       "      <button class=\"colab-df-convert\" onclick=\"convertToInteractive('df-d777fb47-1e21-48ea-9a42-994943a7d31f')\"\n",
       "              title=\"Convert this dataframe to an interactive table.\"\n",
       "              style=\"display:none;\">\n",
       "        \n",
       "  <svg xmlns=\"http://www.w3.org/2000/svg\" height=\"24px\"viewBox=\"0 0 24 24\"\n",
       "       width=\"24px\">\n",
       "    <path d=\"M0 0h24v24H0V0z\" fill=\"none\"/>\n",
       "    <path d=\"M18.56 5.44l.94 2.06.94-2.06 2.06-.94-2.06-.94-.94-2.06-.94 2.06-2.06.94zm-11 1L8.5 8.5l.94-2.06 2.06-.94-2.06-.94L8.5 2.5l-.94 2.06-2.06.94zm10 10l.94 2.06.94-2.06 2.06-.94-2.06-.94-.94-2.06-.94 2.06-2.06.94z\"/><path d=\"M17.41 7.96l-1.37-1.37c-.4-.4-.92-.59-1.43-.59-.52 0-1.04.2-1.43.59L10.3 9.45l-7.72 7.72c-.78.78-.78 2.05 0 2.83L4 21.41c.39.39.9.59 1.41.59.51 0 1.02-.2 1.41-.59l7.78-7.78 2.81-2.81c.8-.78.8-2.07 0-2.86zM5.41 20L4 18.59l7.72-7.72 1.47 1.35L5.41 20z\"/>\n",
       "  </svg>\n",
       "      </button>\n",
       "      \n",
       "  <style>\n",
       "    .colab-df-container {\n",
       "      display:flex;\n",
       "      flex-wrap:wrap;\n",
       "      gap: 12px;\n",
       "    }\n",
       "\n",
       "    .colab-df-convert {\n",
       "      background-color: #E8F0FE;\n",
       "      border: none;\n",
       "      border-radius: 50%;\n",
       "      cursor: pointer;\n",
       "      display: none;\n",
       "      fill: #1967D2;\n",
       "      height: 32px;\n",
       "      padding: 0 0 0 0;\n",
       "      width: 32px;\n",
       "    }\n",
       "\n",
       "    .colab-df-convert:hover {\n",
       "      background-color: #E2EBFA;\n",
       "      box-shadow: 0px 1px 2px rgba(60, 64, 67, 0.3), 0px 1px 3px 1px rgba(60, 64, 67, 0.15);\n",
       "      fill: #174EA6;\n",
       "    }\n",
       "\n",
       "    [theme=dark] .colab-df-convert {\n",
       "      background-color: #3B4455;\n",
       "      fill: #D2E3FC;\n",
       "    }\n",
       "\n",
       "    [theme=dark] .colab-df-convert:hover {\n",
       "      background-color: #434B5C;\n",
       "      box-shadow: 0px 1px 3px 1px rgba(0, 0, 0, 0.15);\n",
       "      filter: drop-shadow(0px 1px 2px rgba(0, 0, 0, 0.3));\n",
       "      fill: #FFFFFF;\n",
       "    }\n",
       "  </style>\n",
       "\n",
       "      <script>\n",
       "        const buttonEl =\n",
       "          document.querySelector('#df-d777fb47-1e21-48ea-9a42-994943a7d31f button.colab-df-convert');\n",
       "        buttonEl.style.display =\n",
       "          google.colab.kernel.accessAllowed ? 'block' : 'none';\n",
       "\n",
       "        async function convertToInteractive(key) {\n",
       "          const element = document.querySelector('#df-d777fb47-1e21-48ea-9a42-994943a7d31f');\n",
       "          const dataTable =\n",
       "            await google.colab.kernel.invokeFunction('convertToInteractive',\n",
       "                                                     [key], {});\n",
       "          if (!dataTable) return;\n",
       "\n",
       "          const docLinkHtml = 'Like what you see? Visit the ' +\n",
       "            '<a target=\"_blank\" href=https://colab.research.google.com/notebooks/data_table.ipynb>data table notebook</a>'\n",
       "            + ' to learn more about interactive tables.';\n",
       "          element.innerHTML = '';\n",
       "          dataTable['output_type'] = 'display_data';\n",
       "          await google.colab.output.renderOutput(dataTable, element);\n",
       "          const docLink = document.createElement('div');\n",
       "          docLink.innerHTML = docLinkHtml;\n",
       "          element.appendChild(docLink);\n",
       "        }\n",
       "      </script>\n",
       "    </div>\n",
       "  </div>\n",
       "  "
      ],
      "text/plain": [
       "     const  mom_hs   mom_iq_c  mom_hs_iq_c\n",
       "429    1.0       0 -15.122588    -0.000000\n",
       "430    1.0       1  -7.009608    -7.009608\n",
       "431    1.0       0  -5.140292    -0.000000\n",
       "432    1.0       1  -3.143376    -3.143376\n",
       "433    1.0       1  -8.746664    -8.746664"
      ]
     },
     "execution_count": 30,
     "metadata": {},
     "output_type": "execute_result"
    }
   ],
   "source": [
    "y = kidiq['kid_score']\n",
    "\n",
    "kidiq['mom_hs_iq_c'] = kidiq['mom_hs'] * kidiq['mom_iq_c']\n",
    "\n",
    "X = kidiq[['mom_hs', 'mom_iq_c', 'mom_hs_iq_c']]\n",
    "X = sm.add_constant(X)\n",
    "\n",
    "X[-5:]"
   ]
  },
  {
   "cell_type": "code",
   "execution_count": 28,
   "metadata": {
    "colab": {
     "base_uri": "https://localhost:8080/"
    },
    "id": "mYtrgXwJo5KK",
    "outputId": "38504f08-f2d4-4d84-f8f0-b45b87d0c177"
   },
   "outputs": [
    {
     "name": "stdout",
     "output_type": "stream",
     "text": [
      "Fold:  1, Training size: 347, Out-of-sample R-squared: 0.224\n",
      "Fold:  2, Training size: 347, Out-of-sample R-squared: 0.103\n",
      "Fold:  3, Training size: 347, Out-of-sample R-squared: 0.322\n",
      "Fold:  4, Training size: 347, Out-of-sample R-squared: 0.103\n",
      "Fold:  5, Training size: 348, Out-of-sample R-squared: 0.290\n",
      "\n",
      "CV R-squared: 0.208 (+/- 0.092)\n"
     ]
    }
   ],
   "source": [
    "kfold = KFold(n_splits=5, shuffle=True, random_state=123)\n",
    "\n",
    "scores = []\n",
    "for k, (train, test) in enumerate(kfold.split(X, y)):\n",
    "    res1 = sm.OLS(y[train], X.loc[train,:]).fit()\n",
    "    preds = res1.predict(X.loc[test,:])\n",
    "    score = r2_score(y[test], preds)\n",
    "    scores.append(score)\n",
    "    print('Fold: {:2d}, Training size: {}, Out-of-sample R-squared: {:.3f}'.format(k+1, len(y[train]), score))\n",
    "    \n",
    "print('\\nCV R-squared: {:.3f} (+/- {:.3f})'.format(np.mean(scores), np.std(scores)))"
   ]
  },
  {
   "cell_type": "code",
   "execution_count": 29,
   "metadata": {
    "colab": {
     "base_uri": "https://localhost:8080/"
    },
    "id": "AV1Oyh0EqaX3",
    "outputId": "f44e8826-08bb-47c9-d3cd-52c33b3c5274"
   },
   "outputs": [
    {
     "name": "stdout",
     "output_type": "stream",
     "text": [
      "Fold:  1, Training size: 390, Out-of-sample RMSE: 18.557\n",
      "Fold:  2, Training size: 390, Out-of-sample RMSE: 17.975\n",
      "Fold:  3, Training size: 390, Out-of-sample RMSE: 19.506\n",
      "Fold:  4, Training size: 390, Out-of-sample RMSE: 16.829\n",
      "Fold:  5, Training size: 391, Out-of-sample RMSE: 18.527\n",
      "Fold:  6, Training size: 391, Out-of-sample RMSE: 16.476\n",
      "Fold:  7, Training size: 391, Out-of-sample RMSE: 20.745\n",
      "Fold:  8, Training size: 391, Out-of-sample RMSE: 16.658\n",
      "Fold:  9, Training size: 391, Out-of-sample RMSE: 17.683\n",
      "Fold: 10, Training size: 391, Out-of-sample RMSE: 17.010\n",
      "\n",
      "CV RMSE: 17.997 (+/- 1.302)\n"
     ]
    }
   ],
   "source": [
    "kfold = KFold(n_splits=10, shuffle=True, random_state=123)\n",
    "\n",
    "scores = []\n",
    "for k, (train, test) in enumerate(kfold.split(X, y)):\n",
    "    res1 = sm.OLS(y[train], X.loc[train,:]).fit()\n",
    "    preds = res1.predict(X.loc[test,:])\n",
    "    score = mean_squared_error(y[test], preds, squared=False)\n",
    "    scores.append(score)\n",
    "    print('Fold: {:2d}, Training size: {}, Out-of-sample RMSE: {:.3f}'.format(k+1, len(y[train]), score))\n",
    "    \n",
    "print('\\nCV RMSE: {:.3f} (+/- {:.3f})'.format(np.mean(scores), np.std(scores)))"
   ]
  },
  {
   "cell_type": "code",
   "execution_count": null,
   "metadata": {
    "id": "95_psBd-baqk"
   },
   "outputs": [],
   "source": []
  },
  {
   "cell_type": "markdown",
   "metadata": {
    "id": "jQ2R9oUCW4uF"
   },
   "source": [
    "## Kfold cross validation \"by hand\""
   ]
  },
  {
   "cell_type": "markdown",
   "metadata": {
    "id": "Xprh5JNHYCg_"
   },
   "source": [
    "#### R-squared"
   ]
  },
  {
   "cell_type": "code",
   "execution_count": null,
   "metadata": {
    "colab": {
     "base_uri": "https://localhost:8080/"
    },
    "id": "x-x2XBVjFSls",
    "outputId": "647f52a6-397f-4311-e954-924b146a6412"
   },
   "outputs": [
    {
     "name": "stdout",
     "output_type": "stream",
     "text": [
      "Fold:  1, Training size: 347, Out-of-sample R-squared: 0.252\n",
      "Fold:  2, Training size: 347, Out-of-sample R-squared: 0.185\n",
      "Fold:  3, Training size: 347, Out-of-sample R-squared: 0.205\n",
      "Fold:  4, Training size: 347, Out-of-sample R-squared: 0.196\n",
      "Fold:  5, Training size: 348, Out-of-sample R-squared: 0.228\n",
      "\n",
      "CV R-squared: 0.213 (+/- 0.024)\n"
     ]
    }
   ],
   "source": [
    "y = kidiq['kid_score'].values\n",
    "X = kidiq[['mom_hs', 'mom_iq_c']]\n",
    "X = sm.add_constant(X)\n",
    "X = X.values\n",
    "\n",
    "n_samples = len(y)\n",
    "indices = np.arange(n_samples)\n",
    "\n",
    "n_splits = 5\n",
    "num_val_samples = np.full(n_splits, n_samples // n_splits, dtype=int)\n",
    "num_val_samples[: n_samples % n_splits] += 1\n",
    "\n",
    "scores = []\n",
    "for i in range(n_splits):\n",
    "    #print('Fold: {:2d}'.format(i+1))\n",
    "    start =  i      * num_val_samples[i]\n",
    "    stop  = (i + 1) * num_val_samples[i]\n",
    "    #print(start, stop)\n",
    "    y_test = y[indices[start:stop]]\n",
    "    X_test = X[indices[start:stop], :]\n",
    "    #print(indices[start:stop])\n",
    "    #print(y_test.shape, X_test.shape)\n",
    "    y_train = np.concatenate([ y[indices[:start]] , \n",
    "                               y[indices[stop:]] ] , axis=0)\n",
    "    X_train = np.concatenate([ X[indices[:start], :] , \n",
    "                               X[indices[stop:], :] ] , axis=0)\n",
    "    #print(np.concatenate([ indices[:start], indices[stop:] ]))\n",
    "    #print(y_train.shape, X_train.shape)\n",
    "\n",
    "    res1 = sm.OLS(y_train, X_train).fit()\n",
    "    score = res1.rsquared\n",
    "    scores.append(score)\n",
    "    print('Fold: {:2d}, Training size: {}, Out-of-sample R-squared: {:.3f}'.format(i+1, len(y_train), score))\n",
    "\n",
    "print('\\nCV R-squared: {:.3f} (+/- {:.3f})'.format(np.mean(scores), np.std(scores)))"
   ]
  },
  {
   "cell_type": "markdown",
   "metadata": {
    "id": "-uCs-q1tYE-0"
   },
   "source": [
    "#### RMSE"
   ]
  },
  {
   "cell_type": "code",
   "execution_count": null,
   "metadata": {
    "colab": {
     "base_uri": "https://localhost:8080/"
    },
    "id": "vDEldTJxQYAt",
    "outputId": "b02e8d4f-5178-4529-a4c8-cd475d425f4a"
   },
   "outputs": [
    {
     "name": "stdout",
     "output_type": "stream",
     "text": [
      "Fold:  1, Training size: 347, RMSE: 18.242\n",
      "Fold:  2, Training size: 347, RMSE: 17.234\n",
      "Fold:  3, Training size: 347, RMSE: 15.566\n",
      "Fold:  4, Training size: 347, RMSE: 23.994\n",
      "Fold:  5, Training size: 348, RMSE: 18.744\n",
      "\n",
      "CV RMSE: 18.756 (+/- 2.835)\n"
     ]
    }
   ],
   "source": [
    "y = kidiq['kid_score'].values\n",
    "X = kidiq[['mom_hs', 'mom_iq_c']]\n",
    "X = sm.add_constant(X)\n",
    "X = X.values\n",
    "\n",
    "n_samples = len(y)\n",
    "indices = np.arange(n_samples)\n",
    "\n",
    "n_splits = 5\n",
    "num_val_samples = np.full(n_splits, n_samples // n_splits, dtype=int)\n",
    "num_val_samples[: n_samples % n_splits] += 1\n",
    "\n",
    "scores = []\n",
    "for i in range(n_splits):\n",
    "    #print('Fold: {:2d}'.format(i+1))\n",
    "    start =  i      * num_val_samples[i]\n",
    "    stop  = (i + 1) * num_val_samples[i]\n",
    "    #print(start, stop)\n",
    "    y_test = y[indices[start:stop]]\n",
    "    X_test = X[indices[start:stop], :]\n",
    "    #print(indices[start:stop])\n",
    "    #print(y_test.shape, X_test.shape)\n",
    "    y_train = np.concatenate([ y[indices[:start]] , \n",
    "                               y[indices[stop:]] ] , axis=0)\n",
    "    X_train = np.concatenate([ X[indices[:start], :] , \n",
    "                               X[indices[stop:], :] ] , axis=0)\n",
    "    #print(np.concatenate([ indices[:start], indices[stop:] ]))\n",
    "    #print(y_train.shape, X_train.shape)\n",
    "\n",
    "    res1 = sm.OLS(y_train, X_train).fit()\n",
    "    preds = res1.predict(X_test)\n",
    "    score = np.mean((y_test - preds)**2)**0.5\n",
    "    scores.append(score)\n",
    "    print('Fold: {:2d}, Training size: {}, RMSE: {:.3f}'.format(i+1, len(y_train), score))\n",
    "\n",
    "print('\\nCV RMSE: {:.3f} (+/- {:.3f})'.format(np.mean(scores), np.std(scores)))"
   ]
  },
  {
   "cell_type": "markdown",
   "metadata": {
    "id": "Za9khRCnyKjv"
   },
   "source": [
    "## Using scikit-learn"
   ]
  },
  {
   "cell_type": "code",
   "execution_count": null,
   "metadata": {
    "colab": {
     "base_uri": "https://localhost:8080/"
    },
    "id": "WMrga9omv5U8",
    "outputId": "30e30dc2-7783-4b7a-e112-703b546cf0db"
   },
   "outputs": [
    {
     "data": {
      "text/plain": [
       "0       65\n",
       "1       98\n",
       "2       85\n",
       "3       83\n",
       "4      115\n",
       "      ... \n",
       "429     94\n",
       "430     76\n",
       "431     50\n",
       "432     88\n",
       "433     70\n",
       "Name: kid_score, Length: 434, dtype: int64"
      ]
     },
     "execution_count": 272,
     "metadata": {},
     "output_type": "execute_result"
    }
   ],
   "source": [
    "y = kidiq['kid_score']\n",
    "y"
   ]
  },
  {
   "cell_type": "code",
   "execution_count": null,
   "metadata": {
    "colab": {
     "base_uri": "https://localhost:8080/",
     "height": 424
    },
    "id": "-_2K54MVifD9",
    "outputId": "22761a6d-4afb-440a-c8d2-bcd9029b91bd"
   },
   "outputs": [
    {
     "data": {
      "text/html": [
       "\n",
       "  <div id=\"df-df788082-a783-4890-aab3-1acb6649ba84\">\n",
       "    <div class=\"colab-df-container\">\n",
       "      <div>\n",
       "<style scoped>\n",
       "    .dataframe tbody tr th:only-of-type {\n",
       "        vertical-align: middle;\n",
       "    }\n",
       "\n",
       "    .dataframe tbody tr th {\n",
       "        vertical-align: top;\n",
       "    }\n",
       "\n",
       "    .dataframe thead th {\n",
       "        text-align: right;\n",
       "    }\n",
       "</style>\n",
       "<table border=\"1\" class=\"dataframe\">\n",
       "  <thead>\n",
       "    <tr style=\"text-align: right;\">\n",
       "      <th></th>\n",
       "      <th>mom_hs</th>\n",
       "      <th>mom_iq_c</th>\n",
       "    </tr>\n",
       "  </thead>\n",
       "  <tbody>\n",
       "    <tr>\n",
       "      <th>0</th>\n",
       "      <td>1</td>\n",
       "      <td>21.117529</td>\n",
       "    </tr>\n",
       "    <tr>\n",
       "      <th>1</th>\n",
       "      <td>1</td>\n",
       "      <td>-10.638118</td>\n",
       "    </tr>\n",
       "    <tr>\n",
       "      <th>2</th>\n",
       "      <td>1</td>\n",
       "      <td>15.443165</td>\n",
       "    </tr>\n",
       "    <tr>\n",
       "      <th>3</th>\n",
       "      <td>1</td>\n",
       "      <td>-0.550361</td>\n",
       "    </tr>\n",
       "    <tr>\n",
       "      <th>4</th>\n",
       "      <td>1</td>\n",
       "      <td>-7.254290</td>\n",
       "    </tr>\n",
       "    <tr>\n",
       "      <th>...</th>\n",
       "      <td>...</td>\n",
       "      <td>...</td>\n",
       "    </tr>\n",
       "    <tr>\n",
       "      <th>429</th>\n",
       "      <td>0</td>\n",
       "      <td>-15.122588</td>\n",
       "    </tr>\n",
       "    <tr>\n",
       "      <th>430</th>\n",
       "      <td>1</td>\n",
       "      <td>-7.009608</td>\n",
       "    </tr>\n",
       "    <tr>\n",
       "      <th>431</th>\n",
       "      <td>0</td>\n",
       "      <td>-5.140292</td>\n",
       "    </tr>\n",
       "    <tr>\n",
       "      <th>432</th>\n",
       "      <td>1</td>\n",
       "      <td>-3.143376</td>\n",
       "    </tr>\n",
       "    <tr>\n",
       "      <th>433</th>\n",
       "      <td>1</td>\n",
       "      <td>-8.746664</td>\n",
       "    </tr>\n",
       "  </tbody>\n",
       "</table>\n",
       "<p>434 rows × 2 columns</p>\n",
       "</div>\n",
       "      <button class=\"colab-df-convert\" onclick=\"convertToInteractive('df-df788082-a783-4890-aab3-1acb6649ba84')\"\n",
       "              title=\"Convert this dataframe to an interactive table.\"\n",
       "              style=\"display:none;\">\n",
       "        \n",
       "  <svg xmlns=\"http://www.w3.org/2000/svg\" height=\"24px\"viewBox=\"0 0 24 24\"\n",
       "       width=\"24px\">\n",
       "    <path d=\"M0 0h24v24H0V0z\" fill=\"none\"/>\n",
       "    <path d=\"M18.56 5.44l.94 2.06.94-2.06 2.06-.94-2.06-.94-.94-2.06-.94 2.06-2.06.94zm-11 1L8.5 8.5l.94-2.06 2.06-.94-2.06-.94L8.5 2.5l-.94 2.06-2.06.94zm10 10l.94 2.06.94-2.06 2.06-.94-2.06-.94-.94-2.06-.94 2.06-2.06.94z\"/><path d=\"M17.41 7.96l-1.37-1.37c-.4-.4-.92-.59-1.43-.59-.52 0-1.04.2-1.43.59L10.3 9.45l-7.72 7.72c-.78.78-.78 2.05 0 2.83L4 21.41c.39.39.9.59 1.41.59.51 0 1.02-.2 1.41-.59l7.78-7.78 2.81-2.81c.8-.78.8-2.07 0-2.86zM5.41 20L4 18.59l7.72-7.72 1.47 1.35L5.41 20z\"/>\n",
       "  </svg>\n",
       "      </button>\n",
       "      \n",
       "  <style>\n",
       "    .colab-df-container {\n",
       "      display:flex;\n",
       "      flex-wrap:wrap;\n",
       "      gap: 12px;\n",
       "    }\n",
       "\n",
       "    .colab-df-convert {\n",
       "      background-color: #E8F0FE;\n",
       "      border: none;\n",
       "      border-radius: 50%;\n",
       "      cursor: pointer;\n",
       "      display: none;\n",
       "      fill: #1967D2;\n",
       "      height: 32px;\n",
       "      padding: 0 0 0 0;\n",
       "      width: 32px;\n",
       "    }\n",
       "\n",
       "    .colab-df-convert:hover {\n",
       "      background-color: #E2EBFA;\n",
       "      box-shadow: 0px 1px 2px rgba(60, 64, 67, 0.3), 0px 1px 3px 1px rgba(60, 64, 67, 0.15);\n",
       "      fill: #174EA6;\n",
       "    }\n",
       "\n",
       "    [theme=dark] .colab-df-convert {\n",
       "      background-color: #3B4455;\n",
       "      fill: #D2E3FC;\n",
       "    }\n",
       "\n",
       "    [theme=dark] .colab-df-convert:hover {\n",
       "      background-color: #434B5C;\n",
       "      box-shadow: 0px 1px 3px 1px rgba(0, 0, 0, 0.15);\n",
       "      filter: drop-shadow(0px 1px 2px rgba(0, 0, 0, 0.3));\n",
       "      fill: #FFFFFF;\n",
       "    }\n",
       "  </style>\n",
       "\n",
       "      <script>\n",
       "        const buttonEl =\n",
       "          document.querySelector('#df-df788082-a783-4890-aab3-1acb6649ba84 button.colab-df-convert');\n",
       "        buttonEl.style.display =\n",
       "          google.colab.kernel.accessAllowed ? 'block' : 'none';\n",
       "\n",
       "        async function convertToInteractive(key) {\n",
       "          const element = document.querySelector('#df-df788082-a783-4890-aab3-1acb6649ba84');\n",
       "          const dataTable =\n",
       "            await google.colab.kernel.invokeFunction('convertToInteractive',\n",
       "                                                     [key], {});\n",
       "          if (!dataTable) return;\n",
       "\n",
       "          const docLinkHtml = 'Like what you see? Visit the ' +\n",
       "            '<a target=\"_blank\" href=https://colab.research.google.com/notebooks/data_table.ipynb>data table notebook</a>'\n",
       "            + ' to learn more about interactive tables.';\n",
       "          element.innerHTML = '';\n",
       "          dataTable['output_type'] = 'display_data';\n",
       "          await google.colab.output.renderOutput(dataTable, element);\n",
       "          const docLink = document.createElement('div');\n",
       "          docLink.innerHTML = docLinkHtml;\n",
       "          element.appendChild(docLink);\n",
       "        }\n",
       "      </script>\n",
       "    </div>\n",
       "  </div>\n",
       "  "
      ],
      "text/plain": [
       "     mom_hs   mom_iq_c\n",
       "0         1  21.117529\n",
       "1         1 -10.638118\n",
       "2         1  15.443165\n",
       "3         1  -0.550361\n",
       "4         1  -7.254290\n",
       "..      ...        ...\n",
       "429       0 -15.122588\n",
       "430       1  -7.009608\n",
       "431       0  -5.140292\n",
       "432       1  -3.143376\n",
       "433       1  -8.746664\n",
       "\n",
       "[434 rows x 2 columns]"
      ]
     },
     "execution_count": 273,
     "metadata": {},
     "output_type": "execute_result"
    }
   ],
   "source": [
    "X = kidiq[['mom_hs', 'mom_iq_c']]\n",
    "X"
   ]
  },
  {
   "cell_type": "code",
   "execution_count": null,
   "metadata": {
    "colab": {
     "base_uri": "https://localhost:8080/"
    },
    "id": "lbA8fGWNjYjC",
    "outputId": "c06d4ff8-a9ac-47bb-ee60-cdab1a2a90c4"
   },
   "outputs": [
    {
     "data": {
      "text/plain": [
       "LinearRegression()"
      ]
     },
     "execution_count": 274,
     "metadata": {},
     "output_type": "execute_result"
    }
   ],
   "source": [
    "# Create linear regression object\n",
    "lm1 = LinearRegression().fit(X, y)\n",
    "lm1"
   ]
  },
  {
   "cell_type": "code",
   "execution_count": null,
   "metadata": {
    "colab": {
     "base_uri": "https://localhost:8080/"
    },
    "id": "aSaRd5YrmSaI",
    "outputId": "89b30a44-b5e3-4729-aee5-c03ebb65c409"
   },
   "outputs": [
    {
     "data": {
      "text/plain": [
       "{'Intercept': 82.122, 'mom_hs': 5.95, 'mom_iq_c': 0.564}"
      ]
     },
     "execution_count": 275,
     "metadata": {},
     "output_type": "execute_result"
    }
   ],
   "source": [
    "# The coefficients\n",
    "#print(\"Coefficients: \\n\", [round(val,1) for val in reg.coef_.extend(reg.intercept_)]\n",
    "coefs = [round(val, 3) for val in list(np.concatenate((lm1.intercept_, lm1.coef_), axis=None))]\n",
    "features = list(np.concatenate((np.array('Intercept'), lm1.feature_names_in_), axis=None))\n",
    "\n",
    "dict(zip(features, coefs))"
   ]
  },
  {
   "cell_type": "code",
   "execution_count": null,
   "metadata": {
    "colab": {
     "base_uri": "https://localhost:8080/"
    },
    "id": "sH54JBAtvrD5",
    "outputId": "2a9d1e64-722e-442e-94cd-11d5e5b1bd38"
   },
   "outputs": [
    {
     "name": "stdout",
     "output_type": "stream",
     "text": [
      "In-sample R-squared: 0.214\n"
     ]
    }
   ],
   "source": [
    "# The in-sample coefficient of determination: 1 is perfect prediction\n",
    "print(\"In-sample R-squared: %.3f\" % round(lm1.score(X, y), 3))"
   ]
  },
  {
   "cell_type": "code",
   "execution_count": null,
   "metadata": {
    "colab": {
     "base_uri": "https://localhost:8080/"
    },
    "id": "xoLDEUv7wC11",
    "outputId": "6c865040-dcf2-47cb-87d6-1f04e71e5908"
   },
   "outputs": [
    {
     "name": "stdout",
     "output_type": "stream",
     "text": [
      "In-sample RMSE: 18.073\n"
     ]
    }
   ],
   "source": [
    "print(\"In-sample RMSE: %.3f\" % round(mean_squared_error(y, lm1.predict(X), squared=False), 3))"
   ]
  },
  {
   "cell_type": "markdown",
   "metadata": {
    "id": "p8JLJjjrzsO2"
   },
   "source": [
    "## Cross validation using scikit-learn"
   ]
  },
  {
   "cell_type": "markdown",
   "metadata": {
    "id": "veolaYwIa6QB"
   },
   "source": [
    "#### R-squared"
   ]
  },
  {
   "cell_type": "code",
   "execution_count": null,
   "metadata": {
    "colab": {
     "base_uri": "https://localhost:8080/"
    },
    "id": "2JCfqOR7zv-c",
    "outputId": "fe6f920a-a16e-4daf-c91d-87c2c58bd9c3"
   },
   "outputs": [
    {
     "name": "stdout",
     "output_type": "stream",
     "text": [
      "Fold:  1, Training size: 347, Out-of-sample R-squared: 0.205\n",
      "Fold:  2, Training size: 347, Out-of-sample R-squared: 0.070\n",
      "Fold:  3, Training size: 347, Out-of-sample R-squared: 0.302\n",
      "Fold:  4, Training size: 347, Out-of-sample R-squared: 0.137\n",
      "Fold:  5, Training size: 348, Out-of-sample R-squared: 0.264\n",
      "\n",
      "CV R-squared: 0.196 (+/- 0.084)\n"
     ]
    }
   ],
   "source": [
    "kfold = KFold(n_splits=5, shuffle=True, random_state=123)\n",
    "\n",
    "scores = []\n",
    "for k, (train, test) in enumerate(kfold.split(X, y)):\n",
    "    lm1.fit(X.loc[train,:], y[train])\n",
    "    score = lm1.score(X.loc[test,:], y[test])\n",
    "    scores.append(score)\n",
    "    print('Fold: {:2d}, Training size: {}, Out-of-sample R-squared: {:.3f}'.format(k+1, len(y[train]), score))\n",
    "    \n",
    "print('\\nCV R-squared: {:.3f} (+/- {:.3f})'.format(np.mean(scores), np.std(scores)))"
   ]
  },
  {
   "cell_type": "markdown",
   "metadata": {
    "id": "JH3zi9wccP58"
   },
   "source": [
    "#### RMSE"
   ]
  },
  {
   "cell_type": "code",
   "execution_count": null,
   "metadata": {
    "colab": {
     "base_uri": "https://localhost:8080/"
    },
    "id": "__VkVSzEb4d_",
    "outputId": "f8d470fb-9631-47f4-c107-646f4579e449"
   },
   "outputs": [
    {
     "name": "stdout",
     "output_type": "stream",
     "text": [
      "Fold:  1, Training size: 347, Out-of-sample RMSE: 18.394\n",
      "Fold:  2, Training size: 347, Out-of-sample RMSE: 18.640\n",
      "Fold:  3, Training size: 347, Out-of-sample RMSE: 17.431\n",
      "Fold:  4, Training size: 347, Out-of-sample RMSE: 18.849\n",
      "Fold:  5, Training size: 348, Out-of-sample RMSE: 17.594\n",
      "\n",
      "CV RMSE: 18.182 (+/- 1.268)\n"
     ]
    }
   ],
   "source": [
    "kfold = KFold(n_splits=5, shuffle=True, random_state=123)\n",
    "\n",
    "scores = []\n",
    "for k, (train, test) in enumerate(kfold.split(X, y)):\n",
    "    lm1.fit(X.loc[train,:], y[train])\n",
    "    preds = lm1.predict(X.loc[test,:])\n",
    "    score = mean_squared_error(y[test], preds, squared=False)\n",
    "    scores.append(score)\n",
    "    print('Fold: {:2d}, Training size: {}, Out-of-sample RMSE: {:.3f}'.format(k+1, len(y[train]), score))\n",
    "    \n",
    "print('\\nCV RMSE: {:.3f} (+/- {:.3f})'.format(np.mean(scores), np.std(scores, ddof=1) * 2))"
   ]
  },
  {
   "cell_type": "markdown",
   "metadata": {
    "id": "V2QJI-XJr0P6"
   },
   "source": [
    "# Exercise"
   ]
  },
  {
   "cell_type": "markdown",
   "metadata": {
    "id": "frGbED3mr25-"
   },
   "source": [
    "## 1a. Create an interaction term between `mom_hs` and `mom_iq_c`\n",
    "## 1b. Run **5**-fold cross-validation on the expanded model that includes `mom_hs`, `mom_iq_c`, and `mom_hs`*`mom_iq_c`\n",
    "## 1c. Run 10-fold cross-validation on the expanded model, using `RMSE` as the evaluation metric"
   ]
  },
  {
   "cell_type": "code",
   "execution_count": 34,
   "metadata": {
    "colab": {
     "base_uri": "https://localhost:8080/",
     "height": 206
    },
    "id": "ZDGYwBg4zv7U",
    "outputId": "0e049c01-3970-4ca9-da76-84943e89a4b9"
   },
   "outputs": [
    {
     "data": {
      "text/html": [
       "\n",
       "  <div id=\"df-a13c7ce1-3351-4497-a501-9c92fe14e251\">\n",
       "    <div class=\"colab-df-container\">\n",
       "      <div>\n",
       "<style scoped>\n",
       "    .dataframe tbody tr th:only-of-type {\n",
       "        vertical-align: middle;\n",
       "    }\n",
       "\n",
       "    .dataframe tbody tr th {\n",
       "        vertical-align: top;\n",
       "    }\n",
       "\n",
       "    .dataframe thead th {\n",
       "        text-align: right;\n",
       "    }\n",
       "</style>\n",
       "<table border=\"1\" class=\"dataframe\">\n",
       "  <thead>\n",
       "    <tr style=\"text-align: right;\">\n",
       "      <th></th>\n",
       "      <th>mom_hs</th>\n",
       "      <th>mom_iq_c</th>\n",
       "      <th>mom_hs_iq_c</th>\n",
       "    </tr>\n",
       "  </thead>\n",
       "  <tbody>\n",
       "    <tr>\n",
       "      <th>0</th>\n",
       "      <td>1</td>\n",
       "      <td>21.117529</td>\n",
       "      <td>21.117529</td>\n",
       "    </tr>\n",
       "    <tr>\n",
       "      <th>1</th>\n",
       "      <td>1</td>\n",
       "      <td>-10.638118</td>\n",
       "      <td>-10.638118</td>\n",
       "    </tr>\n",
       "    <tr>\n",
       "      <th>2</th>\n",
       "      <td>1</td>\n",
       "      <td>15.443165</td>\n",
       "      <td>15.443165</td>\n",
       "    </tr>\n",
       "    <tr>\n",
       "      <th>3</th>\n",
       "      <td>1</td>\n",
       "      <td>-0.550361</td>\n",
       "      <td>-0.550361</td>\n",
       "    </tr>\n",
       "    <tr>\n",
       "      <th>4</th>\n",
       "      <td>1</td>\n",
       "      <td>-7.254290</td>\n",
       "      <td>-7.254290</td>\n",
       "    </tr>\n",
       "  </tbody>\n",
       "</table>\n",
       "</div>\n",
       "      <button class=\"colab-df-convert\" onclick=\"convertToInteractive('df-a13c7ce1-3351-4497-a501-9c92fe14e251')\"\n",
       "              title=\"Convert this dataframe to an interactive table.\"\n",
       "              style=\"display:none;\">\n",
       "        \n",
       "  <svg xmlns=\"http://www.w3.org/2000/svg\" height=\"24px\"viewBox=\"0 0 24 24\"\n",
       "       width=\"24px\">\n",
       "    <path d=\"M0 0h24v24H0V0z\" fill=\"none\"/>\n",
       "    <path d=\"M18.56 5.44l.94 2.06.94-2.06 2.06-.94-2.06-.94-.94-2.06-.94 2.06-2.06.94zm-11 1L8.5 8.5l.94-2.06 2.06-.94-2.06-.94L8.5 2.5l-.94 2.06-2.06.94zm10 10l.94 2.06.94-2.06 2.06-.94-2.06-.94-.94-2.06-.94 2.06-2.06.94z\"/><path d=\"M17.41 7.96l-1.37-1.37c-.4-.4-.92-.59-1.43-.59-.52 0-1.04.2-1.43.59L10.3 9.45l-7.72 7.72c-.78.78-.78 2.05 0 2.83L4 21.41c.39.39.9.59 1.41.59.51 0 1.02-.2 1.41-.59l7.78-7.78 2.81-2.81c.8-.78.8-2.07 0-2.86zM5.41 20L4 18.59l7.72-7.72 1.47 1.35L5.41 20z\"/>\n",
       "  </svg>\n",
       "      </button>\n",
       "      \n",
       "  <style>\n",
       "    .colab-df-container {\n",
       "      display:flex;\n",
       "      flex-wrap:wrap;\n",
       "      gap: 12px;\n",
       "    }\n",
       "\n",
       "    .colab-df-convert {\n",
       "      background-color: #E8F0FE;\n",
       "      border: none;\n",
       "      border-radius: 50%;\n",
       "      cursor: pointer;\n",
       "      display: none;\n",
       "      fill: #1967D2;\n",
       "      height: 32px;\n",
       "      padding: 0 0 0 0;\n",
       "      width: 32px;\n",
       "    }\n",
       "\n",
       "    .colab-df-convert:hover {\n",
       "      background-color: #E2EBFA;\n",
       "      box-shadow: 0px 1px 2px rgba(60, 64, 67, 0.3), 0px 1px 3px 1px rgba(60, 64, 67, 0.15);\n",
       "      fill: #174EA6;\n",
       "    }\n",
       "\n",
       "    [theme=dark] .colab-df-convert {\n",
       "      background-color: #3B4455;\n",
       "      fill: #D2E3FC;\n",
       "    }\n",
       "\n",
       "    [theme=dark] .colab-df-convert:hover {\n",
       "      background-color: #434B5C;\n",
       "      box-shadow: 0px 1px 3px 1px rgba(0, 0, 0, 0.15);\n",
       "      filter: drop-shadow(0px 1px 2px rgba(0, 0, 0, 0.3));\n",
       "      fill: #FFFFFF;\n",
       "    }\n",
       "  </style>\n",
       "\n",
       "      <script>\n",
       "        const buttonEl =\n",
       "          document.querySelector('#df-a13c7ce1-3351-4497-a501-9c92fe14e251 button.colab-df-convert');\n",
       "        buttonEl.style.display =\n",
       "          google.colab.kernel.accessAllowed ? 'block' : 'none';\n",
       "\n",
       "        async function convertToInteractive(key) {\n",
       "          const element = document.querySelector('#df-a13c7ce1-3351-4497-a501-9c92fe14e251');\n",
       "          const dataTable =\n",
       "            await google.colab.kernel.invokeFunction('convertToInteractive',\n",
       "                                                     [key], {});\n",
       "          if (!dataTable) return;\n",
       "\n",
       "          const docLinkHtml = 'Like what you see? Visit the ' +\n",
       "            '<a target=\"_blank\" href=https://colab.research.google.com/notebooks/data_table.ipynb>data table notebook</a>'\n",
       "            + ' to learn more about interactive tables.';\n",
       "          element.innerHTML = '';\n",
       "          dataTable['output_type'] = 'display_data';\n",
       "          await google.colab.output.renderOutput(dataTable, element);\n",
       "          const docLink = document.createElement('div');\n",
       "          docLink.innerHTML = docLinkHtml;\n",
       "          element.appendChild(docLink);\n",
       "        }\n",
       "      </script>\n",
       "    </div>\n",
       "  </div>\n",
       "  "
      ],
      "text/plain": [
       "   mom_hs   mom_iq_c  mom_hs_iq_c\n",
       "0       1  21.117529    21.117529\n",
       "1       1 -10.638118   -10.638118\n",
       "2       1  15.443165    15.443165\n",
       "3       1  -0.550361    -0.550361\n",
       "4       1  -7.254290    -7.254290"
      ]
     },
     "execution_count": 34,
     "metadata": {},
     "output_type": "execute_result"
    }
   ],
   "source": [
    "y = kidiq['kid_score']\n",
    "\n",
    "kidiq['mom_hs_iq_c'] = kidiq['mom_hs'] * kidiq['mom_iq_c']\n",
    "\n",
    "X = kidiq[['mom_hs', 'mom_iq_c', 'mom_hs_iq_c']]\n",
    "\n",
    "X[:5]"
   ]
  },
  {
   "cell_type": "code",
   "execution_count": 35,
   "metadata": {
    "colab": {
     "base_uri": "https://localhost:8080/"
    },
    "id": "yLiwwAASslX2",
    "outputId": "cc7cf343-6a33-44f5-a519-0797adf1a4c8"
   },
   "outputs": [
    {
     "name": "stdout",
     "output_type": "stream",
     "text": [
      "Fold:  1, Training size: 347, Out-of-sample R-squared: 0.224\n",
      "Fold:  2, Training size: 347, Out-of-sample R-squared: 0.103\n",
      "Fold:  3, Training size: 347, Out-of-sample R-squared: 0.322\n",
      "Fold:  4, Training size: 347, Out-of-sample R-squared: 0.103\n",
      "Fold:  5, Training size: 348, Out-of-sample R-squared: 0.290\n",
      "\n",
      "CV R-squared: 0.208 (+/- 0.092)\n"
     ]
    }
   ],
   "source": [
    "# Create linear regression object\n",
    "lr = LinearRegression()\n",
    "\n",
    "\n",
    "kfold = KFold(n_splits=5, shuffle=True, random_state=123)\n",
    "\n",
    "scores = []\n",
    "for k, (train, test) in enumerate(kfold.split(X, y)):\n",
    "    lr.fit(X.loc[train,:], y[train])\n",
    "    score = lr.score(X.loc[test,:], y[test])\n",
    "    scores.append(score)\n",
    "    print('Fold: {:2d}, Training size: {}, Out-of-sample R-squared: {:.3f}'.format(k+1, len(y[train]), score))\n",
    "    \n",
    "print('\\nCV R-squared: {:.3f} (+/- {:.3f})'.format(np.mean(scores), np.std(scores)))"
   ]
  },
  {
   "cell_type": "code",
   "execution_count": 37,
   "metadata": {
    "colab": {
     "base_uri": "https://localhost:8080/"
    },
    "id": "1KgIrU9WsssP",
    "outputId": "095068cc-6063-4931-b5f8-078ae57c11f2"
   },
   "outputs": [
    {
     "name": "stdout",
     "output_type": "stream",
     "text": [
      "Fold:  1, Training size: 390, Out-of-sample RMSE: 18.557\n",
      "Fold:  2, Training size: 390, Out-of-sample RMSE: 17.975\n",
      "Fold:  3, Training size: 390, Out-of-sample RMSE: 19.506\n",
      "Fold:  4, Training size: 390, Out-of-sample RMSE: 16.829\n",
      "Fold:  5, Training size: 391, Out-of-sample RMSE: 18.527\n",
      "Fold:  6, Training size: 391, Out-of-sample RMSE: 16.476\n",
      "Fold:  7, Training size: 391, Out-of-sample RMSE: 20.745\n",
      "Fold:  8, Training size: 391, Out-of-sample RMSE: 16.658\n",
      "Fold:  9, Training size: 391, Out-of-sample RMSE: 17.683\n",
      "Fold: 10, Training size: 391, Out-of-sample RMSE: 17.010\n",
      "\n",
      "CV RMSE: 17.997 (+/- 2.746)\n"
     ]
    }
   ],
   "source": [
    "# Create linear regression object\n",
    "lr = LinearRegression()\n",
    "\n",
    "\n",
    "kfold = KFold(n_splits=10, shuffle=True, random_state=123)\n",
    "\n",
    "scores = []\n",
    "for k, (train, test) in enumerate(kfold.split(X, y)):\n",
    "    lr.fit(X.loc[train,:], y[train])\n",
    "    preds = lr.predict(X.loc[test,:])\n",
    "    score = mean_squared_error(y[test], preds, squared=False)\n",
    "    scores.append(score)\n",
    "    print('Fold: {:2d}, Training size: {}, Out-of-sample RMSE: {:.3f}'.format(k+1, len(y[train]), score))\n",
    "    \n",
    "print('\\nCV RMSE: {:.3f} (+/- {:.3f})'.format(np.mean(scores), np.std(scores, ddof=1) * 2))"
   ]
  },
  {
   "cell_type": "code",
   "execution_count": null,
   "metadata": {
    "id": "b40LiDZxtMfl"
   },
   "outputs": [],
   "source": []
  }
 ],
 "metadata": {
  "colab": {
   "collapsed_sections": [],
   "name": "Hands on - K-fold validation with statsmodels and scikit-learn - Solutions.ipynb",
   "provenance": []
  },
  "kernelspec": {
   "display_name": "Python 3 (ipykernel)",
   "language": "python",
   "name": "python3"
  },
  "language_info": {
   "codemirror_mode": {
    "name": "ipython",
    "version": 3
   },
   "file_extension": ".py",
   "mimetype": "text/x-python",
   "name": "python",
   "nbconvert_exporter": "python",
   "pygments_lexer": "ipython3",
   "version": "3.8.13"
  }
 },
 "nbformat": 4,
 "nbformat_minor": 1
}
