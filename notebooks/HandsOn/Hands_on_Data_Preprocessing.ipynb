{
  "nbformat": 4,
  "nbformat_minor": 0,
  "metadata": {
    "colab": {
      "name": "Hands on - Data Preprocessing.ipynb",
      "provenance": [],
      "collapsed_sections": []
    },
    "kernelspec": {
      "name": "python3",
      "display_name": "Python 3"
    },
    "language_info": {
      "name": "python"
    }
  },
  "cells": [
    {
      "cell_type": "code",
      "execution_count": 1,
      "metadata": {
        "id": "UCMF-FlUcpK_"
      },
      "outputs": [],
      "source": [
        "# Manage data and statistics\n",
        "import numpy as np\n",
        "from numpy.random import default_rng, SeedSequence\n",
        "import pandas as pd\n",
        "\n",
        "from scipy import stats\n",
        "from scipy.stats import norm, skewnorm, yeojohnson, boxcox, zscore\n",
        "from scipy.stats.mstats import winsorize\n",
        "\n",
        "# Plot data\n",
        "import matplotlib as mpl\n",
        "import matplotlib.pyplot as plt\n",
        "from matplotlib.ticker import FormatStrFormatter\n",
        "import seaborn as sns\n",
        "sns.set(style=\"white\")\n",
        "\n",
        "# Scale variables\n",
        "from sklearn.preprocessing import scale, StandardScaler\n",
        "from sklearn.preprocessing import minmax_scale, MinMaxScaler\n",
        "from sklearn.preprocessing import maxabs_scale, MaxAbsScaler\n",
        "from sklearn.preprocessing import robust_scale, RobustScaler\n",
        "\n",
        "# Transform variables\n",
        "from sklearn.preprocessing import quantile_transform, QuantileTransformer\n",
        "from sklearn.preprocessing import power_transform, PowerTransformer\n",
        "\n",
        "# Encode categorical variables\n",
        "from sklearn.preprocessing import OrdinalEncoder, OneHotEncoder, LabelEncoder\n",
        "\n",
        "# Discretize continuous variables\n",
        "from sklearn.preprocessing import KBinsDiscretizer\n",
        "\n",
        "# Impute missing values\n",
        "from sklearn.impute import SimpleImputer, KNNImputer, MissingIndicator\n",
        "from sklearn.experimental import enable_iterative_imputer\n",
        "from sklearn.impute import IterativeImputer"
      ]
    },
    {
      "cell_type": "code",
      "source": [
        "data = {\n",
        "    'id': [1000, 1001, 1002, 1003, 1004, 1005, 1006],\n",
        "    'date': pd.date_range('4/25/2020', periods=7, freq='D'),\n",
        "    'age': [21, 56, 33, 48, 27, 42, 32],\n",
        "    'income': [67000, 220000, 97000, 166000, 81000, 157000, 96000],\n",
        "    'gender': ['Male', 'Female', 'Female', 'Male', 'Male', 'Female', 'Female'],\n",
        "    'education': ['Bachelors', 'PhD', 'Masters', 'Masters', 'Bachelors', 'Bachelors', 'Bachelors'], \n",
        "    'passed': [False, True, True, True, False, False, True],\n",
        "    'measurement': np.random.randn(7).round(2)\n",
        "}\n",
        "\n",
        "df = pd.DataFrame(data)\n",
        "df"
      ],
      "metadata": {
        "colab": {
          "base_uri": "https://localhost:8080/",
          "height": 269
        },
        "id": "oR_Nebn0dBK0",
        "outputId": "66e6d72c-6693-4c99-cabc-2cf6961ff4f5"
      },
      "execution_count": 2,
      "outputs": [
        {
          "output_type": "execute_result",
          "data": {
            "text/plain": [
              "     id       date  age  income  gender  education  passed  measurement\n",
              "0  1000 2020-04-25   21   67000    Male  Bachelors   False        -0.67\n",
              "1  1001 2020-04-26   56  220000  Female        PhD    True        -0.99\n",
              "2  1002 2020-04-27   33   97000  Female    Masters    True         0.59\n",
              "3  1003 2020-04-28   48  166000    Male    Masters    True         0.04\n",
              "4  1004 2020-04-29   27   81000    Male  Bachelors   False         0.98\n",
              "5  1005 2020-04-30   42  157000  Female  Bachelors   False         0.77\n",
              "6  1006 2020-05-01   32   96000  Female  Bachelors    True         0.11"
            ],
            "text/html": [
              "\n",
              "  <div id=\"df-ca60495c-6344-498a-bcb7-f28796c52d8e\">\n",
              "    <div class=\"colab-df-container\">\n",
              "      <div>\n",
              "<style scoped>\n",
              "    .dataframe tbody tr th:only-of-type {\n",
              "        vertical-align: middle;\n",
              "    }\n",
              "\n",
              "    .dataframe tbody tr th {\n",
              "        vertical-align: top;\n",
              "    }\n",
              "\n",
              "    .dataframe thead th {\n",
              "        text-align: right;\n",
              "    }\n",
              "</style>\n",
              "<table border=\"1\" class=\"dataframe\">\n",
              "  <thead>\n",
              "    <tr style=\"text-align: right;\">\n",
              "      <th></th>\n",
              "      <th>id</th>\n",
              "      <th>date</th>\n",
              "      <th>age</th>\n",
              "      <th>income</th>\n",
              "      <th>gender</th>\n",
              "      <th>education</th>\n",
              "      <th>passed</th>\n",
              "      <th>measurement</th>\n",
              "    </tr>\n",
              "  </thead>\n",
              "  <tbody>\n",
              "    <tr>\n",
              "      <th>0</th>\n",
              "      <td>1000</td>\n",
              "      <td>2020-04-25</td>\n",
              "      <td>21</td>\n",
              "      <td>67000</td>\n",
              "      <td>Male</td>\n",
              "      <td>Bachelors</td>\n",
              "      <td>False</td>\n",
              "      <td>-0.67</td>\n",
              "    </tr>\n",
              "    <tr>\n",
              "      <th>1</th>\n",
              "      <td>1001</td>\n",
              "      <td>2020-04-26</td>\n",
              "      <td>56</td>\n",
              "      <td>220000</td>\n",
              "      <td>Female</td>\n",
              "      <td>PhD</td>\n",
              "      <td>True</td>\n",
              "      <td>-0.99</td>\n",
              "    </tr>\n",
              "    <tr>\n",
              "      <th>2</th>\n",
              "      <td>1002</td>\n",
              "      <td>2020-04-27</td>\n",
              "      <td>33</td>\n",
              "      <td>97000</td>\n",
              "      <td>Female</td>\n",
              "      <td>Masters</td>\n",
              "      <td>True</td>\n",
              "      <td>0.59</td>\n",
              "    </tr>\n",
              "    <tr>\n",
              "      <th>3</th>\n",
              "      <td>1003</td>\n",
              "      <td>2020-04-28</td>\n",
              "      <td>48</td>\n",
              "      <td>166000</td>\n",
              "      <td>Male</td>\n",
              "      <td>Masters</td>\n",
              "      <td>True</td>\n",
              "      <td>0.04</td>\n",
              "    </tr>\n",
              "    <tr>\n",
              "      <th>4</th>\n",
              "      <td>1004</td>\n",
              "      <td>2020-04-29</td>\n",
              "      <td>27</td>\n",
              "      <td>81000</td>\n",
              "      <td>Male</td>\n",
              "      <td>Bachelors</td>\n",
              "      <td>False</td>\n",
              "      <td>0.98</td>\n",
              "    </tr>\n",
              "    <tr>\n",
              "      <th>5</th>\n",
              "      <td>1005</td>\n",
              "      <td>2020-04-30</td>\n",
              "      <td>42</td>\n",
              "      <td>157000</td>\n",
              "      <td>Female</td>\n",
              "      <td>Bachelors</td>\n",
              "      <td>False</td>\n",
              "      <td>0.77</td>\n",
              "    </tr>\n",
              "    <tr>\n",
              "      <th>6</th>\n",
              "      <td>1006</td>\n",
              "      <td>2020-05-01</td>\n",
              "      <td>32</td>\n",
              "      <td>96000</td>\n",
              "      <td>Female</td>\n",
              "      <td>Bachelors</td>\n",
              "      <td>True</td>\n",
              "      <td>0.11</td>\n",
              "    </tr>\n",
              "  </tbody>\n",
              "</table>\n",
              "</div>\n",
              "      <button class=\"colab-df-convert\" onclick=\"convertToInteractive('df-ca60495c-6344-498a-bcb7-f28796c52d8e')\"\n",
              "              title=\"Convert this dataframe to an interactive table.\"\n",
              "              style=\"display:none;\">\n",
              "        \n",
              "  <svg xmlns=\"http://www.w3.org/2000/svg\" height=\"24px\"viewBox=\"0 0 24 24\"\n",
              "       width=\"24px\">\n",
              "    <path d=\"M0 0h24v24H0V0z\" fill=\"none\"/>\n",
              "    <path d=\"M18.56 5.44l.94 2.06.94-2.06 2.06-.94-2.06-.94-.94-2.06-.94 2.06-2.06.94zm-11 1L8.5 8.5l.94-2.06 2.06-.94-2.06-.94L8.5 2.5l-.94 2.06-2.06.94zm10 10l.94 2.06.94-2.06 2.06-.94-2.06-.94-.94-2.06-.94 2.06-2.06.94z\"/><path d=\"M17.41 7.96l-1.37-1.37c-.4-.4-.92-.59-1.43-.59-.52 0-1.04.2-1.43.59L10.3 9.45l-7.72 7.72c-.78.78-.78 2.05 0 2.83L4 21.41c.39.39.9.59 1.41.59.51 0 1.02-.2 1.41-.59l7.78-7.78 2.81-2.81c.8-.78.8-2.07 0-2.86zM5.41 20L4 18.59l7.72-7.72 1.47 1.35L5.41 20z\"/>\n",
              "  </svg>\n",
              "      </button>\n",
              "      \n",
              "  <style>\n",
              "    .colab-df-container {\n",
              "      display:flex;\n",
              "      flex-wrap:wrap;\n",
              "      gap: 12px;\n",
              "    }\n",
              "\n",
              "    .colab-df-convert {\n",
              "      background-color: #E8F0FE;\n",
              "      border: none;\n",
              "      border-radius: 50%;\n",
              "      cursor: pointer;\n",
              "      display: none;\n",
              "      fill: #1967D2;\n",
              "      height: 32px;\n",
              "      padding: 0 0 0 0;\n",
              "      width: 32px;\n",
              "    }\n",
              "\n",
              "    .colab-df-convert:hover {\n",
              "      background-color: #E2EBFA;\n",
              "      box-shadow: 0px 1px 2px rgba(60, 64, 67, 0.3), 0px 1px 3px 1px rgba(60, 64, 67, 0.15);\n",
              "      fill: #174EA6;\n",
              "    }\n",
              "\n",
              "    [theme=dark] .colab-df-convert {\n",
              "      background-color: #3B4455;\n",
              "      fill: #D2E3FC;\n",
              "    }\n",
              "\n",
              "    [theme=dark] .colab-df-convert:hover {\n",
              "      background-color: #434B5C;\n",
              "      box-shadow: 0px 1px 3px 1px rgba(0, 0, 0, 0.15);\n",
              "      filter: drop-shadow(0px 1px 2px rgba(0, 0, 0, 0.3));\n",
              "      fill: #FFFFFF;\n",
              "    }\n",
              "  </style>\n",
              "\n",
              "      <script>\n",
              "        const buttonEl =\n",
              "          document.querySelector('#df-ca60495c-6344-498a-bcb7-f28796c52d8e button.colab-df-convert');\n",
              "        buttonEl.style.display =\n",
              "          google.colab.kernel.accessAllowed ? 'block' : 'none';\n",
              "\n",
              "        async function convertToInteractive(key) {\n",
              "          const element = document.querySelector('#df-ca60495c-6344-498a-bcb7-f28796c52d8e');\n",
              "          const dataTable =\n",
              "            await google.colab.kernel.invokeFunction('convertToInteractive',\n",
              "                                                     [key], {});\n",
              "          if (!dataTable) return;\n",
              "\n",
              "          const docLinkHtml = 'Like what you see? Visit the ' +\n",
              "            '<a target=\"_blank\" href=https://colab.research.google.com/notebooks/data_table.ipynb>data table notebook</a>'\n",
              "            + ' to learn more about interactive tables.';\n",
              "          element.innerHTML = '';\n",
              "          dataTable['output_type'] = 'display_data';\n",
              "          await google.colab.output.renderOutput(dataTable, element);\n",
              "          const docLink = document.createElement('div');\n",
              "          docLink.innerHTML = docLinkHtml;\n",
              "          element.appendChild(docLink);\n",
              "        }\n",
              "      </script>\n",
              "    </div>\n",
              "  </div>\n",
              "  "
            ]
          },
          "metadata": {},
          "execution_count": 2
        }
      ]
    },
    {
      "cell_type": "code",
      "source": [
        "# Insert missing values into the dataset\n",
        "df2 = df.copy()\n",
        "df2.iloc[[3, 5], [2, 4, 5, 6, 7]] = np.nan\n",
        "df2"
      ],
      "metadata": {
        "colab": {
          "base_uri": "https://localhost:8080/",
          "height": 269
        },
        "id": "tlVdd-RhdOuG",
        "outputId": "e7c6b946-0600-49b1-9e12-22e9b35109f9"
      },
      "execution_count": 3,
      "outputs": [
        {
          "output_type": "execute_result",
          "data": {
            "text/plain": [
              "     id       date   age  income  gender  education passed  measurement\n",
              "0  1000 2020-04-25  21.0   67000    Male  Bachelors  False        -0.67\n",
              "1  1001 2020-04-26  56.0  220000  Female        PhD   True        -0.99\n",
              "2  1002 2020-04-27  33.0   97000  Female    Masters   True         0.59\n",
              "3  1003 2020-04-28   NaN  166000     NaN        NaN    NaN          NaN\n",
              "4  1004 2020-04-29  27.0   81000    Male  Bachelors  False         0.98\n",
              "5  1005 2020-04-30   NaN  157000     NaN        NaN    NaN          NaN\n",
              "6  1006 2020-05-01  32.0   96000  Female  Bachelors   True         0.11"
            ],
            "text/html": [
              "\n",
              "  <div id=\"df-ac99d687-0260-48fb-970f-4e85587db1dc\">\n",
              "    <div class=\"colab-df-container\">\n",
              "      <div>\n",
              "<style scoped>\n",
              "    .dataframe tbody tr th:only-of-type {\n",
              "        vertical-align: middle;\n",
              "    }\n",
              "\n",
              "    .dataframe tbody tr th {\n",
              "        vertical-align: top;\n",
              "    }\n",
              "\n",
              "    .dataframe thead th {\n",
              "        text-align: right;\n",
              "    }\n",
              "</style>\n",
              "<table border=\"1\" class=\"dataframe\">\n",
              "  <thead>\n",
              "    <tr style=\"text-align: right;\">\n",
              "      <th></th>\n",
              "      <th>id</th>\n",
              "      <th>date</th>\n",
              "      <th>age</th>\n",
              "      <th>income</th>\n",
              "      <th>gender</th>\n",
              "      <th>education</th>\n",
              "      <th>passed</th>\n",
              "      <th>measurement</th>\n",
              "    </tr>\n",
              "  </thead>\n",
              "  <tbody>\n",
              "    <tr>\n",
              "      <th>0</th>\n",
              "      <td>1000</td>\n",
              "      <td>2020-04-25</td>\n",
              "      <td>21.0</td>\n",
              "      <td>67000</td>\n",
              "      <td>Male</td>\n",
              "      <td>Bachelors</td>\n",
              "      <td>False</td>\n",
              "      <td>-0.67</td>\n",
              "    </tr>\n",
              "    <tr>\n",
              "      <th>1</th>\n",
              "      <td>1001</td>\n",
              "      <td>2020-04-26</td>\n",
              "      <td>56.0</td>\n",
              "      <td>220000</td>\n",
              "      <td>Female</td>\n",
              "      <td>PhD</td>\n",
              "      <td>True</td>\n",
              "      <td>-0.99</td>\n",
              "    </tr>\n",
              "    <tr>\n",
              "      <th>2</th>\n",
              "      <td>1002</td>\n",
              "      <td>2020-04-27</td>\n",
              "      <td>33.0</td>\n",
              "      <td>97000</td>\n",
              "      <td>Female</td>\n",
              "      <td>Masters</td>\n",
              "      <td>True</td>\n",
              "      <td>0.59</td>\n",
              "    </tr>\n",
              "    <tr>\n",
              "      <th>3</th>\n",
              "      <td>1003</td>\n",
              "      <td>2020-04-28</td>\n",
              "      <td>NaN</td>\n",
              "      <td>166000</td>\n",
              "      <td>NaN</td>\n",
              "      <td>NaN</td>\n",
              "      <td>NaN</td>\n",
              "      <td>NaN</td>\n",
              "    </tr>\n",
              "    <tr>\n",
              "      <th>4</th>\n",
              "      <td>1004</td>\n",
              "      <td>2020-04-29</td>\n",
              "      <td>27.0</td>\n",
              "      <td>81000</td>\n",
              "      <td>Male</td>\n",
              "      <td>Bachelors</td>\n",
              "      <td>False</td>\n",
              "      <td>0.98</td>\n",
              "    </tr>\n",
              "    <tr>\n",
              "      <th>5</th>\n",
              "      <td>1005</td>\n",
              "      <td>2020-04-30</td>\n",
              "      <td>NaN</td>\n",
              "      <td>157000</td>\n",
              "      <td>NaN</td>\n",
              "      <td>NaN</td>\n",
              "      <td>NaN</td>\n",
              "      <td>NaN</td>\n",
              "    </tr>\n",
              "    <tr>\n",
              "      <th>6</th>\n",
              "      <td>1006</td>\n",
              "      <td>2020-05-01</td>\n",
              "      <td>32.0</td>\n",
              "      <td>96000</td>\n",
              "      <td>Female</td>\n",
              "      <td>Bachelors</td>\n",
              "      <td>True</td>\n",
              "      <td>0.11</td>\n",
              "    </tr>\n",
              "  </tbody>\n",
              "</table>\n",
              "</div>\n",
              "      <button class=\"colab-df-convert\" onclick=\"convertToInteractive('df-ac99d687-0260-48fb-970f-4e85587db1dc')\"\n",
              "              title=\"Convert this dataframe to an interactive table.\"\n",
              "              style=\"display:none;\">\n",
              "        \n",
              "  <svg xmlns=\"http://www.w3.org/2000/svg\" height=\"24px\"viewBox=\"0 0 24 24\"\n",
              "       width=\"24px\">\n",
              "    <path d=\"M0 0h24v24H0V0z\" fill=\"none\"/>\n",
              "    <path d=\"M18.56 5.44l.94 2.06.94-2.06 2.06-.94-2.06-.94-.94-2.06-.94 2.06-2.06.94zm-11 1L8.5 8.5l.94-2.06 2.06-.94-2.06-.94L8.5 2.5l-.94 2.06-2.06.94zm10 10l.94 2.06.94-2.06 2.06-.94-2.06-.94-.94-2.06-.94 2.06-2.06.94z\"/><path d=\"M17.41 7.96l-1.37-1.37c-.4-.4-.92-.59-1.43-.59-.52 0-1.04.2-1.43.59L10.3 9.45l-7.72 7.72c-.78.78-.78 2.05 0 2.83L4 21.41c.39.39.9.59 1.41.59.51 0 1.02-.2 1.41-.59l7.78-7.78 2.81-2.81c.8-.78.8-2.07 0-2.86zM5.41 20L4 18.59l7.72-7.72 1.47 1.35L5.41 20z\"/>\n",
              "  </svg>\n",
              "      </button>\n",
              "      \n",
              "  <style>\n",
              "    .colab-df-container {\n",
              "      display:flex;\n",
              "      flex-wrap:wrap;\n",
              "      gap: 12px;\n",
              "    }\n",
              "\n",
              "    .colab-df-convert {\n",
              "      background-color: #E8F0FE;\n",
              "      border: none;\n",
              "      border-radius: 50%;\n",
              "      cursor: pointer;\n",
              "      display: none;\n",
              "      fill: #1967D2;\n",
              "      height: 32px;\n",
              "      padding: 0 0 0 0;\n",
              "      width: 32px;\n",
              "    }\n",
              "\n",
              "    .colab-df-convert:hover {\n",
              "      background-color: #E2EBFA;\n",
              "      box-shadow: 0px 1px 2px rgba(60, 64, 67, 0.3), 0px 1px 3px 1px rgba(60, 64, 67, 0.15);\n",
              "      fill: #174EA6;\n",
              "    }\n",
              "\n",
              "    [theme=dark] .colab-df-convert {\n",
              "      background-color: #3B4455;\n",
              "      fill: #D2E3FC;\n",
              "    }\n",
              "\n",
              "    [theme=dark] .colab-df-convert:hover {\n",
              "      background-color: #434B5C;\n",
              "      box-shadow: 0px 1px 3px 1px rgba(0, 0, 0, 0.15);\n",
              "      filter: drop-shadow(0px 1px 2px rgba(0, 0, 0, 0.3));\n",
              "      fill: #FFFFFF;\n",
              "    }\n",
              "  </style>\n",
              "\n",
              "      <script>\n",
              "        const buttonEl =\n",
              "          document.querySelector('#df-ac99d687-0260-48fb-970f-4e85587db1dc button.colab-df-convert');\n",
              "        buttonEl.style.display =\n",
              "          google.colab.kernel.accessAllowed ? 'block' : 'none';\n",
              "\n",
              "        async function convertToInteractive(key) {\n",
              "          const element = document.querySelector('#df-ac99d687-0260-48fb-970f-4e85587db1dc');\n",
              "          const dataTable =\n",
              "            await google.colab.kernel.invokeFunction('convertToInteractive',\n",
              "                                                     [key], {});\n",
              "          if (!dataTable) return;\n",
              "\n",
              "          const docLinkHtml = 'Like what you see? Visit the ' +\n",
              "            '<a target=\"_blank\" href=https://colab.research.google.com/notebooks/data_table.ipynb>data table notebook</a>'\n",
              "            + ' to learn more about interactive tables.';\n",
              "          element.innerHTML = '';\n",
              "          dataTable['output_type'] = 'display_data';\n",
              "          await google.colab.output.renderOutput(dataTable, element);\n",
              "          const docLink = document.createElement('div');\n",
              "          docLink.innerHTML = docLinkHtml;\n",
              "          element.appendChild(docLink);\n",
              "        }\n",
              "      </script>\n",
              "    </div>\n",
              "  </div>\n",
              "  "
            ]
          },
          "metadata": {},
          "execution_count": 3
        }
      ]
    },
    {
      "cell_type": "markdown",
      "source": [
        "## 1a. Create indicator variable for missing values in `age` column\n",
        "## 1b. Fill in missing values in `age` column using `pandas`"
      ],
      "metadata": {
        "id": "cDCvYCosUGZC"
      }
    },
    {
      "cell_type": "code",
      "source": [
        ""
      ],
      "metadata": {
        "id": "tRgMvlCcdTH9"
      },
      "execution_count": 3,
      "outputs": []
    },
    {
      "cell_type": "code",
      "source": [
        ""
      ],
      "metadata": {
        "id": "kRyOrRix4T0z"
      },
      "execution_count": 3,
      "outputs": []
    },
    {
      "cell_type": "code",
      "source": [
        ""
      ],
      "metadata": {
        "id": "QrfLjKbG38ad"
      },
      "execution_count": 3,
      "outputs": []
    },
    {
      "cell_type": "code",
      "source": [
        ""
      ],
      "metadata": {
        "id": "oIoD8CVl568P"
      },
      "execution_count": 3,
      "outputs": []
    },
    {
      "cell_type": "markdown",
      "source": [
        "## 2. Fill in missing values in `age` column using `scikit-learn`"
      ],
      "metadata": {
        "id": "_w8_JWwpUMvn"
      }
    },
    {
      "cell_type": "code",
      "source": [
        ""
      ],
      "metadata": {
        "id": "tv3Wp4jJUQ9E"
      },
      "execution_count": 3,
      "outputs": []
    },
    {
      "cell_type": "markdown",
      "source": [
        "## 3a. Create indicator variable for missing values in `education` column\n",
        "## 3b. Fill in missing values in `education` column using `pandas`"
      ],
      "metadata": {
        "id": "UGbxdVezUXsK"
      }
    },
    {
      "cell_type": "code",
      "source": [
        ""
      ],
      "metadata": {
        "id": "e09QFwuHUa7F"
      },
      "execution_count": 3,
      "outputs": []
    },
    {
      "cell_type": "code",
      "source": [
        ""
      ],
      "metadata": {
        "id": "GTG-9u_17zxy"
      },
      "execution_count": 3,
      "outputs": []
    },
    {
      "cell_type": "code",
      "source": [
        ""
      ],
      "metadata": {
        "id": "HFD3HWSk7zbi"
      },
      "execution_count": 3,
      "outputs": []
    },
    {
      "cell_type": "markdown",
      "source": [
        "## 4. Fill in missing values in `education` column using `scikit-learn`"
      ],
      "metadata": {
        "id": "W7mn71vUUbmP"
      }
    },
    {
      "cell_type": "code",
      "source": [
        ""
      ],
      "metadata": {
        "id": "TtvBF7pFUebI"
      },
      "execution_count": 3,
      "outputs": []
    },
    {
      "cell_type": "markdown",
      "source": [
        "## 5. Create dummy variables based on the `education` column using `pandas`"
      ],
      "metadata": {
        "id": "nvYzgEfQVNfF"
      }
    },
    {
      "cell_type": "code",
      "source": [
        ""
      ],
      "metadata": {
        "id": "QcvXNILQVYwz"
      },
      "execution_count": 3,
      "outputs": []
    },
    {
      "cell_type": "markdown",
      "source": [
        "## 6. Create dummy variables based on the `education` column using `scikit-learn`"
      ],
      "metadata": {
        "id": "U9yAnQlrVbSX"
      }
    },
    {
      "cell_type": "code",
      "source": [
        ""
      ],
      "metadata": {
        "id": "VbuHCgHeVdl2"
      },
      "execution_count": 3,
      "outputs": []
    },
    {
      "cell_type": "markdown",
      "source": [
        "## 7a. Create a centered and scaled version of the `age` column using `pandas`\n",
        "## 7b. Plot the two distributions, original and centered & scaled, side-by-side "
      ],
      "metadata": {
        "id": "E8E8Z94-VsWA"
      }
    },
    {
      "cell_type": "code",
      "source": [
        ""
      ],
      "metadata": {
        "id": "mV6Y3oZHWi9j"
      },
      "execution_count": 3,
      "outputs": []
    },
    {
      "cell_type": "code",
      "source": [
        ""
      ],
      "metadata": {
        "id": "QP0ZISBI_dYA"
      },
      "execution_count": 3,
      "outputs": []
    },
    {
      "cell_type": "code",
      "source": [
        ""
      ],
      "metadata": {
        "id": "2Ldgke1g_4T9"
      },
      "execution_count": 3,
      "outputs": []
    },
    {
      "cell_type": "markdown",
      "source": [
        "### Random normal variable"
      ],
      "metadata": {
        "id": "T5dzTcWEDpAo"
      }
    },
    {
      "cell_type": "code",
      "source": [
        "sq1 = np.random.SeedSequence()\n",
        "sq1.entropy"
      ],
      "metadata": {
        "colab": {
          "base_uri": "https://localhost:8080/"
        },
        "id": "K14DjgTOA9js",
        "outputId": "eae34451-ecf7-43cc-de51-b33ade4a35ac"
      },
      "execution_count": 4,
      "outputs": [
        {
          "output_type": "execute_result",
          "data": {
            "text/plain": [
              "90315492004921468872415768156224651766"
            ]
          },
          "metadata": {},
          "execution_count": 4
        }
      ]
    },
    {
      "cell_type": "code",
      "source": [
        "rng = default_rng(sq1.entropy)"
      ],
      "metadata": {
        "id": "-qSzoBNBBTsn"
      },
      "execution_count": 5,
      "outputs": []
    },
    {
      "cell_type": "code",
      "source": [
        "vals = norm.rvs(loc=55, scale=3, size=1000, random_state=rng)\n",
        "\n",
        "np.round(vals.mean(), 2), np.round(vals.std(), 2)"
      ],
      "metadata": {
        "colab": {
          "base_uri": "https://localhost:8080/"
        },
        "id": "H-TPfIUVA8tG",
        "outputId": "105a612c-b696-4a85-fb6e-234a49a14044"
      },
      "execution_count": 14,
      "outputs": [
        {
          "output_type": "execute_result",
          "data": {
            "text/plain": [
              "(54.96, 2.96)"
            ]
          },
          "metadata": {},
          "execution_count": 14
        }
      ]
    },
    {
      "cell_type": "code",
      "source": [
        "fig, axs = plt.subplots(figsize=(10, 5), ncols=2)\n",
        "\n",
        "axs[0].hist(vals)\n",
        "axs[0].set_title('Raw Values\\nmin: {:.1f} max: {:.1f}'.format( vals.mean(), vals.std() ))\n",
        "\n",
        "vals_cs = (vals - vals.mean()) / vals.std()\n",
        "\n",
        "axs[1].hist(vals_cs)\n",
        "axs[1].set_title('Values (centered & scaled)\\nmin: {:.1f} max: {:.1f}'.format( abs(vals_cs.mean()), vals_cs.std() ));"
      ],
      "metadata": {
        "colab": {
          "base_uri": "https://localhost:8080/",
          "height": 353
        },
        "id": "JZ2VsocnA8mM",
        "outputId": "39c61b4f-e408-4e22-db16-27202683769f"
      },
      "execution_count": 15,
      "outputs": [
        {
          "output_type": "display_data",
          "data": {
            "text/plain": [
              "<Figure size 720x360 with 2 Axes>"
            ],
            "image/png": "[encoded data removed]"
          },
          "metadata": {
            "needs_background": "light"
          }
        }
      ]
    },
    {
      "cell_type": "markdown",
      "source": [
        "## 8a. Transform skewed distribution to Gaussian using `ladder of powers`\n",
        "## 8b. Plot the distributions side-by-side"
      ],
      "metadata": {
        "id": "bvd8jbW_pn3w"
      }
    },
    {
      "cell_type": "code",
      "source": [
        "r = pd.Series(skewnorm.rvs(a=4, loc=10, scale=4, size=1000))\n",
        "\n",
        "r[:10]"
      ],
      "metadata": {
        "id": "IvbZUji_p6Vc",
        "colab": {
          "base_uri": "https://localhost:8080/"
        },
        "outputId": "a5ab62a8-065f-4901-d4f8-ec985f4e704b"
      },
      "execution_count": 8,
      "outputs": [
        {
          "output_type": "execute_result",
          "data": {
            "text/plain": [
              "0    16.679497\n",
              "1    12.027373\n",
              "2    12.454048\n",
              "3    15.262518\n",
              "4    10.469342\n",
              "5    12.246371\n",
              "6    13.142617\n",
              "7    14.399730\n",
              "8    13.330598\n",
              "9    11.205575\n",
              "dtype: float64"
            ]
          },
          "metadata": {},
          "execution_count": 8
        }
      ]
    },
    {
      "cell_type": "code",
      "source": [
        "fig, axs = plt.subplots(figsize=(30, 5), ncols=6)\n",
        "\n",
        "axs[0].hist(np.power(r, 2))\n",
        "axs[0].set_title('$Values^2$\\nmin: {:.1f} max: {:.1f}'.format(np.min(np.power(r, 2)), np.max(np.power(r, 2))))\n",
        "\n",
        "x_min, x_max = np.min(-np.power(r, -0.5)), np.max(r)\n",
        "\n",
        "axs[1].hist(r)\n",
        "axs[1].xaxis.set_major_formatter(FormatStrFormatter('%.1f'))\n",
        "axs[1].set_title('Raw Values:\\nmin: {:.1f} max: {:.1f}'.format(np.min(r), np.max(r)))\n",
        "\n",
        "axs[2].hist(np.power(r, 0.5))\n",
        "axs[2].xaxis.set_major_formatter(FormatStrFormatter('%.1f'))\n",
        "axs[2].set_title('$Values^{0.5}$'+'\\nmin: {0:.1f} max: {1:.1f}'.format(np.min(np.power(r, 0.5)), np.max(np.power(r, 0.5))))\n",
        "\n",
        "axs[3].hist(np.log(r))\n",
        "axs[3].xaxis.set_major_formatter(FormatStrFormatter('%.1f'))\n",
        "axs[3].set_title('$log(Values)$\\nmin: {:.1f} max: {:.1f}'.format(np.min(np.log(r)), np.max(np.log(r))))\n",
        "\n",
        "axs[4].hist(-np.power(r, -0.5))\n",
        "axs[4].xaxis.set_major_formatter(FormatStrFormatter('%.2f'))\n",
        "axs[4].set_title('$-(Values^{-0.5})$'+'\\nmin: {:.2f} max: {:.2f}'.format(np.min(-np.power(r, -0.5)), np.max(-np.power(r, -0.5))))\n",
        "\n",
        "axs[5].hist(-(1/r))\n",
        "axs[5].xaxis.set_major_formatter(FormatStrFormatter('%.2f'))\n",
        "axs[5].set_title('$-(Values^{-1.0})$'+'\\nmin: {:.2f} max: {:.2f}'.format(np.min(-(1/r)), np.max(-(1/r))));"
      ],
      "metadata": {
        "colab": {
          "base_uri": "https://localhost:8080/",
          "height": 358
        },
        "id": "rDnxJuHrpoSf",
        "outputId": "9e31475a-31a3-4ce7-b912-50f6c711cebc"
      },
      "execution_count": 9,
      "outputs": [
        {
          "output_type": "display_data",
          "data": {
            "text/plain": [
              "<Figure size 2160x360 with 6 Axes>"
            ],
            "image/png": "[encoded data removed]"
          },
          "metadata": {
            "needs_background": "light"
          }
        }
      ]
    },
    {
      "cell_type": "markdown",
      "source": [
        "## 9a. Transform skewed distribution to Gaussian using `scipy`\n",
        "## 9b. Plot the distributions, original and transformed, side-by-side"
      ],
      "metadata": {
        "id": "2NwkdWUyYCCh"
      }
    },
    {
      "cell_type": "code",
      "source": [
        "s = pd.Series(skewnorm.rvs(a=4, loc=10, scale=4, size=1000))\n",
        "\n",
        "s[:10]"
      ],
      "metadata": {
        "id": "y_LOeu1RYCsW",
        "colab": {
          "base_uri": "https://localhost:8080/"
        },
        "outputId": "ccb14405-cc60-4d1a-eace-5ed74b0192eb"
      },
      "execution_count": 10,
      "outputs": [
        {
          "output_type": "execute_result",
          "data": {
            "text/plain": [
              "0    17.631926\n",
              "1    14.078924\n",
              "2     9.476765\n",
              "3     9.001072\n",
              "4     9.476080\n",
              "5    10.884933\n",
              "6    11.279898\n",
              "7    12.720947\n",
              "8     9.263371\n",
              "9    18.295826\n",
              "dtype: float64"
            ]
          },
          "metadata": {},
          "execution_count": 10
        }
      ]
    },
    {
      "cell_type": "code",
      "source": [
        ""
      ],
      "metadata": {
        "id": "g6tTFFMUclvv"
      },
      "execution_count": 10,
      "outputs": []
    },
    {
      "cell_type": "code",
      "source": [
        ""
      ],
      "metadata": {
        "id": "uuaEWAIOz44x"
      },
      "execution_count": 10,
      "outputs": []
    },
    {
      "cell_type": "markdown",
      "source": [
        "## 10a. Transform skewed distribution to Gaussian using `scikit-learn`\n",
        "## 10b. Plot the two distributions, original and transformed, side-by-side"
      ],
      "metadata": {
        "id": "QJX39KvZpKF6"
      }
    },
    {
      "cell_type": "code",
      "source": [
        "t = pd.Series(skewnorm.rvs(a=4, loc=10, scale=4, size=1000))\n",
        "\n",
        "t[:10]"
      ],
      "metadata": {
        "id": "uPlYnNRQZ8yN",
        "colab": {
          "base_uri": "https://localhost:8080/"
        },
        "outputId": "83f0ff65-db01-46d6-ec73-073026f5b376"
      },
      "execution_count": 11,
      "outputs": [
        {
          "output_type": "execute_result",
          "data": {
            "text/plain": [
              "0    13.363726\n",
              "1    13.026101\n",
              "2    12.876260\n",
              "3    14.571591\n",
              "4    13.343573\n",
              "5    12.414227\n",
              "6    10.439884\n",
              "7    12.419790\n",
              "8    10.172134\n",
              "9    15.061788\n",
              "dtype: float64"
            ]
          },
          "metadata": {},
          "execution_count": 11
        }
      ]
    },
    {
      "cell_type": "code",
      "source": [
        ""
      ],
      "metadata": {
        "id": "POq-6XDjpUuG"
      },
      "execution_count": 11,
      "outputs": []
    },
    {
      "cell_type": "code",
      "source": [
        ""
      ],
      "metadata": {
        "id": "oKIAZhWzz5WA"
      },
      "execution_count": 11,
      "outputs": []
    },
    {
      "cell_type": "code",
      "source": [
        ""
      ],
      "metadata": {
        "id": "e181Qfcm2NUl"
      },
      "execution_count": 11,
      "outputs": []
    }
  ]
}